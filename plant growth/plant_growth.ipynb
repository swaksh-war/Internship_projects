{
  "cells": [
    {
      "cell_type": "code",
      "execution_count": null,
      "metadata": {
        "id": "btSTCyCKGIVX"
      },
      "outputs": [],
      "source": [
        "!pip install opendatasets"
      ]
    },
    {
      "cell_type": "code",
      "execution_count": null,
      "metadata": {
        "id": "IylUX9vvGX0a"
      },
      "outputs": [],
      "source": [
        "import opendatasets as od"
      ]
    },
    {
      "cell_type": "code",
      "execution_count": null,
      "metadata": {
        "id": "JJUJ5wcDGoGP"
      },
      "outputs": [],
      "source": [
        "url = r'https://www.kaggle.com/competitions/plant-seedlings-classification/data'\n",
        "od.download(url)"
      ]
    },
    {
      "cell_type": "code",
      "execution_count": null,
      "metadata": {
        "id": "WO3U0cIWG16k"
      },
      "outputs": [],
      "source": [
        "images_path = r'/content/plant-seedlings-classification/train/*/*.png'"
      ]
    },
    {
      "cell_type": "code",
      "execution_count": null,
      "metadata": {
        "id": "feFC5AE7L_Ah"
      },
      "outputs": [],
      "source": [
        "import tensorflow as tf\n",
        "import os\n",
        "import pandas as pd\n",
        "import numpy as np\n",
        "from tqdm import tqdm\n",
        "from sklearn.preprocessing import LabelEncoder\n",
        "from keras.utils import np_utils\n",
        "import cv2\n",
        "import imageio\n",
        "import random\n",
        "from glob import glob\n",
        "import matplotlib.pyplot as plt    \n",
        "import seaborn as sns\n",
        "%matplotlib inline"
      ]
    },
    {
      "cell_type": "code",
      "execution_count": null,
      "metadata": {
        "id": "DlABddMhMAZe"
      },
      "outputs": [],
      "source": [
        "images = glob(images_path)\n",
        "\n",
        "img_size = 128\n",
        "train_images = []\n",
        "train_labels = []\n",
        "for i in images:\n",
        "    train_images.append(cv2.resize(cv2.imread(i), (img_size, img_size))) \n",
        "    train_labels.append(i.split('/')[-2])\n",
        "train_X = np.asarray(train_images)\n",
        "train_Y = pd.DataFrame(train_labels)"
      ]
    },
    {
      "cell_type": "code",
      "execution_count": null,
      "metadata": {
        "id": "Lq_ZrReoMe8L"
      },
      "outputs": [],
      "source": [
        "train_Y.rename(columns={0:'species'},inplace=True)\n",
        "_, train_count = np.unique(train_Y,return_counts=True)\n",
        "df = pd.DataFrame(data = train_count)\n",
        "a = train_Y['species'].unique()\n",
        "a = a.tolist()\n",
        "a.sort()\n",
        "df['Index'] = a\n",
        "df.columns = ['Train','Name']\n",
        "df"
      ]
    },
    {
      "cell_type": "code",
      "execution_count": null,
      "metadata": {
        "id": "9C-Nfhu-Mudk"
      },
      "outputs": [],
      "source": [
        "plt.figure(figsize=(10,5))\n",
        "chart = sns.countplot(\n",
        "    data=train_Y,\n",
        "    x='species'\n",
        ")\n",
        "chart.set_xticklabels(chart.get_xticklabels(), rotation=45)"
      ]
    },
    {
      "cell_type": "code",
      "execution_count": null,
      "metadata": {
        "id": "3HeoYyCiM2VY"
      },
      "outputs": [],
      "source": [
        "TRAIN_DIR = r'/content/plant-seedlings-classification/train'\n",
        "CLASSES = [folder[len(TRAIN_DIR) + 1:] for folder in glob(TRAIN_DIR + '/*')]\n",
        "CLASSES.sort()\n",
        "\n",
        "TARGET_SIZE = (64, 64)\n",
        "TARGET_DIMS = (64, 64, 3) # add channel for RGB\n",
        "N_CLASSES = 42\n",
        "VALIDATION_SPLIT = 0.1\n",
        "BATCH_SIZE = 64"
      ]
    },
    {
      "cell_type": "code",
      "execution_count": null,
      "metadata": {
        "id": "_JQj6mhGM_IY"
      },
      "outputs": [],
      "source": [
        "def plot_one_sample_of_each(base_path):\n",
        "    cols = 4\n",
        "    rows = int(np.ceil(len(CLASSES) / 3))\n",
        "    fig = plt.figure(figsize=(16, 20))\n",
        "    \n",
        "    for i in range(len(CLASSES)):\n",
        "        cls = CLASSES[i]\n",
        "        img_path = base_path + '/' + cls + '/**'\n",
        "        path_contents = glob(img_path)\n",
        "    \n",
        "        imgs = random.sample(path_contents, 1)\n",
        "\n",
        "        sp = plt.subplot(rows, cols, i + 1)\n",
        "        plt.imshow(imageio.imread(imgs[0]))\n",
        "        plt.title(cls)\n",
        "        sp.axis('off')\n",
        "\n",
        "    plt.show()"
      ]
    },
    {
      "cell_type": "code",
      "execution_count": null,
      "metadata": {
        "id": "nO1_9LevNA4h"
      },
      "outputs": [],
      "source": [
        "plot_one_sample_of_each(TRAIN_DIR)"
      ]
    },
    {
      "cell_type": "code",
      "execution_count": null,
      "metadata": {
        "id": "nP2Wqcm6NCgx"
      },
      "outputs": [],
      "source": [
        "from sklearn.preprocessing import LabelBinarizer\n",
        "y = LabelBinarizer().fit_transform(train_Y.species)\n",
        "train_label = np.array(y,dtype=np.float32)\n",
        "train_label"
      ]
    },
    {
      "cell_type": "code",
      "execution_count": null,
      "metadata": {
        "id": "Xu8EU_PJNLLm"
      },
      "outputs": [],
      "source": [
        "from sklearn.model_selection import train_test_split\n",
        "X_train,X_test,y_train,y_test = train_test_split(train_X, train_label,test_size=0.3,random_state=7)"
      ]
    },
    {
      "cell_type": "code",
      "execution_count": null,
      "metadata": {
        "id": "becW0wSXNNBo"
      },
      "outputs": [],
      "source": [
        "X_train = X_train.astype('float32') / 255\n",
        "X_test = X_test.astype('float32') / 255"
      ]
    },
    {
      "cell_type": "code",
      "execution_count": null,
      "metadata": {
        "id": "_nucCS_3NRgd"
      },
      "outputs": [],
      "source": [
        "from keras.preprocessing.image import ImageDataGenerator\n",
        "datagen = ImageDataGenerator(\n",
        "        rotation_range=180,  \n",
        "        zoom_range = 0.1,\n",
        "        width_shift_range=0.1,  \n",
        "        height_shift_range=0.1,  \n",
        "        horizontal_flip=True,  \n",
        "        vertical_flip=True  \n",
        "    )  \n",
        "datagen.fit(train_X)"
      ]
    },
    {
      "cell_type": "code",
      "execution_count": null,
      "metadata": {
        "id": "LW4i8wh2NTZh"
      },
      "outputs": [],
      "source": [
        "from os import listdir\n",
        "from os.path import isfile, join\n",
        "import keras\n",
        "from keras.models import Sequential\n",
        "from keras.layers import Dense, Dropout, Activation, Flatten , Conv2D, MaxPool2D, BatchNormalization, MaxPooling2D\n",
        "import matplotlib.pyplot as plt"
      ]
    },
    {
      "cell_type": "code",
      "execution_count": null,
      "metadata": {
        "id": "_8sRheH8NVW4"
      },
      "outputs": [],
      "source": [
        "model0 = Sequential ([\n",
        "(Conv2D(32, kernel_size=(3, 3),\n",
        "            activation = 'relu',\n",
        "            kernel_initializer='he_normal',\n",
        "            input_shape=(128,128,3))),\n",
        "MaxPooling2D((2,2)),(Dropout(0.25)),\n",
        "Conv2D(64,\n",
        "        kernel_size=(3,3),\n",
        "        activation='relu'),\n",
        "MaxPooling2D(pool_size=(2,2)),\n",
        "Dropout(0.3),\n",
        "Conv2D(128, (3,3), activation='relu'),\n",
        "Dropout(0.40),\n",
        "Flatten(),\n",
        "Dense(128, activation='relu'),\n",
        "Dropout(0.3),\n",
        "Dense(12, activation = 'softmax')]) "
      ]
    },
    {
      "cell_type": "code",
      "execution_count": null,
      "metadata": {
        "id": "QtMOzG6vNYdQ"
      },
      "outputs": [],
      "source": [
        "model0.summary()"
      ]
    },
    {
      "cell_type": "code",
      "execution_count": null,
      "metadata": {
        "id": "EvpQ6aI1NcKX"
      },
      "outputs": [],
      "source": [
        "#Saving the best model using model checkpoint callback\n",
        "from keras.callbacks import ModelCheckpoint, EarlyStopping\n",
        "\n",
        "checkpoint = tf.keras.callbacks.ModelCheckpoint('plant_growth_classifier.h5', #where to save the model\n",
        "                                                    save_best_only=True, \n",
        "                                                    monitor='val_accuracy', \n",
        "                                                    mode='max', \n",
        "                                                    verbose = 1)\n",
        "\n",
        "early_stopping = EarlyStopping(monitor='val_loss', patience=10)\n"
      ]
    },
    {
      "cell_type": "code",
      "execution_count": null,
      "metadata": {
        "id": "vZnO-iA5N2aP"
      },
      "outputs": [],
      "source": [
        "model0.compile(optimizer=tf.keras.optimizers.Adam(learning_rate=0.001), \n",
        "              loss='categorical_crossentropy', \n",
        "              metrics= ['accuracy'])\n",
        "batch_size = 32\n",
        "epochs = 30"
      ]
    },
    {
      "cell_type": "code",
      "execution_count": null,
      "metadata": {
        "id": "YRkUSBeON4Lz"
      },
      "outputs": [],
      "source": [
        "history = model0.fit(X_train, y_train ,batch_size=batch_size, epochs=epochs ,validation_data=(X_test, y_test),\n",
        "           callbacks = [early_stopping,checkpoint],\n",
        "                     verbose = 1)"
      ]
    },
    {
      "cell_type": "code",
      "execution_count": null,
      "metadata": {
        "id": "Q-O8hgDzN6SV"
      },
      "outputs": [],
      "source": [
        "plt.plot(history.history['accuracy'])\n",
        "plt.plot(history.history['val_accuracy'])\n",
        "plt.title('model accuracy')\n",
        "plt.ylabel('accuracy')\n",
        "plt.xlabel('epoch')\n",
        "plt.legend(['train', 'val'], loc='upper left')\n",
        "plt.show()"
      ]
    },
    {
      "cell_type": "code",
      "execution_count": null,
      "metadata": {
        "id": "DgNlbs59OdxX"
      },
      "outputs": [],
      "source": [
        "\n",
        "plt.plot(history.history['loss'])\n",
        "plt.plot(history.history['val_loss'])\n",
        "plt.title('model loss')\n",
        "plt.ylabel('loss')\n",
        "plt.xlabel('epoch')\n",
        "plt.legend(['train', 'val'], loc='upper left')\n",
        "plt.show()"
      ]
    },
    {
      "cell_type": "code",
      "execution_count": null,
      "metadata": {
        "id": "4MvEJgjgOeIL"
      },
      "outputs": [],
      "source": [
        "loss, acc = model0.evaluate(X_test,y_test)\n",
        "loss1, acc1 = model0.evaluate(X_train,y_train)\n",
        "print('Test loss:', loss,'   Test accuracy:', acc)\n",
        "print('Train loss:', loss1,'   Train accuracy:',acc1)"
      ]
    },
    {
      "cell_type": "code",
      "execution_count": null,
      "metadata": {
        "id": "8bhf6SK9Oi7M"
      },
      "outputs": [],
      "source": [
        "model0.save('plantgrowthmodel.h5')"
      ]
    }
  ],
  "metadata": {
    "accelerator": "GPU",
    "colab": {
      "private_outputs": true,
      "provenance": []
    },
    "gpuClass": "standard",
    "kernelspec": {
      "display_name": "Python 3",
      "language": "python",
      "name": "python3"
    },
    "language_info": {
      "name": "python",
      "version": "3.10.6 (main, Nov 14 2022, 16:10:14) [GCC 11.3.0]"
    },
    "vscode": {
      "interpreter": {
        "hash": "916dbcbb3f70747c44a77c7bcd40155683ae19c65e1c03b4aa3499c5328201f1"
      }
    }
  },
  "nbformat": 4,
  "nbformat_minor": 0
}
