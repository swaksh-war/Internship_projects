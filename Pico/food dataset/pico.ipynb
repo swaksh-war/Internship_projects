{
 "cells": [
  {
   "cell_type": "code",
   "execution_count": 1,
   "metadata": {},
   "outputs": [],
   "source": [
    "import numpy as np\n",
    "import pandas as pd\n",
    "import matplotlib.pyplot as plt\n",
    "import seaborn as sns"
   ]
  },
  {
   "cell_type": "code",
   "execution_count": 2,
   "metadata": {},
   "outputs": [],
   "source": [
    "dataset_link = r'Emoji Diet Nutritional Data (g) - EmojiFoods (g).csv'"
   ]
  },
  {
   "cell_type": "code",
   "execution_count": 3,
   "metadata": {},
   "outputs": [
    {
     "data": {
      "text/html": [
       "<div>\n",
       "<style scoped>\n",
       "    .dataframe tbody tr th:only-of-type {\n",
       "        vertical-align: middle;\n",
       "    }\n",
       "\n",
       "    .dataframe tbody tr th {\n",
       "        vertical-align: top;\n",
       "    }\n",
       "\n",
       "    .dataframe thead th {\n",
       "        text-align: right;\n",
       "    }\n",
       "</style>\n",
       "<table border=\"1\" class=\"dataframe\">\n",
       "  <thead>\n",
       "    <tr style=\"text-align: right;\">\n",
       "      <th></th>\n",
       "      <th>name</th>\n",
       "      <th>emoji</th>\n",
       "      <th>Calories (kcal)</th>\n",
       "      <th>Carbohydrates (g)</th>\n",
       "      <th>Total Sugar (g)</th>\n",
       "      <th>Protein (g)</th>\n",
       "      <th>Total Fat (g)</th>\n",
       "      <th>Saturated Fat (g)</th>\n",
       "      <th>Monounsaturated Fat (g)</th>\n",
       "      <th>Polyunsaturated Fat (g)</th>\n",
       "      <th>...</th>\n",
       "      <th>Calcium (g)</th>\n",
       "      <th>Copper (mg)</th>\n",
       "      <th>Iron (mg)</th>\n",
       "      <th>Magnesium (mg)</th>\n",
       "      <th>Manganese (mg)</th>\n",
       "      <th>Phosphorus (g)</th>\n",
       "      <th>Potassium (g)</th>\n",
       "      <th>Selenium (ug)</th>\n",
       "      <th>Sodium (g)</th>\n",
       "      <th>Zinc (mg)</th>\n",
       "    </tr>\n",
       "  </thead>\n",
       "  <tbody>\n",
       "    <tr>\n",
       "      <th>0</th>\n",
       "      <td>grapes</td>\n",
       "      <td>🍇</td>\n",
       "      <td>0.69</td>\n",
       "      <td>0.1810</td>\n",
       "      <td>0.1548</td>\n",
       "      <td>0.0072</td>\n",
       "      <td>0.0016</td>\n",
       "      <td>0.00054</td>\n",
       "      <td>0.00007</td>\n",
       "      <td>0.00048</td>\n",
       "      <td>...</td>\n",
       "      <td>0.10</td>\n",
       "      <td>0.00127</td>\n",
       "      <td>0.0036</td>\n",
       "      <td>0.07</td>\n",
       "      <td>0.00071</td>\n",
       "      <td>0.20</td>\n",
       "      <td>1.91</td>\n",
       "      <td>0.001</td>\n",
       "      <td>0.02</td>\n",
       "      <td>0.0007</td>\n",
       "    </tr>\n",
       "    <tr>\n",
       "      <th>1</th>\n",
       "      <td>melon</td>\n",
       "      <td>🍈</td>\n",
       "      <td>0.28</td>\n",
       "      <td>0.0658</td>\n",
       "      <td>0.0569</td>\n",
       "      <td>0.0111</td>\n",
       "      <td>0.0010</td>\n",
       "      <td>0.00025</td>\n",
       "      <td>0.00002</td>\n",
       "      <td>0.00039</td>\n",
       "      <td>...</td>\n",
       "      <td>0.11</td>\n",
       "      <td>0.00060</td>\n",
       "      <td>0.0034</td>\n",
       "      <td>0.11</td>\n",
       "      <td>0.00035</td>\n",
       "      <td>0.05</td>\n",
       "      <td>1.82</td>\n",
       "      <td>0.004</td>\n",
       "      <td>0.09</td>\n",
       "      <td>0.0007</td>\n",
       "    </tr>\n",
       "    <tr>\n",
       "      <th>2</th>\n",
       "      <td>watermelon</td>\n",
       "      <td>🍉</td>\n",
       "      <td>0.30</td>\n",
       "      <td>0.0755</td>\n",
       "      <td>0.0620</td>\n",
       "      <td>0.0061</td>\n",
       "      <td>0.0015</td>\n",
       "      <td>0.00016</td>\n",
       "      <td>0.00037</td>\n",
       "      <td>0.00050</td>\n",
       "      <td>...</td>\n",
       "      <td>0.07</td>\n",
       "      <td>0.00042</td>\n",
       "      <td>0.0024</td>\n",
       "      <td>0.10</td>\n",
       "      <td>0.00038</td>\n",
       "      <td>0.11</td>\n",
       "      <td>1.12</td>\n",
       "      <td>0.004</td>\n",
       "      <td>0.01</td>\n",
       "      <td>0.0010</td>\n",
       "    </tr>\n",
       "    <tr>\n",
       "      <th>3</th>\n",
       "      <td>tangerine</td>\n",
       "      <td>🍊</td>\n",
       "      <td>0.53</td>\n",
       "      <td>0.1334</td>\n",
       "      <td>0.1058</td>\n",
       "      <td>0.0081</td>\n",
       "      <td>0.0031</td>\n",
       "      <td>0.00039</td>\n",
       "      <td>0.00060</td>\n",
       "      <td>0.00065</td>\n",
       "      <td>...</td>\n",
       "      <td>0.37</td>\n",
       "      <td>0.00042</td>\n",
       "      <td>0.0015</td>\n",
       "      <td>0.12</td>\n",
       "      <td>0.00039</td>\n",
       "      <td>0.20</td>\n",
       "      <td>1.66</td>\n",
       "      <td>0.001</td>\n",
       "      <td>0.02</td>\n",
       "      <td>0.0007</td>\n",
       "    </tr>\n",
       "    <tr>\n",
       "      <th>4</th>\n",
       "      <td>lemon</td>\n",
       "      <td>🍋</td>\n",
       "      <td>0.29</td>\n",
       "      <td>0.0932</td>\n",
       "      <td>0.0250</td>\n",
       "      <td>0.0110</td>\n",
       "      <td>0.0030</td>\n",
       "      <td>0.00039</td>\n",
       "      <td>0.00011</td>\n",
       "      <td>0.00089</td>\n",
       "      <td>...</td>\n",
       "      <td>0.26</td>\n",
       "      <td>0.00037</td>\n",
       "      <td>0.0060</td>\n",
       "      <td>0.08</td>\n",
       "      <td>0.00030</td>\n",
       "      <td>0.16</td>\n",
       "      <td>1.38</td>\n",
       "      <td>0.004</td>\n",
       "      <td>0.02</td>\n",
       "      <td>0.0006</td>\n",
       "    </tr>\n",
       "  </tbody>\n",
       "</table>\n",
       "<p>5 rows × 35 columns</p>\n",
       "</div>"
      ],
      "text/plain": [
       "         name emoji  Calories (kcal)  Carbohydrates (g)  Total Sugar (g)  \\\n",
       "0      grapes     🍇             0.69             0.1810           0.1548   \n",
       "1       melon     🍈             0.28             0.0658           0.0569   \n",
       "2  watermelon     🍉             0.30             0.0755           0.0620   \n",
       "3   tangerine     🍊             0.53             0.1334           0.1058   \n",
       "4       lemon     🍋             0.29             0.0932           0.0250   \n",
       "\n",
       "   Protein (g)  Total Fat (g)  Saturated Fat (g)  \\\n",
       "0       0.0072         0.0016            0.00054   \n",
       "1       0.0111         0.0010            0.00025   \n",
       "2       0.0061         0.0015            0.00016   \n",
       "3       0.0081         0.0031            0.00039   \n",
       "4       0.0110         0.0030            0.00039   \n",
       "\n",
       "   Monounsaturated Fat (g)         Polyunsaturated Fat (g)  ...  Calcium (g)  \\\n",
       "0                         0.00007                  0.00048  ...         0.10   \n",
       "1                         0.00002                  0.00039  ...         0.11   \n",
       "2                         0.00037                  0.00050  ...         0.07   \n",
       "3                         0.00060                  0.00065  ...         0.37   \n",
       "4                         0.00011                  0.00089  ...         0.26   \n",
       "\n",
       "   Copper (mg)  Iron (mg)  Magnesium (mg)  Manganese (mg)  Phosphorus (g)  \\\n",
       "0      0.00127     0.0036            0.07         0.00071            0.20   \n",
       "1      0.00060     0.0034            0.11         0.00035            0.05   \n",
       "2      0.00042     0.0024            0.10         0.00038            0.11   \n",
       "3      0.00042     0.0015            0.12         0.00039            0.20   \n",
       "4      0.00037     0.0060            0.08         0.00030            0.16   \n",
       "\n",
       "   Potassium (g)  Selenium (ug)  Sodium (g)  Zinc (mg)  \n",
       "0           1.91          0.001        0.02     0.0007  \n",
       "1           1.82          0.004        0.09     0.0007  \n",
       "2           1.12          0.004        0.01     0.0010  \n",
       "3           1.66          0.001        0.02     0.0007  \n",
       "4           1.38          0.004        0.02     0.0006  \n",
       "\n",
       "[5 rows x 35 columns]"
      ]
     },
     "execution_count": 3,
     "metadata": {},
     "output_type": "execute_result"
    }
   ],
   "source": [
    "df = pd.read_csv(dataset_link)\n",
    "df.head()"
   ]
  },
  {
   "cell_type": "code",
   "execution_count": 4,
   "metadata": {},
   "outputs": [],
   "source": [
    "from sklearn.cluster import KMeans\n",
    "import sklearn.preprocessing as sp"
   ]
  },
  {
   "cell_type": "code",
   "execution_count": 5,
   "metadata": {},
   "outputs": [
    {
     "name": "stdout",
     "output_type": "stream",
     "text": [
      "<class 'pandas.core.frame.DataFrame'>\n",
      "RangeIndex: 58 entries, 0 to 57\n",
      "Data columns (total 36 columns):\n",
      " #   Column                          Non-Null Count  Dtype  \n",
      "---  ------                          --------------  -----  \n",
      " 0   name                            58 non-null     object \n",
      " 1   emoji                           58 non-null     object \n",
      " 2   Calories (kcal)                 58 non-null     float64\n",
      " 3   Carbohydrates (g)               58 non-null     float64\n",
      " 4   Total Sugar (g)                 58 non-null     float64\n",
      " 5   Protein (g)                     58 non-null     float64\n",
      " 6   Total Fat (g)                   58 non-null     float64\n",
      " 7   Saturated Fat (g)               58 non-null     float64\n",
      " 8   Monounsaturated Fat (g)         58 non-null     float64\n",
      " 9   Polyunsaturated Fat (g)         58 non-null     float64\n",
      " 10  Total Fiber (g)                 58 non-null     float64\n",
      " 11  Cholesterol (mg)                58 non-null     float64\n",
      " 12  Vitamin B6 (mg)                 58 non-null     float64\n",
      " 13  Vitamin A (IU)                  58 non-null     float64\n",
      " 14  Vitamin B12 (ug)                58 non-null     float64\n",
      " 15  Vitamin C (mg)                  58 non-null     float64\n",
      " 16  Vitamin D (IU)                  58 non-null     float64\n",
      " 17  Vitamin E (IU)                  58 non-null     float64\n",
      " 18  Vitamin K (ug)                  58 non-null     float64\n",
      " 19  Thiamin (mg)                    58 non-null     float64\n",
      " 20  Riboflavin (mg)                 58 non-null     float64\n",
      " 21  Niacin (mg)                     58 non-null     float64\n",
      " 22  Folate (ug)                     58 non-null     float64\n",
      " 23  Pantothenic Acid (mg)           58 non-null     float64\n",
      " 24  Choline (mg)                    58 non-null     float64\n",
      " 25  Calcium (g)                     58 non-null     float64\n",
      " 26  Copper (mg)                     58 non-null     float64\n",
      " 27  Iron (mg)                       58 non-null     float64\n",
      " 28  Magnesium (mg)                  58 non-null     float64\n",
      " 29  Manganese (mg)                  58 non-null     float64\n",
      " 30  Phosphorus (g)                  58 non-null     float64\n",
      " 31  Potassium (g)                   58 non-null     float64\n",
      " 32  Selenium (ug)                   58 non-null     float64\n",
      " 33  Sodium (g)                      58 non-null     float64\n",
      " 34  Zinc (mg)                       58 non-null     float64\n",
      " 35  labels                          58 non-null     int64  \n",
      "dtypes: float64(33), int64(1), object(2)\n",
      "memory usage: 16.4+ KB\n"
     ]
    }
   ],
   "source": [
    "labels =[0,0,0,0,0,0,0,0,0,0,\n",
    "         0,0,0,0,1,0,1,1,1,1,\n",
    "         1,1,1,1,1,2,2,2,2,3,\n",
    "         3,3,3,4,4,4,4,4,4,4,\n",
    "         2,2,2,3,5,5,5,5,5,5,\n",
    "         5,5,6,6,6,6,6,6]\n",
    "len(labels)\n",
    "\n",
    "df['labels']= labels\n",
    "df.info()"
   ]
  },
  {
   "cell_type": "code",
   "execution_count": 6,
   "metadata": {},
   "outputs": [],
   "source": [
    "X = df.iloc[:, 2:11]\n",
    "y = df['labels']"
   ]
  },
  {
   "cell_type": "code",
   "execution_count": 7,
   "metadata": {},
   "outputs": [],
   "source": [
    "from sklearn.model_selection import train_test_split\n",
    "from sklearn.metrics import accuracy_score"
   ]
  },
  {
   "cell_type": "code",
   "execution_count": 8,
   "metadata": {},
   "outputs": [],
   "source": [
    "X_train, X_test, y_train, y_test = train_test_split(X, y, test_size=0.2, random_state=42)"
   ]
  },
  {
   "cell_type": "code",
   "execution_count": 9,
   "metadata": {},
   "outputs": [],
   "source": [
    "from sklearn.ensemble import RandomForestClassifier\n",
    "from sklearn.linear_model import LogisticRegression\n",
    "from sklearn.linear_model import Lasso\n",
    "from sklearn.neural_network import MLPClassifier\n",
    "from sklearn.svm import SVC"
   ]
  },
  {
   "cell_type": "code",
   "execution_count": 10,
   "metadata": {},
   "outputs": [],
   "source": [
    "rf = RandomForestClassifier()\n",
    "lr = LogisticRegression()\n",
    "lasso_regression = LogisticRegression(penalty='l2')\n",
    "mlp = MLPClassifier()\n",
    "standard_scaler = SVC()"
   ]
  },
  {
   "cell_type": "code",
   "execution_count": 11,
   "metadata": {},
   "outputs": [
    {
     "data": {
      "text/plain": [
       "0.8333333333333334"
      ]
     },
     "execution_count": 11,
     "metadata": {},
     "output_type": "execute_result"
    }
   ],
   "source": [
    "rf.fit(X_train, y_train)\n",
    "y_pred = rf.predict(X_test)\n",
    "rf_acc = accuracy_score(y_test, y_pred)\n",
    "rf_acc"
   ]
  },
  {
   "cell_type": "code",
   "execution_count": 12,
   "metadata": {},
   "outputs": [
    {
     "data": {
      "text/plain": [
       "0.6666666666666666"
      ]
     },
     "execution_count": 12,
     "metadata": {},
     "output_type": "execute_result"
    }
   ],
   "source": [
    "lr.fit(X_train, y_train)\n",
    "y_pred = lr.predict(X_test)\n",
    "lr_acc = accuracy_score(y_test, y_pred)\n",
    "lr_acc"
   ]
  },
  {
   "cell_type": "code",
   "execution_count": 13,
   "metadata": {},
   "outputs": [
    {
     "data": {
      "text/plain": [
       "0.6666666666666666"
      ]
     },
     "execution_count": 13,
     "metadata": {},
     "output_type": "execute_result"
    }
   ],
   "source": [
    "lasso_regression.fit(X_train, y_train)\n",
    "y_pred = lasso_regression.predict(X_test)\n",
    "lasso_acc = accuracy_score(y_test, y_pred)\n",
    "lasso_acc"
   ]
  },
  {
   "cell_type": "code",
   "execution_count": 14,
   "metadata": {},
   "outputs": [
    {
     "name": "stderr",
     "output_type": "stream",
     "text": [
      "/home/dingo/.local/lib/python3.10/site-packages/sklearn/neural_network/_multilayer_perceptron.py:702: ConvergenceWarning: Stochastic Optimizer: Maximum iterations (200) reached and the optimization hasn't converged yet.\n",
      "  warnings.warn(\n"
     ]
    },
    {
     "data": {
      "text/plain": [
       "0.75"
      ]
     },
     "execution_count": 14,
     "metadata": {},
     "output_type": "execute_result"
    }
   ],
   "source": [
    "mlp.fit(X_train, y_train)\n",
    "y_pred = mlp.predict(X_test)\n",
    "mlp_acc = accuracy_score(y_test, y_pred)\n",
    "mlp_acc"
   ]
  },
  {
   "cell_type": "code",
   "execution_count": 15,
   "metadata": {},
   "outputs": [
    {
     "data": {
      "text/plain": [
       "0.6666666666666666"
      ]
     },
     "execution_count": 15,
     "metadata": {},
     "output_type": "execute_result"
    }
   ],
   "source": [
    "standard_scaler.fit(X_train, y_train)\n",
    "y_pred = standard_scaler.predict(X_test)\n",
    "standard_scaler_acc = accuracy_score(y_test, y_pred)\n",
    "standard_scaler_acc"
   ]
  },
  {
   "cell_type": "code",
   "execution_count": 18,
   "metadata": {},
   "outputs": [],
   "source": [
    "rf, logistic, lasso, standard, mlp = 83, 66, 66, 66, 75"
   ]
  },
  {
   "cell_type": "code",
   "execution_count": 19,
   "metadata": {},
   "outputs": [
    {
     "name": "stderr",
     "output_type": "stream",
     "text": [
      "/home/dingo/.local/lib/python3.10/site-packages/seaborn/_decorators.py:36: FutureWarning: Pass the following variables as keyword args: x, y. From version 0.12, the only valid positional argument will be `data`, and passing other arguments without an explicit keyword will result in an error or misinterpretation.\n",
      "  warnings.warn(\n"
     ]
    },
    {
     "data": {
      "text/plain": [
       "(0.0, 100.0)"
      ]
     },
     "execution_count": 19,
     "metadata": {},
     "output_type": "execute_result"
    },
    {
     "data": {
      "image/png": "[encoded data removed]",
      "text/plain": [
       "<Figure size 432x288 with 1 Axes>"
      ]
     },
     "metadata": {
      "needs_background": "light"
     },
     "output_type": "display_data"
    }
   ],
   "source": [
    "ax = sns.barplot(['Random Forest', 'Lasso Regression'], [rf, lasso])\n",
    "ax.set_title('Accuracy Comparison')\n",
    "ax.set_ylabel('Accuracy')\n",
    "ax.set_ylim(0, 100)"
   ]
  },
  {
   "cell_type": "code",
   "execution_count": 20,
   "metadata": {},
   "outputs": [
    {
     "name": "stderr",
     "output_type": "stream",
     "text": [
      "/home/dingo/.local/lib/python3.10/site-packages/seaborn/_decorators.py:36: FutureWarning: Pass the following variables as keyword args: x, y. From version 0.12, the only valid positional argument will be `data`, and passing other arguments without an explicit keyword will result in an error or misinterpretation.\n",
      "  warnings.warn(\n"
     ]
    },
    {
     "data": {
      "text/plain": [
       "(0.0, 100.0)"
      ]
     },
     "execution_count": 20,
     "metadata": {},
     "output_type": "execute_result"
    },
    {
     "data": {
      "image/png": "[encoded data removed]",
      "text/plain": [
       "<Figure size 432x288 with 1 Axes>"
      ]
     },
     "metadata": {
      "needs_background": "light"
     },
     "output_type": "display_data"
    }
   ],
   "source": [
    "ax = sns.barplot(['Random Forest', 'MLPClassifier'], [rf, mlp])\n",
    "ax.set_title('Accuracy Comparison')\n",
    "ax.set_ylabel('Accuracy')\n",
    "ax.set_ylim(0, 100)"
   ]
  },
  {
   "cell_type": "code",
   "execution_count": 21,
   "metadata": {},
   "outputs": [
    {
     "name": "stderr",
     "output_type": "stream",
     "text": [
      "/home/dingo/.local/lib/python3.10/site-packages/seaborn/_decorators.py:36: FutureWarning: Pass the following variables as keyword args: x, y. From version 0.12, the only valid positional argument will be `data`, and passing other arguments without an explicit keyword will result in an error or misinterpretation.\n",
      "  warnings.warn(\n"
     ]
    },
    {
     "data": {
      "text/plain": [
       "(0.0, 100.0)"
      ]
     },
     "execution_count": 21,
     "metadata": {},
     "output_type": "execute_result"
    },
    {
     "data": {
      "image/png": "[encoded data removed]",
      "text/plain": [
       "<Figure size 432x288 with 1 Axes>"
      ]
     },
     "metadata": {
      "needs_background": "light"
     },
     "output_type": "display_data"
    }
   ],
   "source": [
    "ax = sns.barplot(['Random Forest', 'Standard Scaler'], [rf, standard])\n",
    "ax.set_title('Accuracy Comparison')\n",
    "ax.set_ylabel('Accuracy')\n",
    "ax.set_ylim(0, 100)"
   ]
  },
  {
   "cell_type": "code",
   "execution_count": 22,
   "metadata": {},
   "outputs": [
    {
     "name": "stderr",
     "output_type": "stream",
     "text": [
      "/home/dingo/.local/lib/python3.10/site-packages/seaborn/_decorators.py:36: FutureWarning: Pass the following variables as keyword args: x, y. From version 0.12, the only valid positional argument will be `data`, and passing other arguments without an explicit keyword will result in an error or misinterpretation.\n",
      "  warnings.warn(\n"
     ]
    },
    {
     "data": {
      "text/plain": [
       "(0.0, 100.0)"
      ]
     },
     "execution_count": 22,
     "metadata": {},
     "output_type": "execute_result"
    },
    {
     "data": {
      "image/png": "[encoded data removed]",
      "text/plain": [
       "<Figure size 432x288 with 1 Axes>"
      ]
     },
     "metadata": {
      "needs_background": "light"
     },
     "output_type": "display_data"
    }
   ],
   "source": [
    "ax = sns.barplot(['Random Forest', 'Logistic Regression'], [rf, logistic])\n",
    "ax.set_title('Accuracy Comparison')\n",
    "ax.set_ylabel('Accuracy')\n",
    "ax.set_ylim(0, 100)"
   ]
  }
 ],
 "metadata": {
  "kernelspec": {
   "display_name": "Python 3",
   "language": "python",
   "name": "python3"
  },
  "language_info": {
   "codemirror_mode": {
    "name": "ipython",
    "version": 3
   },
   "file_extension": ".py",
   "mimetype": "text/x-python",
   "name": "python",
   "nbconvert_exporter": "python",
   "pygments_lexer": "ipython3",
   "version": "3.10.6"
  },
  "orig_nbformat": 4,
  "vscode": {
   "interpreter": {
    "hash": "916dbcbb3f70747c44a77c7bcd40155683ae19c65e1c03b4aa3499c5328201f1"
   }
  }
 },
 "nbformat": 4,
 "nbformat_minor": 2
}
