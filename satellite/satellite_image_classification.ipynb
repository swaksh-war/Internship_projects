{
  "nbformat": 4,
  "nbformat_minor": 0,
  "metadata": {
    "colab": {
      "private_outputs": true,
      "provenance": []
    },
    "kernelspec": {
      "name": "python3",
      "display_name": "Python 3"
    },
    "language_info": {
      "name": "python"
    },
    "accelerator": "GPU",
    "gpuClass": "standard"
  },
  "cells": [
    {
      "cell_type": "code",
      "execution_count": null,
      "metadata": {
        "id": "jUVslRZggSjw"
      },
      "outputs": [],
      "source": [
        "!pip install opendatasets"
      ]
    },
    {
      "cell_type": "code",
      "source": [
        "import opendatasets as od"
      ],
      "metadata": {
        "id": "1x62SfEbi-yu"
      },
      "execution_count": null,
      "outputs": []
    },
    {
      "cell_type": "code",
      "source": [
        "url = 'https://www.kaggle.com/datasets/mahmoudreda55/satellite-image-classification'\n",
        "od.download(url)"
      ],
      "metadata": {
        "id": "xnB4D0V5jBX_"
      },
      "execution_count": null,
      "outputs": []
    },
    {
      "cell_type": "code",
      "source": [
        "train_path = r'/content/satellite-image-classification/data'"
      ],
      "metadata": {
        "id": "C84uQfdQjis8"
      },
      "execution_count": null,
      "outputs": []
    },
    {
      "cell_type": "code",
      "source": [
        "import matplotlib.pyplot as plt\n",
        "import matplotlib.image as mpimg"
      ],
      "metadata": {
        "id": "h2I_JOPPkkpp"
      },
      "execution_count": null,
      "outputs": []
    },
    {
      "cell_type": "code",
      "source": [
        "img = mpimg.imread('/content/satellite-image-classification/data/cloudy/train_10021.jpg')\n",
        "print(img)"
      ],
      "metadata": {
        "id": "D3lKQfnIlkVG"
      },
      "execution_count": null,
      "outputs": []
    },
    {
      "cell_type": "code",
      "source": [
        "imgplot = plt.imshow(img)"
      ],
      "metadata": {
        "id": "5siLTQWKlwCV"
      },
      "execution_count": null,
      "outputs": []
    },
    {
      "cell_type": "code",
      "source": [
        "import tensorflow as tf\n",
        "from keras.models import Sequential\n",
        "from keras.models import Model\n",
        "from keras import optimizers, losses, activations, models\n",
        "from keras.layers import Convolution2D, Dense, Input, Flatten, Dropout, MaxPooling2D, GlobalAveragePooling2D\n",
        "from tensorflow.keras.applications import InceptionV3\n",
        "\n",
        "base_model = InceptionV3(weights='imagenet', \n",
        "                                include_top=False, \n",
        "                                input_shape=(150, 150,3))\n",
        "base_model.trainable = False\n",
        "\n",
        "add_model = Sequential()\n",
        "add_model.add(base_model)\n",
        "add_model.add(GlobalAveragePooling2D())\n",
        "add_model.add(Dropout(0.2))\n",
        "add_model.add(Dense(4, \n",
        "                    activation='softmax'))\n",
        "\n",
        "model = add_model\n",
        "model.compile(loss='categorical_crossentropy', \n",
        "              optimizer=tf.keras.optimizers.SGD(learning_rate=1e-4, \n",
        "              momentum=0.9),\n",
        "              metrics=['accuracy'])\n",
        "model.summary()"
      ],
      "metadata": {
        "id": "AFbUBikClyUX"
      },
      "execution_count": null,
      "outputs": []
    },
    {
      "cell_type": "code",
      "source": [
        "from tensorflow.keras.preprocessing.image import ImageDataGenerator\n",
        "from keras.applications.inception_v3 import preprocess_input\n",
        "\n",
        "#Normalize the data\n",
        "\n",
        "#Using Augmentaion\n",
        "image_datagen = ImageDataGenerator(rescale=1./255,\n",
        "      rotation_range=30,\n",
        "      width_shift_range=0.2,\n",
        "      height_shift_range=0.2,\n",
        "      shear_range=0.2,\n",
        "      zoom_range=0.2,\n",
        "      horizontal_flip=True,\n",
        "      fill_mode='nearest', \n",
        "      validation_split=0.2,)\n",
        "\n",
        "\n",
        "train_dataset = image_datagen.flow_from_directory(batch_size=32,\n",
        "                                                 directory='/content/satellite-image-classification/data',\n",
        "                                                 shuffle=True,\n",
        "                                                 target_size=(150, 150), \n",
        "                                                 subset=\"training\",\n",
        "                                                 class_mode='categorical')\n",
        "\n",
        "validation_dataset = image_datagen.flow_from_directory(batch_size=32,\n",
        "                                                 directory='/content/satellite-image-classification/data',\n",
        "                                                 shuffle=True,\n",
        "                                                 target_size=(150, 150), \n",
        "                                                 subset=\"validation\",\n",
        "                                                 class_mode='categorical')"
      ],
      "metadata": {
        "id": "o5gcfCnol4cB"
      },
      "execution_count": null,
      "outputs": []
    },
    {
      "cell_type": "code",
      "source": [
        "history = model.fit(\n",
        "            train_dataset,\n",
        "            epochs=20,\n",
        "            validation_data=validation_dataset,\n",
        "            )"
      ],
      "metadata": {
        "id": "u_T-cT5pmIQF"
      },
      "execution_count": null,
      "outputs": []
    },
    {
      "cell_type": "code",
      "source": [
        "import matplotlib.pyplot as plt\n",
        "\n",
        "# Plot the model results\n",
        "acc = history.history['accuracy']\n",
        "val_acc = history.history['val_accuracy']\n",
        "loss = history.history['loss']\n",
        "val_loss = history.history['val_loss']\n",
        "\n",
        "epochs = range(len(acc))\n",
        "\n",
        "plt.plot(epochs, acc, 'r', label='Training accuracy')\n",
        "plt.plot(epochs, val_acc, 'b', label='Validation accuracy')\n",
        "plt.title('Training and validation accuracy')\n",
        "\n",
        "plt.figure()\n",
        "\n",
        "plt.plot(epochs, loss, 'r', label='Training Loss')\n",
        "plt.plot(epochs, val_loss, 'b', label='Validation Loss')\n",
        "plt.title('Training and validation loss')\n",
        "plt.legend()\n",
        "\n",
        "plt.show()"
      ],
      "metadata": {
        "id": "lUOOEBFEmLxk"
      },
      "execution_count": null,
      "outputs": []
    },
    {
      "cell_type": "code",
      "source": [
        "model.save('satelite_image_classification.h5')"
      ],
      "metadata": {
        "id": "4T3g9K7bo6HV"
      },
      "execution_count": null,
      "outputs": []
    },
    {
      "cell_type": "code",
      "source": [
        "cloudy_path = r'/content/satellite-image-classification/data/cloudy'\n",
        "desert_path = r'/content/satellite-image-classification/data/desert'\n",
        "green_area_path = r'/content/satellite-image-classification/data/green_area'\n",
        "water_path = r'/content/satellite-image-classification/data/water'"
      ],
      "metadata": {
        "id": "jF7gOm6Dr_CM"
      },
      "execution_count": null,
      "outputs": []
    },
    {
      "cell_type": "code",
      "source": [
        "import cv2\n",
        "import os"
      ],
      "metadata": {
        "id": "GfAp_tiTstUv"
      },
      "execution_count": null,
      "outputs": []
    },
    {
      "cell_type": "code",
      "source": [
        "images = []\n",
        "labels = []"
      ],
      "metadata": {
        "id": "Bbx8LTO7t0Og"
      },
      "execution_count": null,
      "outputs": []
    },
    {
      "cell_type": "code",
      "source": [
        "for i in os.listdir(cloudy_path):\n",
        "  img = cv2.imread(cloudy_path + '/' + i, 0)\n",
        "  img = cv2.resize(img, (64,64))\n",
        "  img = img/255\n",
        "  img = img.flatten()\n",
        "  images.append(img)\n",
        "  labels.append(0)\n",
        "\n",
        "for i in os.listdir(desert_path):\n",
        "  img = cv2.imread(desert_path + '/' + i, 0)\n",
        "  img = cv2.resize(img, (64,64))\n",
        "  img = img/255\n",
        "  img = img.flatten()\n",
        "  images.append(img)\n",
        "  labels.append(1)\n",
        "\n",
        "for i in os.listdir(green_area_path):\n",
        "  img = cv2.imread(green_area_path + '/' + i, 0)\n",
        "  img = cv2.resize(img, (64,64))\n",
        "  img = img/255\n",
        "  img = img.flatten()\n",
        "  images.append(img)\n",
        "  labels.append(2)\n",
        "\n",
        "for i in os.listdir(water_path):\n",
        "  img = cv2.imread(water_path + '/' + i, 0)\n",
        "  img = cv2.resize(img, (64,64))\n",
        "  img = img/255\n",
        "  img = img.flatten()\n",
        "  images.append(img)\n",
        "  labels.append(3)\n"
      ],
      "metadata": {
        "id": "edy1o7ayt2Ca"
      },
      "execution_count": null,
      "outputs": []
    },
    {
      "cell_type": "code",
      "source": [
        "images[0]"
      ],
      "metadata": {
        "id": "Fnyz1yuOxG-y"
      },
      "execution_count": null,
      "outputs": []
    },
    {
      "cell_type": "code",
      "source": [
        "from sklearn.model_selection import train_test_split"
      ],
      "metadata": {
        "id": "hc1rkiXGxKCb"
      },
      "execution_count": null,
      "outputs": []
    },
    {
      "cell_type": "code",
      "source": [
        "X_train, X_test, y_train, y_test = train_test_split(images, labels, test_size = 0.2)"
      ],
      "metadata": {
        "id": "5jEE7U41xeII"
      },
      "execution_count": null,
      "outputs": []
    },
    {
      "cell_type": "code",
      "source": [
        "from sklearn.svm import SVC"
      ],
      "metadata": {
        "id": "CtIFGG_MyLWv"
      },
      "execution_count": null,
      "outputs": []
    },
    {
      "cell_type": "code",
      "source": [
        "clf = SVC()\n",
        "clf.fit(X_train, y_train)"
      ],
      "metadata": {
        "id": "KnewtEp1ynA-"
      },
      "execution_count": null,
      "outputs": []
    },
    {
      "cell_type": "code",
      "source": [
        "from sklearn.metrics import accuracy_score\n",
        "\n",
        "preds = clf.predict(X_test)"
      ],
      "metadata": {
        "id": "t0DP3_ohyqpm"
      },
      "execution_count": null,
      "outputs": []
    },
    {
      "cell_type": "code",
      "source": [
        "accuracy_score(preds, y_test)"
      ],
      "metadata": {
        "id": "K5kpEx5Dy3wW"
      },
      "execution_count": null,
      "outputs": []
    },
    {
      "cell_type": "code",
      "source": [
        "import joblib"
      ],
      "metadata": {
        "id": "-rfNlR0HzEeM"
      },
      "execution_count": null,
      "outputs": []
    },
    {
      "cell_type": "code",
      "source": [
        "joblib.dump(clf, 'classifier.joblib')"
      ],
      "metadata": {
        "id": "0W9lWtb20IVk"
      },
      "execution_count": null,
      "outputs": []
    },
    {
      "cell_type": "code",
      "source": [],
      "metadata": {
        "id": "tedXa4N50Vtz"
      },
      "execution_count": null,
      "outputs": []
    }
  ]
}