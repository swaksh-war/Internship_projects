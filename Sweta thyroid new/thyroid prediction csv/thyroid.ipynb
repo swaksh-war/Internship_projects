{
  "cells": [
    {
      "cell_type": "markdown",
      "metadata": {
        "id": "EJlwsJ11vqLp"
      },
      "source": [
        "# Algorithm Included:\n",
        "\n",
        "**Machine Learning Algorithm:**\n",
        "\n",
        "* Supervised:\n",
        "    1. Linear Regression\n",
        "    2. Logistic Regression\n",
        "    3. Decision Tree(CART)\n",
        "    4. Random Forest\n",
        "    4. Naive Bayes\n",
        "    5. SVM(Linear)\n",
        "    6. KNN\n",
        "\n",
        "\n",
        "* UnSupervrised\n",
        "   1. K-Means\n",
        "   2. Principal Component Analysis\n",
        "   3. Apriori Algorithm\n",
        "\n",
        "\n",
        "* Deep Learning\n",
        "  1. Neural Network \n",
        "  2. CNN(Convolutional Neural Network)\n",
        "  3. RNN(Recurrent Neural Network)\n",
        "\n",
        "\n",
        "* Searching Algorithm\n",
        "  1. BFS\n",
        "  2. DFS"
      ]
    },
    {
      "cell_type": "code",
      "execution_count": 1,
      "metadata": {
        "id": "s3O6Rxu6wfsL"
      },
      "outputs": [
        {
          "data": {
            "text/html": [
              "<div>\n",
              "<style scoped>\n",
              "    .dataframe tbody tr th:only-of-type {\n",
              "        vertical-align: middle;\n",
              "    }\n",
              "\n",
              "    .dataframe tbody tr th {\n",
              "        vertical-align: top;\n",
              "    }\n",
              "\n",
              "    .dataframe thead th {\n",
              "        text-align: right;\n",
              "    }\n",
              "</style>\n",
              "<table border=\"1\" class=\"dataframe\">\n",
              "  <thead>\n",
              "    <tr style=\"text-align: right;\">\n",
              "      <th></th>\n",
              "      <th>age</th>\n",
              "      <th>sex</th>\n",
              "      <th>on thyroxine</th>\n",
              "      <th>query on thyroxine</th>\n",
              "      <th>on antithyroid medication</th>\n",
              "      <th>sick</th>\n",
              "      <th>pregnant</th>\n",
              "      <th>thyroid surgery</th>\n",
              "      <th>I131 treatment</th>\n",
              "      <th>query hypothyroid</th>\n",
              "      <th>...</th>\n",
              "      <th>TT4 measured</th>\n",
              "      <th>TT4</th>\n",
              "      <th>T4U measured</th>\n",
              "      <th>T4U</th>\n",
              "      <th>FTI measured</th>\n",
              "      <th>FTI</th>\n",
              "      <th>TBG measured</th>\n",
              "      <th>TBG</th>\n",
              "      <th>referral source</th>\n",
              "      <th>binaryClass</th>\n",
              "    </tr>\n",
              "  </thead>\n",
              "  <tbody>\n",
              "    <tr>\n",
              "      <th>0</th>\n",
              "      <td>41</td>\n",
              "      <td>F</td>\n",
              "      <td>f</td>\n",
              "      <td>f</td>\n",
              "      <td>f</td>\n",
              "      <td>f</td>\n",
              "      <td>f</td>\n",
              "      <td>f</td>\n",
              "      <td>f</td>\n",
              "      <td>f</td>\n",
              "      <td>...</td>\n",
              "      <td>t</td>\n",
              "      <td>125</td>\n",
              "      <td>t</td>\n",
              "      <td>1.14</td>\n",
              "      <td>t</td>\n",
              "      <td>109</td>\n",
              "      <td>f</td>\n",
              "      <td>?</td>\n",
              "      <td>SVHC</td>\n",
              "      <td>P</td>\n",
              "    </tr>\n",
              "    <tr>\n",
              "      <th>1</th>\n",
              "      <td>23</td>\n",
              "      <td>F</td>\n",
              "      <td>f</td>\n",
              "      <td>f</td>\n",
              "      <td>f</td>\n",
              "      <td>f</td>\n",
              "      <td>f</td>\n",
              "      <td>f</td>\n",
              "      <td>f</td>\n",
              "      <td>f</td>\n",
              "      <td>...</td>\n",
              "      <td>t</td>\n",
              "      <td>102</td>\n",
              "      <td>f</td>\n",
              "      <td>?</td>\n",
              "      <td>f</td>\n",
              "      <td>?</td>\n",
              "      <td>f</td>\n",
              "      <td>?</td>\n",
              "      <td>other</td>\n",
              "      <td>P</td>\n",
              "    </tr>\n",
              "    <tr>\n",
              "      <th>2</th>\n",
              "      <td>46</td>\n",
              "      <td>M</td>\n",
              "      <td>f</td>\n",
              "      <td>f</td>\n",
              "      <td>f</td>\n",
              "      <td>f</td>\n",
              "      <td>f</td>\n",
              "      <td>f</td>\n",
              "      <td>f</td>\n",
              "      <td>f</td>\n",
              "      <td>...</td>\n",
              "      <td>t</td>\n",
              "      <td>109</td>\n",
              "      <td>t</td>\n",
              "      <td>0.91</td>\n",
              "      <td>t</td>\n",
              "      <td>120</td>\n",
              "      <td>f</td>\n",
              "      <td>?</td>\n",
              "      <td>other</td>\n",
              "      <td>P</td>\n",
              "    </tr>\n",
              "    <tr>\n",
              "      <th>3</th>\n",
              "      <td>70</td>\n",
              "      <td>F</td>\n",
              "      <td>t</td>\n",
              "      <td>f</td>\n",
              "      <td>f</td>\n",
              "      <td>f</td>\n",
              "      <td>f</td>\n",
              "      <td>f</td>\n",
              "      <td>f</td>\n",
              "      <td>f</td>\n",
              "      <td>...</td>\n",
              "      <td>t</td>\n",
              "      <td>175</td>\n",
              "      <td>f</td>\n",
              "      <td>?</td>\n",
              "      <td>f</td>\n",
              "      <td>?</td>\n",
              "      <td>f</td>\n",
              "      <td>?</td>\n",
              "      <td>other</td>\n",
              "      <td>P</td>\n",
              "    </tr>\n",
              "    <tr>\n",
              "      <th>4</th>\n",
              "      <td>70</td>\n",
              "      <td>F</td>\n",
              "      <td>f</td>\n",
              "      <td>f</td>\n",
              "      <td>f</td>\n",
              "      <td>f</td>\n",
              "      <td>f</td>\n",
              "      <td>f</td>\n",
              "      <td>f</td>\n",
              "      <td>f</td>\n",
              "      <td>...</td>\n",
              "      <td>t</td>\n",
              "      <td>61</td>\n",
              "      <td>t</td>\n",
              "      <td>0.87</td>\n",
              "      <td>t</td>\n",
              "      <td>70</td>\n",
              "      <td>f</td>\n",
              "      <td>?</td>\n",
              "      <td>SVI</td>\n",
              "      <td>P</td>\n",
              "    </tr>\n",
              "  </tbody>\n",
              "</table>\n",
              "<p>5 rows × 30 columns</p>\n",
              "</div>"
            ],
            "text/plain": [
              "  age sex on thyroxine query on thyroxine on antithyroid medication sick  \\\n",
              "0  41   F            f                  f                         f    f   \n",
              "1  23   F            f                  f                         f    f   \n",
              "2  46   M            f                  f                         f    f   \n",
              "3  70   F            t                  f                         f    f   \n",
              "4  70   F            f                  f                         f    f   \n",
              "\n",
              "  pregnant thyroid surgery I131 treatment query hypothyroid  ... TT4 measured  \\\n",
              "0        f               f              f                 f  ...            t   \n",
              "1        f               f              f                 f  ...            t   \n",
              "2        f               f              f                 f  ...            t   \n",
              "3        f               f              f                 f  ...            t   \n",
              "4        f               f              f                 f  ...            t   \n",
              "\n",
              "   TT4 T4U measured   T4U FTI measured  FTI TBG measured TBG referral source  \\\n",
              "0  125            t  1.14            t  109            f   ?            SVHC   \n",
              "1  102            f     ?            f    ?            f   ?           other   \n",
              "2  109            t  0.91            t  120            f   ?           other   \n",
              "3  175            f     ?            f    ?            f   ?           other   \n",
              "4   61            t  0.87            t   70            f   ?             SVI   \n",
              "\n",
              "  binaryClass  \n",
              "0           P  \n",
              "1           P  \n",
              "2           P  \n",
              "3           P  \n",
              "4           P  \n",
              "\n",
              "[5 rows x 30 columns]"
            ]
          },
          "execution_count": 1,
          "metadata": {},
          "output_type": "execute_result"
        }
      ],
      "source": [
        "import pandas as pd\n",
        "import numpy as np\n",
        "from sklearn.model_selection import train_test_split\n",
        "from sklearn import datasets\n",
        "df = pd.read_csv('hypothyroid.csv')\n",
        "df.head()"
      ]
    },
    {
      "cell_type": "code",
      "execution_count": 2,
      "metadata": {
        "id": "w2xcfAXswfuw"
      },
      "outputs": [],
      "source": [
        "feature_list = ['age', 'sex', 'sick', 'pregnant', 'I131 treatment', 'lithium', 'TSH', 'FTI', 'binaryClass']\n",
        "non_feature_list = []\n",
        "for col in df:\n",
        "    if col not in feature_list:\n",
        "        non_feature_list.append(col)\n",
        "\n",
        "\n",
        "df = df.drop(non_feature_list, axis=1)\n",
        "\n",
        "df = df[df['FTI'] != \"?\"]\n",
        "df = df[df['TSH'] != \"?\"]\n",
        "df = df[df['lithium'] != \"?\"]\n",
        "df = df[df['I131 treatment'] != \"?\"]\n",
        "df = df[df['pregnant'] != \"?\"]\n",
        "df = df[df['sick'] != \"?\"]\n",
        "df = df[df['sex'] != \"?\"]\n",
        "df = df[df['age'] != \"?\"]\n",
        "\n",
        "df['lithium'].replace(['t','f'], [1, 0], inplace=True)\n",
        "df['I131 treatment'].replace(['t', 'f'], [1, 0], inplace=True)\n",
        "df['sick'].replace(['t', 'f'], [1, 0], inplace=True)\n",
        "df['pregnant'].replace(['t', 'f'], [1, 0], inplace=True)\n",
        "df['sex'].replace(['M', 'F'], [1, 0], inplace=True)\n",
        "df['binaryClass'].replace(['P', 'N'], [1, 0], inplace=True)\n",
        "\n",
        "X = df.drop('binaryClass', axis=1)\n",
        "y = df['binaryClass']"
      ]
    },
    {
      "cell_type": "markdown",
      "metadata": {
        "id": "3_qh51d2vqL3"
      },
      "source": [
        "# 1. Logistic Regression"
      ]
    },
    {
      "cell_type": "code",
      "execution_count": 3,
      "metadata": {
        "_kg_hide-input": false,
        "colab": {
          "base_uri": "https://localhost:8080/"
        },
        "id": "M21pSEvnvqL4",
        "outputId": "a82a6b3f-1c2e-4662-e1d5-2c74ebe7ff0a"
      },
      "outputs": [
        {
          "name": "stdout",
          "output_type": "stream",
          "text": [
            "Accuracy:  0.9453376205787781\n"
          ]
        }
      ],
      "source": [
        "class logisticRegression:\n",
        "\n",
        "  def __init__(self,lr=0.001,n_iters=1000):\n",
        "    self.lr = lr\n",
        "    self.n_iters = n_iters\n",
        "    self.weights = None\n",
        "    self.bias = None\n",
        "\n",
        "  def fit(self,X,y):\n",
        "    #init parameters\n",
        "    n_samples, n_features = X.shape\n",
        "    self.weights = np.zeros(n_features)\n",
        "    self.bias = 0\n",
        "\n",
        "    #gradient descent\n",
        "    self.weights = self.weights.astype(float)\n",
        "    for _ in range(self.n_iters):\n",
        "      linear_model = np.dot(X, self.weights) + self.bias\n",
        "      y_predicted = self._sigmoid(linear_model)\n",
        "\n",
        "      dw = (1/n_samples) * np.dot(X.T,(y_predicted-y))\n",
        "      db = (1/n_samples) * np.sum(y_predicted-y)\n",
        "\n",
        "      self.weights -= self.lr *dw\n",
        "      self.bias -= self.lr * db \n",
        "\n",
        "  def predict(self,X):\n",
        "    linear_model = np.dot(X,self.weights) + self.bias\n",
        "    y_predicted = self._sigmoid(linear_model)\n",
        "    y_predicted_cls = [1 if i>0.5 else 0 for i in y_predicted]\n",
        "    return y_predicted_cls\n",
        "  \n",
        "  def _sigmoid(self,x):\n",
        "    return(1/(1+np.exp(-x)))\n",
        "\n",
        "#Test Logistic regression in breast_cancer\n",
        "# bc = datasets.load_breast_cancer()\n",
        "# X, y = bc.data, bc.target\n",
        "X = X.astype(float)\n",
        "X_train, X_test, y_train, y_test = train_test_split(X, y, test_size=0.2, random_state=1234)\n",
        "\n",
        "\n",
        "\n",
        "def accuracy(y_true,y_pred):\n",
        "  accuracy = np.sum(y_true == y_pred)/len(y_true)\n",
        "  return accuracy\n",
        "\n",
        "regressor = logisticRegression(lr=0.0001,n_iters=1000)\n",
        "regressor.fit(X_train, y_train)\n",
        "\n",
        "predictions = regressor.predict(X_test)\n",
        "\n",
        "print(\"Accuracy: \",accuracy(y_test, predictions))"
      ]
    },
    {
      "cell_type": "markdown",
      "metadata": {
        "id": "ZT5bEl0ovqMC"
      },
      "source": [
        "# 2. Naive Bayes"
      ]
    },
    {
      "cell_type": "code",
      "execution_count": 4,
      "metadata": {
        "_kg_hide-input": false,
        "colab": {
          "base_uri": "https://localhost:8080/"
        },
        "id": "7qcqlewYvqMC",
        "outputId": "b154c464-b878-4aaf-c56f-dfaa00f3373a"
      },
      "outputs": [
        {
          "name": "stdout",
          "output_type": "stream",
          "text": [
            "Naive Bayes classification accuracy  0.965\n"
          ]
        }
      ],
      "source": [
        "class NaiveBayes:\n",
        "\n",
        "  def fit(self, X, y):\n",
        "    n_samples, n_features = X.shape\n",
        "    self._classes = np.unique(y)\n",
        "    n_classes = len(self._classes)\n",
        "\n",
        "    #init mean, var, priors\n",
        "    self._mean = np.zeros((n_classes, n_features), dtype=np.float64)\n",
        "    self._var = np.zeros((n_classes, n_features), dtype=np.float64)\n",
        "    self._priors = np.zeros(n_classes, dtype=np.float64)\n",
        "\n",
        "    for c in self._classes:\n",
        "      X_c = X[c==y]\n",
        "      self._mean[c,:]=X_c.mean(axis=0)\n",
        "      self._var[c,:]=X_c.var(axis=0)\n",
        "      self._priors[c] = X_c.shape[0] / float(n_samples)\n",
        "\n",
        "  def predict(self,X):\n",
        "    y_pred = [self._predict(x) for x in X]\n",
        "    return(y_pred)\n",
        "    \n",
        "  def _predict(self, x):\n",
        "    posteriors = []\n",
        "    for idx, c in enumerate(self._classes):\n",
        "      #print(idx,c)\n",
        "      prior = np.log(self._priors[idx])\n",
        "      class_conditional = np.sum(np.log(self._pdf(idx,x)))\n",
        "      posterior = prior + class_conditional\n",
        "      posteriors.append(posterior)\n",
        "    return(self._classes[np.argmax(posteriors)])\n",
        "\n",
        "\n",
        "    \n",
        "  def _pdf(self, class_idx, x):\n",
        "    mean = self._mean[class_idx]\n",
        "    var = self._var[class_idx]\n",
        "    numerator = np.exp(-(x-mean)**2/(2 * var))\n",
        "    denominator = np.sqrt(2*np.pi*var)\n",
        "    return(numerator/denominator)\n",
        "\n",
        "\n",
        "# Naive Bayes Test\n",
        "\n",
        "\n",
        "def accuracy(y_true, y_pred):\n",
        "  accuracy = np.sum(y_true == y_pred)/len(y_true)\n",
        "  return(accuracy)\n",
        "\n",
        "X,y = datasets.make_classification(n_samples=1000, n_features=10, n_classes=2, random_state=123)\n",
        "X_train, X_test, y_train, y_test = train_test_split(X, y, test_size=0.2, random_state=123)\n",
        "\n",
        "nb = NaiveBayes()\n",
        "nb.fit(X_train, y_train)\n",
        "predictions = nb.predict(X_test)\n",
        "\n",
        "print(\"Naive Bayes classification accuracy \",accuracy(y_test, predictions))"
      ]
    },
    {
      "cell_type": "code",
      "execution_count": 5,
      "metadata": {},
      "outputs": [],
      "source": [
        "from sklearn.metrics import confusion_matrix"
      ]
    },
    {
      "cell_type": "code",
      "execution_count": 6,
      "metadata": {
        "colab": {
          "base_uri": "https://localhost:8080/",
          "height": 282
        },
        "id": "s2vhgkPdvqMD",
        "outputId": "3bf28cc3-e523-4276-ad47-fb575ec6f3b9"
      },
      "outputs": [
        {
          "data": {
            "text/plain": [
              "<AxesSubplot:>"
            ]
          },
          "execution_count": 6,
          "metadata": {},
          "output_type": "execute_result"
        },
        {
          "data": {
            "image/png": "[encoded data removed]",
            "text/plain": [
              "<Figure size 432x288 with 2 Axes>"
            ]
          },
          "metadata": {
            "needs_background": "light"
          },
          "output_type": "display_data"
        }
      ],
      "source": [
        "cnf_matrix = confusion_matrix(y_test, predictions)\n",
        "import seaborn as sns\n",
        "sns.heatmap(cnf_matrix, annot=True)"
      ]
    },
    {
      "cell_type": "markdown",
      "metadata": {
        "id": "OtBXeJ2TvqMD"
      },
      "source": [
        "# 3. SVM"
      ]
    },
    {
      "cell_type": "code",
      "execution_count": 7,
      "metadata": {},
      "outputs": [],
      "source": [
        "import matplotlib.pyplot as plt"
      ]
    },
    {
      "cell_type": "code",
      "execution_count": 9,
      "metadata": {
        "_kg_hide-input": false,
        "colab": {
          "base_uri": "https://localhost:8080/",
          "height": 282
        },
        "id": "g_m-o1tYvqMD",
        "outputId": "69efbb94-2403-4e9a-b14e-535288415b70"
      },
      "outputs": [
        {
          "name": "stdout",
          "output_type": "stream",
          "text": [
            "[-0.20334488  0.34762713 -0.05190083] -1.0459999999999956\n"
          ]
        },
        {
          "data": {
            "image/png": "[encoded data removed]",
            "text/plain": [
              "<Figure size 432x288 with 1 Axes>"
            ]
          },
          "metadata": {
            "needs_background": "light"
          },
          "output_type": "display_data"
        },
        {
          "name": "stdout",
          "output_type": "stream",
          "text": [
            "Accuracy of SVM is:  0.0\n"
          ]
        },
        {
          "name": "stderr",
          "output_type": "stream",
          "text": [
            "/tmp/ipykernel_20477/2662337848.py:47: DeprecationWarning: elementwise comparison failed; this will raise an error in the future.\n",
            "  accuracy = np.sum(y_true == y_pred)/len(y_true)\n"
          ]
        }
      ],
      "source": [
        "class SVM:\n",
        "  def __init__(self, learning_rate = 0.001, lambda_param=0.01, n_iters=1000):\n",
        "    self.lr = learning_rate\n",
        "    self.lambda_param = lambda_param\n",
        "    self.n_iters = n_iters\n",
        "    self.w = None\n",
        "    self.b = None\n",
        "\n",
        "  def fit(self, X, y):\n",
        "    y_ = np.where(y<=0,-1,1)\n",
        "    n_samples, n_features = X.shape\n",
        "\n",
        "    self.w = np.zeros(n_features)\n",
        "    self.b = 0\n",
        "\n",
        "    for _ in range(self.n_iters):\n",
        "      for idx, x_i in enumerate(X):\n",
        "        condition = y_[idx] * (np.dot(x_i, self.w) - self.b) >=1\n",
        "        if condition:\n",
        "          self.w -= self.lr * (2*self.lambda_param * self.w)\n",
        "        else:\n",
        "          self.w -= self.lr * (2 * self.lambda_param * self.w - np.dot(x_i, y_[idx]))\n",
        "          self.b -= self.lr * y_[idx]\n",
        "  \n",
        "  def predict(self, X):\n",
        "    linear_output = np.dot(X, self.w) - self.b\n",
        "    return(np.sign(linear_output))\n",
        "\n",
        "X, y =  datasets.make_blobs(n_samples=50, n_features=3, centers=3, cluster_std=1.05, random_state=40)\n",
        "y = np.where(y == 0, -1, 1)\n",
        "\n",
        "clf = SVM()\n",
        "clf.fit(X, y)\n",
        "predictions = clf.predict(X)\n",
        " \n",
        "print(clf.w, clf.b)\n",
        "\n",
        "def visualize_svm():\n",
        "     def get_hyperplane_value(x, w, b, offset):\n",
        "          return (-w[0] * x + b + offset) / w[1]\n",
        "\n",
        "     fig = plt.figure()\n",
        "     ax = fig.add_subplot(1,1,1)\n",
        "     plt.scatter(X[:,0], X[:,1], marker='o',c=y)\n",
        "\n",
        "     x0_1 = np.amin(X[:,0])\n",
        "     x0_2 = np.amax(X[:,0])\n",
        "\n",
        "     x1_1 = get_hyperplane_value(x0_1, clf.w, clf.b, 0)\n",
        "     x1_2 = get_hyperplane_value(x0_2, clf.w, clf.b, 0)\n",
        "\n",
        "     x1_1_m = get_hyperplane_value(x0_1, clf.w, clf.b, -1)\n",
        "     x1_2_m = get_hyperplane_value(x0_2, clf.w, clf.b, -1)\n",
        "\n",
        "     x1_1_p = get_hyperplane_value(x0_1, clf.w, clf.b, 1)\n",
        "     x1_2_p = get_hyperplane_value(x0_2, clf.w, clf.b, 1)\n",
        "\n",
        "     ax.plot([x0_1, x0_2],[x1_1, x1_2], 'y--')\n",
        "     ax.plot([x0_1, x0_2],[x1_1_m, x1_2_m], 'k')\n",
        "     ax.plot([x0_1, x0_2],[x1_1_p, x1_2_p], 'k')\n",
        "\n",
        "     x1_min = np.amin(X[:,1])\n",
        "     x1_max = np.amax(X[:,1])\n",
        "     ax.set_ylim([x1_min-3,x1_max+3])\n",
        "\n",
        "     plt.show()\n",
        "\n",
        "visualize_svm()\n",
        "\n",
        "print(\"Accuracy of SVM is: \", accuracy(y_test, predictions))"
      ]
    },
    {
      "cell_type": "code",
      "execution_count": null,
      "metadata": {
        "colab": {
          "base_uri": "https://localhost:8080/",
          "height": 282
        },
        "id": "ylazGYd9vqMD",
        "outputId": "15bb745a-3e3a-4fd9-afcd-84975548ed64"
      },
      "outputs": [
        {
          "data": {
            "text/plain": [
              "<AxesSubplot:>"
            ]
          },
          "execution_count": 16,
          "metadata": {},
          "output_type": "execute_result"
        },
        {
          "data": {
            "image/png": "[encoded data removed]",
            "text/plain": [
              "<Figure size 432x288 with 2 Axes>"
            ]
          },
          "metadata": {
            "needs_background": "light"
          },
          "output_type": "display_data"
        }
      ],
      "source": [
        "cnf_matrix = confusion_matrix(y, predictions)\n",
        "import seaborn as sns\n",
        "sns.heatmap(cnf_matrix, annot=True)"
      ]
    },
    {
      "cell_type": "markdown",
      "metadata": {
        "id": "8QJOsOF6vqL_"
      },
      "source": [
        "# 4. Random Forest"
      ]
    },
    {
      "cell_type": "code",
      "execution_count": null,
      "metadata": {},
      "outputs": [],
      "source": [
        "from collections import Counter"
      ]
    },
    {
      "cell_type": "code",
      "execution_count": null,
      "metadata": {
        "_kg_hide-input": false,
        "colab": {
          "base_uri": "https://localhost:8080/"
        },
        "id": "x48pUsuKvqMA",
        "outputId": "54820cee-c423-4e27-fe17-fb633474a1ce"
      },
      "outputs": [
        {
          "name": "stdout",
          "output_type": "stream",
          "text": [
            "Accuracy:  0.7\n"
          ]
        }
      ],
      "source": [
        "def bootstrap_sample(X, y):\n",
        "  n_samples = X.shape[0]\n",
        "  idxs = np.random.choice(n_samples, size = n_samples, replace=True)\n",
        "  return(X[idxs], y[idxs])\n",
        "\n",
        "def most_common_label(y):\n",
        "  counter = Counter(y)\n",
        "  most_common = counter.most_common(1)[0][0]\n",
        "  return(most_common)\n",
        "\n",
        "class RandomForest:\n",
        "  def __init__(self, n_trees = 100, min_samples_split=2, max_depth=100, n_feats=None):\n",
        "    self.n_trees = n_trees\n",
        "    self.min_samples_split = min_samples_split\n",
        "    self.max_depth = max_depth\n",
        "    self.n_feats = n_feats\n",
        "    self.trees = []\n",
        "\n",
        "  def fit(self, X, y):\n",
        "    self.trees = []\n",
        "    for _ in range(self.n_trees):\n",
        "      tree = DecisionTree(min_samples_split = self.min_samples_split, max_depth=self.max_depth, n_feats=self.n_feats)\n",
        "      X_sample, y_sample = bootstrap_sample(X, y)\n",
        "      tree.fit(X_sample, y_sample)\n",
        "      self.trees.append(tree)\n",
        "  def predict(self, X):\n",
        "    tree_preds = np.array([tree.predict(X) for tree in self.trees])\n",
        "    tree_preds = np.swapaxes(tree_preds, 0, 1)\n",
        "\n",
        "    y_pred = [most_common_label(tree_pred) for tree_pred in tree_preds]\n",
        "    return np.array(y_pred)\n",
        "\n",
        "\n",
        "clf_f = RandomForest(n_trees=3)\n",
        "clf_f.fit(X_train, y_train)\n",
        "\n",
        "y_pred = clf_f.predict(X_test)\n",
        "acc = accuracy(y_test, y_pred)\n",
        "\n",
        "print(\"Accuracy: \",acc)"
      ]
    },
    {
      "cell_type": "code",
      "execution_count": null,
      "metadata": {
        "colab": {
          "base_uri": "https://localhost:8080/",
          "height": 282
        },
        "id": "pbMl2GvovqMB",
        "outputId": "4418a31d-cfac-4a1a-811e-0081d617c5e5"
      },
      "outputs": [
        {
          "data": {
            "text/plain": [
              "<AxesSubplot:>"
            ]
          },
          "execution_count": 19,
          "metadata": {},
          "output_type": "execute_result"
        },
        {
          "data": {
            "image/png": "[encoded data removed]",
            "text/plain": [
              "<Figure size 432x288 with 2 Axes>"
            ]
          },
          "metadata": {
            "needs_background": "light"
          },
          "output_type": "display_data"
        }
      ],
      "source": [
        "cnf_matrix = confusion_matrix(y_test, y_pred)\n",
        "import seaborn as sns\n",
        "sns.heatmap(cnf_matrix, annot=True)"
      ]
    },
    {
      "cell_type": "markdown",
      "metadata": {
        "id": "IyKRspxEvqL5"
      },
      "source": [
        "# 5. Decision Tree(CART)"
      ]
    },
    {
      "cell_type": "code",
      "execution_count": null,
      "metadata": {
        "_kg_hide-input": false,
        "colab": {
          "base_uri": "https://localhost:8080/"
        },
        "id": "uDREwIWFvqL5",
        "outputId": "8620f28d-3e60-4d91-9b3d-8364842b8f4a"
      },
      "outputs": [
        {
          "name": "stdout",
          "output_type": "stream",
          "text": [
            "Accuracy:  0.7\n"
          ]
        }
      ],
      "source": [
        "from collections import Counter\n",
        "from sklearn.model_selection import train_test_split\n",
        "\n",
        "def entropy(y):\n",
        "  y = [abs(i) for i in y]\n",
        "  hist = np.bincount(y)\n",
        "  ps = hist/len(y)\n",
        "  return(-np.sum([p * np.log2(p) for p in ps if p>0]))\n",
        "\n",
        "\n",
        "\n",
        "class Node:\n",
        "  def __init__(self, feature=None, threshold=None, left=None, right=None,*,value=None):\n",
        "    self.feature = feature\n",
        "    self.threshold = threshold\n",
        "    self.left = left\n",
        "    self.right = right\n",
        "    self.value = value\n",
        "  \n",
        "  def is_leaf_node(self):\n",
        "    return(self.value is not None)\n",
        "\n",
        "\n",
        "class DecisionTree:\n",
        "  def __init__(self, min_samples_split=2, max_depth=100, n_feats=None):\n",
        "    self.min_samples_split = min_samples_split\n",
        "    self.max_depth = max_depth\n",
        "    self.n_feats = n_feats\n",
        "    self.root = None\n",
        "\n",
        "  def fit(self, X, y):\n",
        "    self.n_feats = X.shape[1] if not self.n_feats else min(self.n_feats, X.shape[1])\n",
        "    self.root = self._grow_tree(X, y)\n",
        "\n",
        "  def _grow_tree(self, X, y, depth=0):\n",
        "    n_samples, n_features = X.shape\n",
        "    n_labels = len(np.unique(y))\n",
        "\n",
        "    #stopping criteria\n",
        "    if(depth >= self.max_depth or n_labels == 1 or n_samples < self.min_samples_split):\n",
        "      leaf_value = self._most_common_label(y)\n",
        "      return(Node(value=leaf_value))\n",
        "    \n",
        "    feat_idxs = np.random.choice(n_features, self.n_feats, replace=False)\n",
        "\n",
        "    #greedy search\n",
        "    best_feat, best_thresh = self._best_criteria(X, y, feat_idxs)\n",
        "\n",
        "    left_idxs, right_idxs = self._split(X[:,best_feat],best_thresh)\n",
        "\n",
        "    left = self._grow_tree(X[left_idxs,:], y[left_idxs], depth+1)\n",
        "    right = self._grow_tree(X[right_idxs,:], y[right_idxs], depth+1)\n",
        "    return(Node(best_feat, best_thresh, left, right))\n",
        "  \n",
        "\n",
        "  def _best_criteria(self, X, y, feat_idxs):\n",
        "    best_gain = -1\n",
        "    split_idx, split_thresh = None, None\n",
        "    for feat_idx in feat_idxs:\n",
        "      X_column = X[:, feat_idx]\n",
        "      thresholds = np.unique(X_column)\n",
        "      for threshold in thresholds:\n",
        "        gain = self._information_gain(y, X_column, threshold)\n",
        "        if(gain>best_gain):\n",
        "          best_gain = gain\n",
        "          split_idx = feat_idx\n",
        "          split_thresh = threshold\n",
        "    return(split_idx, split_thresh)\n",
        "\n",
        "  def _information_gain(self, y, X_column, split_threh):\n",
        "    #parent entropy\n",
        "    parent_entropy = entropy(y)\n",
        "\n",
        "    #generate split\n",
        "    left_idxs, right_idxs = self._split(X_column, split_threh)\n",
        "    if(len(left_idxs == 0) or len(right_idxs)==0):\n",
        "      return 0\n",
        "\n",
        "    #weighted avg vhild entropy\n",
        "    n = len(y)\n",
        "    n_l, n_r = len(left_idxs), len(right_idxs)\n",
        "    e_l, e_r = entropy(y[left_idxs]), entropy(y[right_idxs])\n",
        "    child_entropy = (n_l/n)*e_l + (n_r/n)*e_r\n",
        "\n",
        "    #return ig\n",
        "    ig = parent_entropy - child_entropy\n",
        "\n",
        "    return ig\n",
        "  \n",
        "  def _split(self, X_column, split_threh):\n",
        "    left_idxs = np.argwhere(X_column <= split_threh).flatten()\n",
        "    right_idxs = np.argwhere(X_column > split_threh).flatten()\n",
        "    return(left_idxs, right_idxs)\n",
        "  \n",
        "  def predict(self, X):\n",
        "    #traverse tree\n",
        "    return(np.array([self._traverse_tree(x, self.root) for x in X]))\n",
        "\n",
        "  def _traverse_tree(self, x, node):\n",
        "    if(node.is_leaf_node()):\n",
        "      return(node.value)\n",
        "\n",
        "    if(x[node.feature] <= node.threshold):\n",
        "      return(self._traverse_tree(x, node.left))\n",
        "    return(self._traverse_tree(x, node.right))\n",
        "\n",
        "  def _most_common_label(self, y):\n",
        "    counter = Counter(y)\n",
        "    most_common = counter.most_common(1)[0][0]\n",
        "    return(most_common)\n",
        "\n",
        "#decision tree test\n",
        "\n",
        "\n",
        "def accuracy(y_true, y_pred):\n",
        "  accuracy = np.sum(y_true == y_pred) / len(y_true)\n",
        "  return(accuracy)\n",
        "\n",
        "\n",
        "X_train, X_test, y_train, y_test = train_test_split(X, y, test_size=0.2, random_state = 42)\n",
        "\n",
        "\n",
        "\n",
        "clf = DecisionTree(max_depth=20)\n",
        "clf.fit(X_train, y_train)\n",
        "\n",
        "\n",
        "\n",
        "y_pred = clf.predict(X_test)\n",
        "acc = accuracy(y_test, y_pred)\n",
        "\n",
        "print(\"Accuracy: \",acc)"
      ]
    },
    {
      "cell_type": "code",
      "execution_count": null,
      "metadata": {
        "colab": {
          "base_uri": "https://localhost:8080/",
          "height": 286
        },
        "id": "lY50NUJTvqL_",
        "outputId": "8c24271a-d017-4fbf-948d-3c52bbdc3adf"
      },
      "outputs": [
        {
          "data": {
            "text/plain": [
              "<AxesSubplot:>"
            ]
          },
          "execution_count": 20,
          "metadata": {},
          "output_type": "execute_result"
        },
        {
          "data": {
            "image/png": "[encoded data removed]",
            "text/plain": [
              "<Figure size 432x288 with 2 Axes>"
            ]
          },
          "metadata": {
            "needs_background": "light"
          },
          "output_type": "display_data"
        }
      ],
      "source": [
        "cnf_matrix = confusion_matrix(y_test, y_pred)\n",
        "import seaborn as sns\n",
        "sns.heatmap(cnf_matrix, annot=True)"
      ]
    }
  ],
  "metadata": {
    "colab": {
      "provenance": []
    },
    "kernelspec": {
      "display_name": "Python 3.10.6 64-bit",
      "language": "python",
      "name": "python3"
    },
    "language_info": {
      "codemirror_mode": {
        "name": "ipython",
        "version": 3
      },
      "file_extension": ".py",
      "mimetype": "text/x-python",
      "name": "python",
      "nbconvert_exporter": "python",
      "pygments_lexer": "ipython3",
      "version": "3.10.6"
    },
    "vscode": {
      "interpreter": {
        "hash": "916dbcbb3f70747c44a77c7bcd40155683ae19c65e1c03b4aa3499c5328201f1"
      }
    }
  },
  "nbformat": 4,
  "nbformat_minor": 0
}
