{
  "cells": [
    {
      "cell_type": "markdown",
      "id": "79a89259",
      "metadata": {
        "id": "79a89259"
      },
      "source": [
        "# Analyzing the Complaints of residential properties to score the county problems"
      ]
    },
    {
      "cell_type": "code",
      "execution_count": 1,
      "id": "2f48fe3c",
      "metadata": {
        "id": "2f48fe3c"
      },
      "outputs": [],
      "source": [
        "import numpy as np\n",
        "import pandas as pd\n",
        "import matplotlib.pyplot as plt\n",
        "import seaborn as sns \n",
        "%matplotlib inline\n"
      ]
    },
    {
      "cell_type": "markdown",
      "id": "c47e130c",
      "metadata": {
        "id": "c47e130c"
      },
      "source": [
        "# Loading the nyc 311 service requests DATASET IN THIS MODEL"
      ]
    },
    {
      "cell_type": "code",
      "execution_count": 2,
      "id": "1aa33a94",
      "metadata": {
        "id": "1aa33a94"
      },
      "outputs": [],
      "source": [
        "df = pd.read_csv('Dataset/311_Service_Requests.csv')\n"
      ]
    },
    {
      "cell_type": "code",
      "execution_count": 3,
      "id": "0d6a7e7e",
      "metadata": {
        "colab": {
          "base_uri": "https://localhost:8080/"
        },
        "id": "0d6a7e7e",
        "outputId": "e91a0223-c1d2-4b05-a8e5-bc17de8a8135"
      },
      "outputs": [
        {
          "name": "stdout",
          "output_type": "stream",
          "text": [
            "<class 'pandas.core.frame.DataFrame'>\n",
            "RangeIndex: 5846787 entries, 0 to 5846786\n",
            "Data columns (total 15 columns):\n",
            " #   Column                  Dtype  \n",
            "---  ------                  -----  \n",
            " 0   created_date            object \n",
            " 1   unique_key              int64  \n",
            " 2   complaint_type          object \n",
            " 3   incident_zip            float64\n",
            " 4   incident_address        object \n",
            " 5   street_name             object \n",
            " 6   address_type            object \n",
            " 7   city                    object \n",
            " 8   resolution_description  object \n",
            " 9   borough                 object \n",
            " 10  latitude                float64\n",
            " 11  longitude               float64\n",
            " 12  closed_date             object \n",
            " 13  location_type           object \n",
            " 14  status                  object \n",
            "dtypes: float64(3), int64(1), object(11)\n",
            "memory usage: 669.1+ MB\n"
          ]
        }
      ],
      "source": [
        "df.info()"
      ]
    },
    {
      "cell_type": "code",
      "execution_count": 4,
      "id": "5aaadddd",
      "metadata": {
        "colab": {
          "base_uri": "https://localhost:8080/",
          "height": 357
        },
        "id": "5aaadddd",
        "outputId": "188d4a67-d55f-4862-d315-671b0935be2d"
      },
      "outputs": [
        {
          "data": {
            "text/html": [
              "<div>\n",
              "<style scoped>\n",
              "    .dataframe tbody tr th:only-of-type {\n",
              "        vertical-align: middle;\n",
              "    }\n",
              "\n",
              "    .dataframe tbody tr th {\n",
              "        vertical-align: top;\n",
              "    }\n",
              "\n",
              "    .dataframe thead th {\n",
              "        text-align: right;\n",
              "    }\n",
              "</style>\n",
              "<table border=\"1\" class=\"dataframe\">\n",
              "  <thead>\n",
              "    <tr style=\"text-align: right;\">\n",
              "      <th></th>\n",
              "      <th>created_date</th>\n",
              "      <th>unique_key</th>\n",
              "      <th>complaint_type</th>\n",
              "      <th>incident_zip</th>\n",
              "      <th>incident_address</th>\n",
              "      <th>street_name</th>\n",
              "      <th>address_type</th>\n",
              "      <th>city</th>\n",
              "      <th>resolution_description</th>\n",
              "      <th>borough</th>\n",
              "      <th>latitude</th>\n",
              "      <th>longitude</th>\n",
              "      <th>closed_date</th>\n",
              "      <th>location_type</th>\n",
              "      <th>status</th>\n",
              "    </tr>\n",
              "  </thead>\n",
              "  <tbody>\n",
              "    <tr>\n",
              "      <th>0</th>\n",
              "      <td>2019-08-23T12:35:54.000</td>\n",
              "      <td>43624241</td>\n",
              "      <td>HEAT/HOT WATER</td>\n",
              "      <td>10032.0</td>\n",
              "      <td>560 WEST  160 STREET</td>\n",
              "      <td>WEST  160 STREET</td>\n",
              "      <td>ADDRESS</td>\n",
              "      <td>NEW YORK</td>\n",
              "      <td>The complaint you filed is a duplicate of a co...</td>\n",
              "      <td>MANHATTAN</td>\n",
              "      <td>40.835396</td>\n",
              "      <td>-73.942262</td>\n",
              "      <td>NaN</td>\n",
              "      <td>RESIDENTIAL BUILDING</td>\n",
              "      <td>Open</td>\n",
              "    </tr>\n",
              "    <tr>\n",
              "      <th>1</th>\n",
              "      <td>2019-08-23T08:43:58.000</td>\n",
              "      <td>43623659</td>\n",
              "      <td>UNSANITARY CONDITION</td>\n",
              "      <td>11208.0</td>\n",
              "      <td>261 MONTAUK AVENUE</td>\n",
              "      <td>MONTAUK AVENUE</td>\n",
              "      <td>ADDRESS</td>\n",
              "      <td>BROOKLYN</td>\n",
              "      <td>The following complaint conditions are still o...</td>\n",
              "      <td>BROOKLYN</td>\n",
              "      <td>40.672494</td>\n",
              "      <td>-73.877521</td>\n",
              "      <td>NaN</td>\n",
              "      <td>RESIDENTIAL BUILDING</td>\n",
              "      <td>Open</td>\n",
              "    </tr>\n",
              "    <tr>\n",
              "      <th>2</th>\n",
              "      <td>2019-08-23T09:08:09.000</td>\n",
              "      <td>43624463</td>\n",
              "      <td>UNSANITARY CONDITION</td>\n",
              "      <td>10002.0</td>\n",
              "      <td>125 MADISON STREET</td>\n",
              "      <td>MADISON STREET</td>\n",
              "      <td>ADDRESS</td>\n",
              "      <td>NEW YORK</td>\n",
              "      <td>The following complaint conditions are still o...</td>\n",
              "      <td>MANHATTAN</td>\n",
              "      <td>40.712353</td>\n",
              "      <td>-73.993947</td>\n",
              "      <td>NaN</td>\n",
              "      <td>RESIDENTIAL BUILDING</td>\n",
              "      <td>Open</td>\n",
              "    </tr>\n",
              "    <tr>\n",
              "      <th>3</th>\n",
              "      <td>2019-08-23T16:36:08.000</td>\n",
              "      <td>43625072</td>\n",
              "      <td>DOOR/WINDOW</td>\n",
              "      <td>11211.0</td>\n",
              "      <td>525 UNION AVENUE</td>\n",
              "      <td>UNION AVENUE</td>\n",
              "      <td>ADDRESS</td>\n",
              "      <td>BROOKLYN</td>\n",
              "      <td>The following complaint conditions are still o...</td>\n",
              "      <td>BROOKLYN</td>\n",
              "      <td>40.716233</td>\n",
              "      <td>-73.951986</td>\n",
              "      <td>NaN</td>\n",
              "      <td>RESIDENTIAL BUILDING</td>\n",
              "      <td>Open</td>\n",
              "    </tr>\n",
              "    <tr>\n",
              "      <th>4</th>\n",
              "      <td>2019-08-23T11:15:00.000</td>\n",
              "      <td>43623738</td>\n",
              "      <td>UNSANITARY CONDITION</td>\n",
              "      <td>11372.0</td>\n",
              "      <td>35-52F 73 STREET</td>\n",
              "      <td>73 STREET</td>\n",
              "      <td>ADDRESS</td>\n",
              "      <td>Jackson Heights</td>\n",
              "      <td>NaN</td>\n",
              "      <td>QUEENS</td>\n",
              "      <td>40.750533</td>\n",
              "      <td>-73.892998</td>\n",
              "      <td>NaN</td>\n",
              "      <td>RESIDENTIAL BUILDING</td>\n",
              "      <td>Open</td>\n",
              "    </tr>\n",
              "  </tbody>\n",
              "</table>\n",
              "</div>"
            ],
            "text/plain": [
              "              created_date  unique_key        complaint_type  incident_zip  \\\n",
              "0  2019-08-23T12:35:54.000    43624241        HEAT/HOT WATER       10032.0   \n",
              "1  2019-08-23T08:43:58.000    43623659  UNSANITARY CONDITION       11208.0   \n",
              "2  2019-08-23T09:08:09.000    43624463  UNSANITARY CONDITION       10002.0   \n",
              "3  2019-08-23T16:36:08.000    43625072           DOOR/WINDOW       11211.0   \n",
              "4  2019-08-23T11:15:00.000    43623738  UNSANITARY CONDITION       11372.0   \n",
              "\n",
              "       incident_address       street_name address_type             city  \\\n",
              "0  560 WEST  160 STREET  WEST  160 STREET      ADDRESS         NEW YORK   \n",
              "1    261 MONTAUK AVENUE    MONTAUK AVENUE      ADDRESS         BROOKLYN   \n",
              "2    125 MADISON STREET    MADISON STREET      ADDRESS         NEW YORK   \n",
              "3      525 UNION AVENUE      UNION AVENUE      ADDRESS         BROOKLYN   \n",
              "4      35-52F 73 STREET         73 STREET      ADDRESS  Jackson Heights   \n",
              "\n",
              "                              resolution_description    borough   latitude  \\\n",
              "0  The complaint you filed is a duplicate of a co...  MANHATTAN  40.835396   \n",
              "1  The following complaint conditions are still o...   BROOKLYN  40.672494   \n",
              "2  The following complaint conditions are still o...  MANHATTAN  40.712353   \n",
              "3  The following complaint conditions are still o...   BROOKLYN  40.716233   \n",
              "4                                                NaN     QUEENS  40.750533   \n",
              "\n",
              "   longitude closed_date         location_type status  \n",
              "0 -73.942262         NaN  RESIDENTIAL BUILDING   Open  \n",
              "1 -73.877521         NaN  RESIDENTIAL BUILDING   Open  \n",
              "2 -73.993947         NaN  RESIDENTIAL BUILDING   Open  \n",
              "3 -73.951986         NaN  RESIDENTIAL BUILDING   Open  \n",
              "4 -73.892998         NaN  RESIDENTIAL BUILDING   Open  "
            ]
          },
          "execution_count": 4,
          "metadata": {},
          "output_type": "execute_result"
        }
      ],
      "source": [
        "df.head()"
      ]
    },
    {
      "cell_type": "code",
      "execution_count": 5,
      "id": "b7a17fe7",
      "metadata": {
        "colab": {
          "base_uri": "https://localhost:8080/"
        },
        "id": "b7a17fe7",
        "outputId": "1ce22d11-1b22-4b9e-a12f-196f767af328"
      },
      "outputs": [
        {
          "data": {
            "text/plain": [
              "created_date               object\n",
              "unique_key                  int64\n",
              "complaint_type             object\n",
              "incident_zip              float64\n",
              "incident_address           object\n",
              "street_name                object\n",
              "address_type               object\n",
              "city                       object\n",
              "resolution_description     object\n",
              "borough                    object\n",
              "latitude                  float64\n",
              "longitude                 float64\n",
              "closed_date                object\n",
              "location_type              object\n",
              "status                     object\n",
              "dtype: object"
            ]
          },
          "execution_count": 5,
          "metadata": {},
          "output_type": "execute_result"
        }
      ],
      "source": [
        "df.dtypes"
      ]
    },
    {
      "cell_type": "markdown",
      "id": "c3e00661",
      "metadata": {
        "id": "c3e00661"
      },
      "source": [
        "# Loading the PLUTO DATASET IN THIS MODEL"
      ]
    },
    {
      "cell_type": "code",
      "execution_count": 6,
      "id": "ffd83056",
      "metadata": {
        "colab": {
          "base_uri": "https://localhost:8080/",
          "height": 334
        },
        "id": "ffd83056",
        "outputId": "c009e53d-fc4e-4408-e235-f83e647382c0"
      },
      "outputs": [
        {
          "name": "stderr",
          "output_type": "stream",
          "text": [
            "/tmp/ipykernel_22726/4262539833.py:1: DtypeWarning: Columns (19,20,22,23,64,65,80) have mixed types. Specify dtype option on import or set low_memory=False.\n",
            "  df_bronx = pd.read_csv('Dataset/PLUTO/BX_18v1.csv')\n"
          ]
        },
        {
          "data": {
            "text/html": [
              "<div>\n",
              "<style scoped>\n",
              "    .dataframe tbody tr th:only-of-type {\n",
              "        vertical-align: middle;\n",
              "    }\n",
              "\n",
              "    .dataframe tbody tr th {\n",
              "        vertical-align: top;\n",
              "    }\n",
              "\n",
              "    .dataframe thead th {\n",
              "        text-align: right;\n",
              "    }\n",
              "</style>\n",
              "<table border=\"1\" class=\"dataframe\">\n",
              "  <thead>\n",
              "    <tr style=\"text-align: right;\">\n",
              "      <th></th>\n",
              "      <th>Borough</th>\n",
              "      <th>Block</th>\n",
              "      <th>Lot</th>\n",
              "      <th>CD</th>\n",
              "      <th>CT2010</th>\n",
              "      <th>CB2010</th>\n",
              "      <th>SchoolDist</th>\n",
              "      <th>Council</th>\n",
              "      <th>ZipCode</th>\n",
              "      <th>FireComp</th>\n",
              "      <th>...</th>\n",
              "      <th>ZMCode</th>\n",
              "      <th>Sanborn</th>\n",
              "      <th>TaxMap</th>\n",
              "      <th>EDesigNum</th>\n",
              "      <th>APPBBL</th>\n",
              "      <th>APPDate</th>\n",
              "      <th>PLUTOMapID</th>\n",
              "      <th>FIRM07_FLAG</th>\n",
              "      <th>PFIRM15_FLAG</th>\n",
              "      <th>Version</th>\n",
              "    </tr>\n",
              "  </thead>\n",
              "  <tbody>\n",
              "    <tr>\n",
              "      <th>0</th>\n",
              "      <td>BX</td>\n",
              "      <td>2260</td>\n",
              "      <td>1</td>\n",
              "      <td>201</td>\n",
              "      <td>19.0</td>\n",
              "      <td>1022.0</td>\n",
              "      <td>7.0</td>\n",
              "      <td>8.0</td>\n",
              "      <td>10454.0</td>\n",
              "      <td>L029</td>\n",
              "      <td>...</td>\n",
              "      <td>NaN</td>\n",
              "      <td>209S016</td>\n",
              "      <td>20901.0</td>\n",
              "      <td>E-143</td>\n",
              "      <td>0.0</td>\n",
              "      <td>NaN</td>\n",
              "      <td>1</td>\n",
              "      <td>NaN</td>\n",
              "      <td>NaN</td>\n",
              "      <td>18V1</td>\n",
              "    </tr>\n",
              "    <tr>\n",
              "      <th>1</th>\n",
              "      <td>BX</td>\n",
              "      <td>2260</td>\n",
              "      <td>4</td>\n",
              "      <td>201</td>\n",
              "      <td>19.0</td>\n",
              "      <td>1022.0</td>\n",
              "      <td>7.0</td>\n",
              "      <td>8.0</td>\n",
              "      <td>10454.0</td>\n",
              "      <td>L029</td>\n",
              "      <td>...</td>\n",
              "      <td>NaN</td>\n",
              "      <td>209S016</td>\n",
              "      <td>20901.0</td>\n",
              "      <td>E-143</td>\n",
              "      <td>0.0</td>\n",
              "      <td>NaN</td>\n",
              "      <td>1</td>\n",
              "      <td>NaN</td>\n",
              "      <td>NaN</td>\n",
              "      <td>18V1</td>\n",
              "    </tr>\n",
              "    <tr>\n",
              "      <th>2</th>\n",
              "      <td>BX</td>\n",
              "      <td>2260</td>\n",
              "      <td>10</td>\n",
              "      <td>201</td>\n",
              "      <td>19.0</td>\n",
              "      <td>1022.0</td>\n",
              "      <td>7.0</td>\n",
              "      <td>8.0</td>\n",
              "      <td>10454.0</td>\n",
              "      <td>L029</td>\n",
              "      <td>...</td>\n",
              "      <td>NaN</td>\n",
              "      <td>209S016</td>\n",
              "      <td>20901.0</td>\n",
              "      <td>E-143</td>\n",
              "      <td>0.0</td>\n",
              "      <td>NaN</td>\n",
              "      <td>1</td>\n",
              "      <td>NaN</td>\n",
              "      <td>NaN</td>\n",
              "      <td>18V1</td>\n",
              "    </tr>\n",
              "    <tr>\n",
              "      <th>3</th>\n",
              "      <td>BX</td>\n",
              "      <td>2260</td>\n",
              "      <td>17</td>\n",
              "      <td>201</td>\n",
              "      <td>19.0</td>\n",
              "      <td>1022.0</td>\n",
              "      <td>7.0</td>\n",
              "      <td>8.0</td>\n",
              "      <td>10454.0</td>\n",
              "      <td>L029</td>\n",
              "      <td>...</td>\n",
              "      <td>NaN</td>\n",
              "      <td>209S016</td>\n",
              "      <td>20901.0</td>\n",
              "      <td>E-143</td>\n",
              "      <td>0.0</td>\n",
              "      <td>NaN</td>\n",
              "      <td>1</td>\n",
              "      <td>NaN</td>\n",
              "      <td>NaN</td>\n",
              "      <td>18V1</td>\n",
              "    </tr>\n",
              "    <tr>\n",
              "      <th>4</th>\n",
              "      <td>BX</td>\n",
              "      <td>2260</td>\n",
              "      <td>18</td>\n",
              "      <td>201</td>\n",
              "      <td>19.0</td>\n",
              "      <td>1022.0</td>\n",
              "      <td>7.0</td>\n",
              "      <td>8.0</td>\n",
              "      <td>10454.0</td>\n",
              "      <td>L029</td>\n",
              "      <td>...</td>\n",
              "      <td>NaN</td>\n",
              "      <td>209S016</td>\n",
              "      <td>20901.0</td>\n",
              "      <td>E-143</td>\n",
              "      <td>0.0</td>\n",
              "      <td>NaN</td>\n",
              "      <td>1</td>\n",
              "      <td>NaN</td>\n",
              "      <td>NaN</td>\n",
              "      <td>18V1</td>\n",
              "    </tr>\n",
              "  </tbody>\n",
              "</table>\n",
              "<p>5 rows × 87 columns</p>\n",
              "</div>"
            ],
            "text/plain": [
              "  Borough  Block  Lot   CD  CT2010  CB2010  SchoolDist  Council  ZipCode  \\\n",
              "0      BX   2260    1  201    19.0  1022.0         7.0      8.0  10454.0   \n",
              "1      BX   2260    4  201    19.0  1022.0         7.0      8.0  10454.0   \n",
              "2      BX   2260   10  201    19.0  1022.0         7.0      8.0  10454.0   \n",
              "3      BX   2260   17  201    19.0  1022.0         7.0      8.0  10454.0   \n",
              "4      BX   2260   18  201    19.0  1022.0         7.0      8.0  10454.0   \n",
              "\n",
              "  FireComp  ...  ZMCode  Sanborn   TaxMap  EDesigNum  APPBBL APPDate  \\\n",
              "0     L029  ...     NaN  209S016  20901.0      E-143     0.0     NaN   \n",
              "1     L029  ...     NaN  209S016  20901.0      E-143     0.0     NaN   \n",
              "2     L029  ...     NaN  209S016  20901.0      E-143     0.0     NaN   \n",
              "3     L029  ...     NaN  209S016  20901.0      E-143     0.0     NaN   \n",
              "4     L029  ...     NaN  209S016  20901.0      E-143     0.0     NaN   \n",
              "\n",
              "  PLUTOMapID FIRM07_FLAG PFIRM15_FLAG Version  \n",
              "0          1         NaN          NaN    18V1  \n",
              "1          1         NaN          NaN    18V1  \n",
              "2          1         NaN          NaN    18V1  \n",
              "3          1         NaN          NaN    18V1  \n",
              "4          1         NaN          NaN    18V1  \n",
              "\n",
              "[5 rows x 87 columns]"
            ]
          },
          "execution_count": 6,
          "metadata": {},
          "output_type": "execute_result"
        }
      ],
      "source": [
        "df_bronx = pd.read_csv('Dataset/PLUTO/BX_18v1.csv')\n",
        "df_bronx.head()"
      ]
    },
    {
      "cell_type": "code",
      "execution_count": 7,
      "id": "a911176b",
      "metadata": {
        "colab": {
          "base_uri": "https://localhost:8080/",
          "height": 334
        },
        "id": "a911176b",
        "outputId": "fa811b11-a356-43fc-88a8-13cf68e62fe2"
      },
      "outputs": [
        {
          "name": "stderr",
          "output_type": "stream",
          "text": [
            "/tmp/ipykernel_22726/3727273460.py:1: DtypeWarning: Columns (19,20,22,23,64,65,77) have mixed types. Specify dtype option on import or set low_memory=False.\n",
            "  df_queens = pd.read_csv('Dataset/PLUTO/QN_18v1.csv')\n"
          ]
        },
        {
          "data": {
            "text/html": [
              "<div>\n",
              "<style scoped>\n",
              "    .dataframe tbody tr th:only-of-type {\n",
              "        vertical-align: middle;\n",
              "    }\n",
              "\n",
              "    .dataframe tbody tr th {\n",
              "        vertical-align: top;\n",
              "    }\n",
              "\n",
              "    .dataframe thead th {\n",
              "        text-align: right;\n",
              "    }\n",
              "</style>\n",
              "<table border=\"1\" class=\"dataframe\">\n",
              "  <thead>\n",
              "    <tr style=\"text-align: right;\">\n",
              "      <th></th>\n",
              "      <th>Borough</th>\n",
              "      <th>Block</th>\n",
              "      <th>Lot</th>\n",
              "      <th>CD</th>\n",
              "      <th>CT2010</th>\n",
              "      <th>CB2010</th>\n",
              "      <th>SchoolDist</th>\n",
              "      <th>Council</th>\n",
              "      <th>ZipCode</th>\n",
              "      <th>FireComp</th>\n",
              "      <th>...</th>\n",
              "      <th>ZMCode</th>\n",
              "      <th>Sanborn</th>\n",
              "      <th>TaxMap</th>\n",
              "      <th>EDesigNum</th>\n",
              "      <th>APPBBL</th>\n",
              "      <th>APPDate</th>\n",
              "      <th>PLUTOMapID</th>\n",
              "      <th>FIRM07_FLAG</th>\n",
              "      <th>PFIRM15_FLAG</th>\n",
              "      <th>Version</th>\n",
              "    </tr>\n",
              "  </thead>\n",
              "  <tbody>\n",
              "    <tr>\n",
              "      <th>0</th>\n",
              "      <td>QN</td>\n",
              "      <td>6</td>\n",
              "      <td>1</td>\n",
              "      <td>402</td>\n",
              "      <td>1.0</td>\n",
              "      <td>NaN</td>\n",
              "      <td>30.0</td>\n",
              "      <td>26.0</td>\n",
              "      <td>11101.0</td>\n",
              "      <td>L115</td>\n",
              "      <td>...</td>\n",
              "      <td>Y</td>\n",
              "      <td>401 011</td>\n",
              "      <td>40101.0</td>\n",
              "      <td>NaN</td>\n",
              "      <td>4.000060e+09</td>\n",
              "      <td>09/20/2013</td>\n",
              "      <td>1</td>\n",
              "      <td>1.0</td>\n",
              "      <td>1.0</td>\n",
              "      <td>18V1</td>\n",
              "    </tr>\n",
              "    <tr>\n",
              "      <th>1</th>\n",
              "      <td>QN</td>\n",
              "      <td>6</td>\n",
              "      <td>3</td>\n",
              "      <td>402</td>\n",
              "      <td>1.0</td>\n",
              "      <td>1015.0</td>\n",
              "      <td>30.0</td>\n",
              "      <td>26.0</td>\n",
              "      <td>11101.0</td>\n",
              "      <td>L115</td>\n",
              "      <td>...</td>\n",
              "      <td>NaN</td>\n",
              "      <td>401 011</td>\n",
              "      <td>40101.0</td>\n",
              "      <td>NaN</td>\n",
              "      <td>0.000000e+00</td>\n",
              "      <td>NaN</td>\n",
              "      <td>1</td>\n",
              "      <td>1.0</td>\n",
              "      <td>1.0</td>\n",
              "      <td>18V1</td>\n",
              "    </tr>\n",
              "    <tr>\n",
              "      <th>2</th>\n",
              "      <td>QN</td>\n",
              "      <td>6</td>\n",
              "      <td>8</td>\n",
              "      <td>402</td>\n",
              "      <td>1.0</td>\n",
              "      <td>1011.0</td>\n",
              "      <td>30.0</td>\n",
              "      <td>26.0</td>\n",
              "      <td>11101.0</td>\n",
              "      <td>L115</td>\n",
              "      <td>...</td>\n",
              "      <td>NaN</td>\n",
              "      <td>401 011</td>\n",
              "      <td>40101.0</td>\n",
              "      <td>NaN</td>\n",
              "      <td>4.000060e+09</td>\n",
              "      <td>08/07/2013</td>\n",
              "      <td>1</td>\n",
              "      <td>1.0</td>\n",
              "      <td>1.0</td>\n",
              "      <td>18V1</td>\n",
              "    </tr>\n",
              "    <tr>\n",
              "      <th>3</th>\n",
              "      <td>QN</td>\n",
              "      <td>6</td>\n",
              "      <td>20</td>\n",
              "      <td>402</td>\n",
              "      <td>1.0</td>\n",
              "      <td>NaN</td>\n",
              "      <td>30.0</td>\n",
              "      <td>26.0</td>\n",
              "      <td>11101.0</td>\n",
              "      <td>L115</td>\n",
              "      <td>...</td>\n",
              "      <td>NaN</td>\n",
              "      <td>401 011</td>\n",
              "      <td>40101.0</td>\n",
              "      <td>NaN</td>\n",
              "      <td>4.000060e+09</td>\n",
              "      <td>09/20/2013</td>\n",
              "      <td>1</td>\n",
              "      <td>1.0</td>\n",
              "      <td>1.0</td>\n",
              "      <td>18V1</td>\n",
              "    </tr>\n",
              "    <tr>\n",
              "      <th>4</th>\n",
              "      <td>QN</td>\n",
              "      <td>6</td>\n",
              "      <td>30</td>\n",
              "      <td>402</td>\n",
              "      <td>1.0</td>\n",
              "      <td>NaN</td>\n",
              "      <td>30.0</td>\n",
              "      <td>26.0</td>\n",
              "      <td>11101.0</td>\n",
              "      <td>L115</td>\n",
              "      <td>...</td>\n",
              "      <td>NaN</td>\n",
              "      <td>401 011</td>\n",
              "      <td>40101.0</td>\n",
              "      <td>NaN</td>\n",
              "      <td>4.000060e+09</td>\n",
              "      <td>09/08/2017</td>\n",
              "      <td>1</td>\n",
              "      <td>1.0</td>\n",
              "      <td>1.0</td>\n",
              "      <td>18V1</td>\n",
              "    </tr>\n",
              "  </tbody>\n",
              "</table>\n",
              "<p>5 rows × 87 columns</p>\n",
              "</div>"
            ],
            "text/plain": [
              "  Borough  Block  Lot   CD  CT2010  CB2010  SchoolDist  Council  ZipCode  \\\n",
              "0      QN      6    1  402     1.0     NaN        30.0     26.0  11101.0   \n",
              "1      QN      6    3  402     1.0  1015.0        30.0     26.0  11101.0   \n",
              "2      QN      6    8  402     1.0  1011.0        30.0     26.0  11101.0   \n",
              "3      QN      6   20  402     1.0     NaN        30.0     26.0  11101.0   \n",
              "4      QN      6   30  402     1.0     NaN        30.0     26.0  11101.0   \n",
              "\n",
              "  FireComp  ...  ZMCode  Sanborn   TaxMap  EDesigNum        APPBBL  \\\n",
              "0     L115  ...       Y  401 011  40101.0        NaN  4.000060e+09   \n",
              "1     L115  ...     NaN  401 011  40101.0        NaN  0.000000e+00   \n",
              "2     L115  ...     NaN  401 011  40101.0        NaN  4.000060e+09   \n",
              "3     L115  ...     NaN  401 011  40101.0        NaN  4.000060e+09   \n",
              "4     L115  ...     NaN  401 011  40101.0        NaN  4.000060e+09   \n",
              "\n",
              "      APPDate PLUTOMapID FIRM07_FLAG PFIRM15_FLAG Version  \n",
              "0  09/20/2013          1         1.0          1.0    18V1  \n",
              "1         NaN          1         1.0          1.0    18V1  \n",
              "2  08/07/2013          1         1.0          1.0    18V1  \n",
              "3  09/20/2013          1         1.0          1.0    18V1  \n",
              "4  09/08/2017          1         1.0          1.0    18V1  \n",
              "\n",
              "[5 rows x 87 columns]"
            ]
          },
          "execution_count": 7,
          "metadata": {},
          "output_type": "execute_result"
        }
      ],
      "source": [
        "df_queens = pd.read_csv('Dataset/PLUTO/QN_18v1.csv')\n",
        "df_queens.head()"
      ]
    },
    {
      "cell_type": "code",
      "execution_count": 8,
      "id": "1d5a870c",
      "metadata": {
        "colab": {
          "base_uri": "https://localhost:8080/"
        },
        "id": "1d5a870c",
        "outputId": "29bf2faf-9b1e-4f0c-eb74-428a827e5421"
      },
      "outputs": [
        {
          "name": "stdout",
          "output_type": "stream",
          "text": [
            "There are 29 different complaint types.\n"
          ]
        }
      ],
      "source": [
        "print ('There are {} different complaint types.'.format(df['complaint_type'].nunique()))\n"
      ]
    },
    {
      "cell_type": "code",
      "execution_count": 9,
      "id": "8d145f9c",
      "metadata": {
        "colab": {
          "base_uri": "https://localhost:8080/"
        },
        "id": "8d145f9c",
        "outputId": "2a39c748-c55a-4a6a-fed0-fb8b5c937e5b"
      },
      "outputs": [
        {
          "data": {
            "text/plain": [
              "HEAT/HOT WATER            1149978\n",
              "HEATING                    887869\n",
              "PLUMBING                   702046\n",
              "GENERAL CONSTRUCTION       500863\n",
              "UNSANITARY CONDITION       434830\n",
              "PAINT - PLASTER            361258\n",
              "PAINT/PLASTER              340753\n",
              "ELECTRIC                   303115\n",
              "NONCONST                   260890\n",
              "DOOR/WINDOW                199443\n",
              "WATER LEAK                 186913\n",
              "GENERAL                    145825\n",
              "FLOORING/STAIRS            135159\n",
              "APPLIANCE                  109480\n",
              "HPD Literature Request      52830\n",
              "SAFETY                      49904\n",
              "OUTSIDE BUILDING             7015\n",
              "ELEVATOR                     6397\n",
              "Unsanitary Condition         5499\n",
              "CONSTRUCTION                 5078\n",
              "General                      1163\n",
              "Safety                        424\n",
              "STRUCTURAL                     16\n",
              "Plumbing                       11\n",
              "AGENCY                          9\n",
              "VACANT APARTMENT                8\n",
              "Outside Building                6\n",
              "Appliance                       4\n",
              "Mold                            1\n",
              "Name: complaint_type, dtype: int64"
            ]
          },
          "execution_count": 9,
          "metadata": {},
          "output_type": "execute_result"
        }
      ],
      "source": [
        "df['complaint_type'].value_counts() "
      ]
    },
    {
      "cell_type": "code",
      "execution_count": 10,
      "id": "fa6bfcd8",
      "metadata": {
        "colab": {
          "base_uri": "https://localhost:8080/",
          "height": 969
        },
        "id": "fa6bfcd8",
        "outputId": "7eaaf2a9-9638-4f22-b89c-dbe85da75500"
      },
      "outputs": [
        {
          "name": "stderr",
          "output_type": "stream",
          "text": [
            "/home/dingo/.local/lib/python3.10/site-packages/seaborn/_decorators.py:36: FutureWarning: Pass the following variable as a keyword arg: x. From version 0.12, the only valid positional argument will be `data`, and passing other arguments without an explicit keyword will result in an error or misinterpretation.\n",
            "  warnings.warn(\n"
          ]
        },
        {
          "data": {
            "text/plain": [
              "[Text(0, 0, 'HEAT/HOT WATER'),\n",
              " Text(1, 0, 'UNSANITARY CONDITION'),\n",
              " Text(2, 0, 'DOOR/WINDOW'),\n",
              " Text(3, 0, 'FLOORING/STAIRS'),\n",
              " Text(4, 0, 'PLUMBING'),\n",
              " Text(5, 0, 'WATER LEAK'),\n",
              " Text(6, 0, 'GENERAL'),\n",
              " Text(7, 0, 'PAINT/PLASTER'),\n",
              " Text(8, 0, 'ELECTRIC'),\n",
              " Text(9, 0, 'SAFETY'),\n",
              " Text(10, 0, 'APPLIANCE'),\n",
              " Text(11, 0, 'ELEVATOR'),\n",
              " Text(12, 0, 'OUTSIDE BUILDING'),\n",
              " Text(13, 0, 'General'),\n",
              " Text(14, 0, 'Unsanitary Condition'),\n",
              " Text(15, 0, 'Safety'),\n",
              " Text(16, 0, 'Appliance'),\n",
              " Text(17, 0, 'Mold'),\n",
              " Text(18, 0, 'Plumbing'),\n",
              " Text(19, 0, 'Outside Building'),\n",
              " Text(20, 0, 'HPD Literature Request'),\n",
              " Text(21, 0, 'HEATING'),\n",
              " Text(22, 0, 'GENERAL CONSTRUCTION'),\n",
              " Text(23, 0, 'PAINT - PLASTER'),\n",
              " Text(24, 0, 'NONCONST'),\n",
              " Text(25, 0, 'CONSTRUCTION'),\n",
              " Text(26, 0, 'AGENCY'),\n",
              " Text(27, 0, 'STRUCTURAL'),\n",
              " Text(28, 0, 'VACANT APARTMENT')]"
            ]
          },
          "execution_count": 10,
          "metadata": {},
          "output_type": "execute_result"
        },
        {
          "data": {
            "image/png": "[encoded data removed]",
            "text/plain": [
              "<Figure size 432x288 with 1 Axes>"
            ]
          },
          "metadata": {
            "needs_background": "light"
          },
          "output_type": "display_data"
        }
      ],
      "source": [
        "df['complaint_type'].value_counts().head()\n",
        "plot=sns.countplot(df['complaint_type'])\n",
        "plot.set_xticklabels(plot.get_xticklabels(),rotation=90)"
      ]
    },
    {
      "cell_type": "code",
      "execution_count": 11,
      "id": "aac71b77",
      "metadata": {
        "colab": {
          "base_uri": "https://localhost:8080/",
          "height": 307
        },
        "id": "aac71b77",
        "outputId": "b5293c89-8fe0-43d7-aaef-faa10d859786"
      },
      "outputs": [
        {
          "data": {
            "text/plain": [
              "<AxesSubplot:xlabel='borough', ylabel='count'>"
            ]
          },
          "execution_count": 11,
          "metadata": {},
          "output_type": "execute_result"
        },
        {
          "data": {
            "image/png": "[encoded data removed]",
            "text/plain": [
              "<Figure size 432x288 with 1 Axes>"
            ]
          },
          "metadata": {
            "needs_background": "light"
          },
          "output_type": "display_data"
        }
      ],
      "source": [
        "#Newyork city has how many boroughs and whats their status \n",
        "sns.countplot(x=df.loc[df['city']=='NEW YORK',]['borough'],hue='status',data=df)"
      ]
    },
    {
      "cell_type": "code",
      "execution_count": 12,
      "id": "dd7bcd1d",
      "metadata": {
        "colab": {
          "base_uri": "https://localhost:8080/"
        },
        "id": "dd7bcd1d",
        "outputId": "2e3ee8eb-557e-4ca1-e6cb-3f3846095611"
      },
      "outputs": [
        {
          "data": {
            "text/plain": [
              "array(['NEW YORK', 'BROOKLYN', 'Jackson Heights', 'BRONX', 'Rego Park',\n",
              "       'Far Rockaway', 'Jamaica', 'Flushing', 'Ozone Park',\n",
              "       'STATEN ISLAND', 'Astoria', 'Woodside', 'Elmhurst', 'Hollis',\n",
              "       'Springfield Gardens', 'Ridgewood', 'Sunnyside', 'Rockaway Park',\n",
              "       'Queens Village', 'Saint Albans', 'Corona', 'East Elmhurst',\n",
              "       'Long Island City', 'Maspeth', 'Bayside', 'Kew Gardens',\n",
              "       'Cambria Heights', 'Forest Hills', 'Oakland Gardens',\n",
              "       'College Point', 'Richmond Hill', 'South Richmond Hill', nan,\n",
              "       'South Ozone Park', 'Arverne', 'Woodhaven', 'Bellerose',\n",
              "       'Middle Village', 'Howard Beach', 'Fresh Meadows', 'Rosedale',\n",
              "       'Whitestone', 'Little Neck', 'Glen Oaks', 'SAINT ALBANS',\n",
              "       'JACKSON HEIGHTS', 'Floral Park', 'RICHMOND HILL', 'Breezy Point',\n",
              "       'JAMAICA', 'QUEENS', 'New Hyde Park', 'FLUSHING', 'ASTORIA',\n",
              "       'WOODHAVEN', 'WOODSIDE', 'OZONE PARK', 'ARVERNE', 'QUEENS VILLAGE',\n",
              "       'RIDGEWOOD', 'CORONA', 'FOREST HILLS', 'ROCKAWAY PARK', 'BAYSIDE',\n",
              "       'SOUTH OZONE PARK', 'FAR ROCKAWAY', 'MASPETH', 'LONG ISLAND CITY',\n",
              "       'REGO PARK', 'ELMHURST', 'FRESH MEADOWS', 'MIDDLE VILLAGE',\n",
              "       'KEW GARDENS', 'OAKLAND GARDENS', 'SUNNYSIDE',\n",
              "       'SPRINGFIELD GARDENS', 'GLEN OAKS', 'HOLLIS',\n",
              "       'SOUTH RICHMOND HILL', 'ROSEDALE', 'EAST ELMHURST', 'WHITESTONE',\n",
              "       'BELLEROSE', 'COLLEGE POINT', 'LITTLE NECK', 'CAMBRIA HEIGHTS',\n",
              "       'HOWARD BEACH', 'BREEZY POINT', 'FLORAL PARK', 'NEW HYDE PARK'],\n",
              "      dtype=object)"
            ]
          },
          "execution_count": 12,
          "metadata": {},
          "output_type": "execute_result"
        }
      ],
      "source": [
        "df['city'].unique()"
      ]
    },
    {
      "cell_type": "code",
      "execution_count": 13,
      "id": "a99724f7",
      "metadata": {
        "colab": {
          "base_uri": "https://localhost:8080/"
        },
        "id": "a99724f7",
        "outputId": "4c493c38-54c9-4e44-f509-6d41f3c98f04"
      },
      "outputs": [
        {
          "data": {
            "text/plain": [
              "created_date              5846787\n",
              "unique_key                5846787\n",
              "complaint_type            5846787\n",
              "incident_zip              5766174\n",
              "incident_address          5793956\n",
              "street_name               5793956\n",
              "address_type              5762008\n",
              "city                      5766575\n",
              "resolution_description    5833597\n",
              "borough                   5846787\n",
              "latitude                  5766200\n",
              "longitude                 5766200\n",
              "closed_date               5723327\n",
              "location_type             5793957\n",
              "status                    5846787\n",
              "dtype: int64"
            ]
          },
          "execution_count": 13,
          "metadata": {},
          "output_type": "execute_result"
        }
      ],
      "source": [
        "df.count()"
      ]
    },
    {
      "cell_type": "code",
      "execution_count": 14,
      "id": "887331dd",
      "metadata": {
        "colab": {
          "base_uri": "https://localhost:8080/",
          "height": 424
        },
        "id": "887331dd",
        "outputId": "71f8bc49-b8e6-4131-d27a-24566379599f"
      },
      "outputs": [
        {
          "data": {
            "text/html": [
              "<div>\n",
              "<style scoped>\n",
              "    .dataframe tbody tr th:only-of-type {\n",
              "        vertical-align: middle;\n",
              "    }\n",
              "\n",
              "    .dataframe tbody tr th {\n",
              "        vertical-align: top;\n",
              "    }\n",
              "\n",
              "    .dataframe thead th {\n",
              "        text-align: right;\n",
              "    }\n",
              "</style>\n",
              "<table border=\"1\" class=\"dataframe\">\n",
              "  <thead>\n",
              "    <tr style=\"text-align: right;\">\n",
              "      <th></th>\n",
              "      <th>complaint_type</th>\n",
              "      <th>city</th>\n",
              "      <th>count</th>\n",
              "    </tr>\n",
              "  </thead>\n",
              "  <tbody>\n",
              "    <tr>\n",
              "      <th>0</th>\n",
              "      <td>AGENCY</td>\n",
              "      <td>Arverne</td>\n",
              "      <td>1</td>\n",
              "    </tr>\n",
              "    <tr>\n",
              "      <th>1</th>\n",
              "      <td>AGENCY</td>\n",
              "      <td>BRONX</td>\n",
              "      <td>3</td>\n",
              "    </tr>\n",
              "    <tr>\n",
              "      <th>2</th>\n",
              "      <td>AGENCY</td>\n",
              "      <td>BROOKLYN</td>\n",
              "      <td>1</td>\n",
              "    </tr>\n",
              "    <tr>\n",
              "      <th>3</th>\n",
              "      <td>AGENCY</td>\n",
              "      <td>Jamaica</td>\n",
              "      <td>1</td>\n",
              "    </tr>\n",
              "    <tr>\n",
              "      <th>4</th>\n",
              "      <td>AGENCY</td>\n",
              "      <td>NEW YORK</td>\n",
              "      <td>2</td>\n",
              "    </tr>\n",
              "    <tr>\n",
              "      <th>...</th>\n",
              "      <td>...</td>\n",
              "      <td>...</td>\n",
              "      <td>...</td>\n",
              "    </tr>\n",
              "    <tr>\n",
              "      <th>1270</th>\n",
              "      <td>WATER LEAK</td>\n",
              "      <td>Springfield Gardens</td>\n",
              "      <td>366</td>\n",
              "    </tr>\n",
              "    <tr>\n",
              "      <th>1271</th>\n",
              "      <td>WATER LEAK</td>\n",
              "      <td>Sunnyside</td>\n",
              "      <td>540</td>\n",
              "    </tr>\n",
              "    <tr>\n",
              "      <th>1272</th>\n",
              "      <td>WATER LEAK</td>\n",
              "      <td>Whitestone</td>\n",
              "      <td>58</td>\n",
              "    </tr>\n",
              "    <tr>\n",
              "      <th>1273</th>\n",
              "      <td>WATER LEAK</td>\n",
              "      <td>Woodhaven</td>\n",
              "      <td>308</td>\n",
              "    </tr>\n",
              "    <tr>\n",
              "      <th>1274</th>\n",
              "      <td>WATER LEAK</td>\n",
              "      <td>Woodside</td>\n",
              "      <td>688</td>\n",
              "    </tr>\n",
              "  </tbody>\n",
              "</table>\n",
              "<p>1275 rows × 3 columns</p>\n",
              "</div>"
            ],
            "text/plain": [
              "     complaint_type                 city  count\n",
              "0            AGENCY              Arverne      1\n",
              "1            AGENCY                BRONX      3\n",
              "2            AGENCY             BROOKLYN      1\n",
              "3            AGENCY              Jamaica      1\n",
              "4            AGENCY             NEW YORK      2\n",
              "...             ...                  ...    ...\n",
              "1270     WATER LEAK  Springfield Gardens    366\n",
              "1271     WATER LEAK            Sunnyside    540\n",
              "1272     WATER LEAK           Whitestone     58\n",
              "1273     WATER LEAK            Woodhaven    308\n",
              "1274     WATER LEAK             Woodside    688\n",
              "\n",
              "[1275 rows x 3 columns]"
            ]
          },
          "execution_count": 14,
          "metadata": {},
          "output_type": "execute_result"
        }
      ],
      "source": [
        "complaintTypecity = pd.DataFrame({'count':\n",
        "                                  df.groupby(['complaint_type','city']).size()}).reset_index()\n",
        "complaintTypecity"
      ]
    },
    {
      "cell_type": "code",
      "execution_count": 15,
      "id": "b1ff8ea1",
      "metadata": {
        "colab": {
          "base_uri": "https://localhost:8080/"
        },
        "id": "b1ff8ea1",
        "outputId": "38c731e8-d765-449e-c4ac-60fa600107b6"
      },
      "outputs": [
        {
          "data": {
            "text/plain": [
              "borough      complaint_type  resolution_description                                                                                                                                                                                                                                                                                                          \n",
              "BRONX        AGENCY          The Department of Housing Preservation and Development inspected the following conditions. No violations were issued. The complaint has been closed.                                                                                                                                                                                    3\n",
              "             APPLIANCE       The Department of Housing Preservation and Development conducted or attempted to conduct an inspection.  More information about inspection results can be found through HPD's website at www.nyc.gov/hpd by using HPDONLINE (enter your address on the home page) and entering your SR number under the complaint status option.       12\n",
              "                             The Department of Housing Preservation and Development contacted a tenant in the building and verified that the following conditions were corrected. The complaint has been closed. If the condition still exists, please file a new complaint.                                                                                         1\n",
              "                             The Department of Housing Preservation and Development contacted an occupant of the apartment and verified that the following conditions were corrected. The complaint has been closed. If the condition still exists, please file a new complaint.                                                                                  1227\n",
              "                             The Department of Housing Preservation and Development contacted an occupant of the apartment or building and verified that the complaint was addressed.  The complaint has been closed.                                                                                                                                               20\n",
              "                                                                                                                                                                                                                                                                                                                                                                 ...  \n",
              "Unspecified  PLUMBING        The Department of Housing Preservation and Development was not able to gain access to inspect the conditions. If the conditions still exist and an inspection is required, please contact the borough office with your complaint number at 718 816 - 2340 (STATEN ISLAND).                                                             29\n",
              "                             The Department of Housing Preservation and Development was not able to gain access to inspect the conditions. If the conditions still exist and an inspection is required, please contact the borough office with your complaint number at 718 827 - 1955 (BROOKLYN).                                                                 863\n",
              "                             The Department of Housing Preservation and Development was not able to gain access to inspect the following conditions. The complaint has been closed. If the condition still exists, please file a new complaint.                                                                                                                  33281\n",
              "                             The Department of Housing Preservation and Development was not able to gain access to your apartment or others in the building to inspect for a lack of heat or hot water. The complaint has been closed. If the condition still exists, please file a new complaint.                                                                   4\n",
              "                             The following complaint conditions are still open.  HPD may attempt to contact you to verify the correction of the condition or may conduct an inspection.                                                                                                                                                                           2573\n",
              "Length: 2747, dtype: int64"
            ]
          },
          "execution_count": 15,
          "metadata": {},
          "output_type": "execute_result"
        }
      ],
      "source": [
        "df.groupby(['borough','complaint_type','resolution_description']).size()\n"
      ]
    },
    {
      "cell_type": "code",
      "execution_count": 16,
      "id": "fbd356de",
      "metadata": {
        "colab": {
          "base_uri": "https://localhost:8080/",
          "height": 442
        },
        "id": "fbd356de",
        "outputId": "46191e97-4bbd-477b-8de2-36d3f323ba62",
        "scrolled": true
      },
      "outputs": [
        {
          "data": {
            "image/png": "[encoded data removed]",
            "text/plain": [
              "<Figure size 504x504 with 1 Axes>"
            ]
          },
          "metadata": {
            "needs_background": "light"
          },
          "output_type": "display_data"
        }
      ],
      "source": [
        "df['complaint_type'].value_counts().plot(kind='barh',alpha=0.6,figsize=(7,7))\n",
        "plt.ylabel('complaint type')\n",
        "plt.xlabel('Complaint count')\n",
        "plt.show()"
      ]
    },
    {
      "cell_type": "code",
      "execution_count": 17,
      "id": "897e5b69",
      "metadata": {
        "colab": {
          "base_uri": "https://localhost:8080/"
        },
        "id": "897e5b69",
        "outputId": "8fcc06c2-9d05-4f9a-eb9f-5a0585406ee9"
      },
      "outputs": [
        {
          "data": {
            "text/plain": [
              "borough      complaint_type  resolution_description                                                                                                                                                                                                                                                                                                          \n",
              "BRONX        AGENCY          The Department of Housing Preservation and Development inspected the following conditions. No violations were issued. The complaint has been closed.                                                                                                                                                                                    3\n",
              "             APPLIANCE       The Department of Housing Preservation and Development conducted or attempted to conduct an inspection.  More information about inspection results can be found through HPD's website at www.nyc.gov/hpd by using HPDONLINE (enter your address on the home page) and entering your SR number under the complaint status option.       12\n",
              "                             The Department of Housing Preservation and Development contacted a tenant in the building and verified that the following conditions were corrected. The complaint has been closed. If the condition still exists, please file a new complaint.                                                                                         1\n",
              "                             The Department of Housing Preservation and Development contacted an occupant of the apartment and verified that the following conditions were corrected. The complaint has been closed. If the condition still exists, please file a new complaint.                                                                                  1227\n",
              "                             The Department of Housing Preservation and Development contacted an occupant of the apartment or building and verified that the complaint was addressed.  The complaint has been closed.                                                                                                                                               20\n",
              "                                                                                                                                                                                                                                                                                                                                                                 ...  \n",
              "Unspecified  PLUMBING        The Department of Housing Preservation and Development was not able to gain access to inspect the conditions. If the conditions still exist and an inspection is required, please contact the borough office with your complaint number at 718 816 - 2340 (STATEN ISLAND).                                                             29\n",
              "                             The Department of Housing Preservation and Development was not able to gain access to inspect the conditions. If the conditions still exist and an inspection is required, please contact the borough office with your complaint number at 718 827 - 1955 (BROOKLYN).                                                                 863\n",
              "                             The Department of Housing Preservation and Development was not able to gain access to inspect the following conditions. The complaint has been closed. If the condition still exists, please file a new complaint.                                                                                                                  33281\n",
              "                             The Department of Housing Preservation and Development was not able to gain access to your apartment or others in the building to inspect for a lack of heat or hot water. The complaint has been closed. If the condition still exists, please file a new complaint.                                                                   4\n",
              "                             The following complaint conditions are still open.  HPD may attempt to contact you to verify the correction of the condition or may conduct an inspection.                                                                                                                                                                           2573\n",
              "Length: 2747, dtype: int64"
            ]
          },
          "execution_count": 17,
          "metadata": {},
          "output_type": "execute_result"
        }
      ],
      "source": [
        "df.groupby([\"borough\",\"complaint_type\",\"resolution_description\"]).size()\n"
      ]
    },
    {
      "cell_type": "code",
      "execution_count": 18,
      "id": "b3198b9b",
      "metadata": {
        "colab": {
          "base_uri": "https://localhost:8080/",
          "height": 363
        },
        "id": "b3198b9b",
        "outputId": "0bac016a-c6e1-4b2e-f5db-865a99ff75e6"
      },
      "outputs": [
        {
          "data": {
            "text/html": [
              "<div>\n",
              "<style scoped>\n",
              "    .dataframe tbody tr th:only-of-type {\n",
              "        vertical-align: middle;\n",
              "    }\n",
              "\n",
              "    .dataframe tbody tr th {\n",
              "        vertical-align: top;\n",
              "    }\n",
              "\n",
              "    .dataframe thead th {\n",
              "        text-align: right;\n",
              "    }\n",
              "</style>\n",
              "<table border=\"1\" class=\"dataframe\">\n",
              "  <thead>\n",
              "    <tr style=\"text-align: right;\">\n",
              "      <th></th>\n",
              "      <th>complaint_type</th>\n",
              "      <th>count</th>\n",
              "    </tr>\n",
              "  </thead>\n",
              "  <tbody>\n",
              "    <tr>\n",
              "      <th>0</th>\n",
              "      <td>HEAT/HOT WATER</td>\n",
              "      <td>1149978</td>\n",
              "    </tr>\n",
              "    <tr>\n",
              "      <th>1</th>\n",
              "      <td>HEATING</td>\n",
              "      <td>887869</td>\n",
              "    </tr>\n",
              "    <tr>\n",
              "      <th>2</th>\n",
              "      <td>PLUMBING</td>\n",
              "      <td>702046</td>\n",
              "    </tr>\n",
              "    <tr>\n",
              "      <th>3</th>\n",
              "      <td>GENERAL CONSTRUCTION</td>\n",
              "      <td>500863</td>\n",
              "    </tr>\n",
              "    <tr>\n",
              "      <th>4</th>\n",
              "      <td>UNSANITARY CONDITION</td>\n",
              "      <td>434830</td>\n",
              "    </tr>\n",
              "    <tr>\n",
              "      <th>5</th>\n",
              "      <td>PAINT - PLASTER</td>\n",
              "      <td>361258</td>\n",
              "    </tr>\n",
              "    <tr>\n",
              "      <th>6</th>\n",
              "      <td>PAINT/PLASTER</td>\n",
              "      <td>340753</td>\n",
              "    </tr>\n",
              "    <tr>\n",
              "      <th>7</th>\n",
              "      <td>ELECTRIC</td>\n",
              "      <td>303115</td>\n",
              "    </tr>\n",
              "    <tr>\n",
              "      <th>8</th>\n",
              "      <td>NONCONST</td>\n",
              "      <td>260890</td>\n",
              "    </tr>\n",
              "    <tr>\n",
              "      <th>9</th>\n",
              "      <td>DOOR/WINDOW</td>\n",
              "      <td>199443</td>\n",
              "    </tr>\n",
              "  </tbody>\n",
              "</table>\n",
              "</div>"
            ],
            "text/plain": [
              "         complaint_type    count\n",
              "0        HEAT/HOT WATER  1149978\n",
              "1               HEATING   887869\n",
              "2              PLUMBING   702046\n",
              "3  GENERAL CONSTRUCTION   500863\n",
              "4  UNSANITARY CONDITION   434830\n",
              "5       PAINT - PLASTER   361258\n",
              "6         PAINT/PLASTER   340753\n",
              "7              ELECTRIC   303115\n",
              "8              NONCONST   260890\n",
              "9           DOOR/WINDOW   199443"
            ]
          },
          "execution_count": 18,
          "metadata": {},
          "output_type": "execute_result"
        }
      ],
      "source": [
        "majorcomplaints=df.dropna(subset=[\"complaint_type\"])\n",
        "majorcomplaints=df.groupby(\"complaint_type\")\n",
        "\n",
        "sortedComplaintType = majorcomplaints.size().sort_values(ascending = False)\n",
        "sortedComplaintType = sortedComplaintType.to_frame('count').reset_index()\n",
        "\n",
        "sortedComplaintType\n",
        "sortedComplaintType.head(10)"
      ]
    },
    {
      "cell_type": "code",
      "execution_count": 19,
      "id": "e3c681ea",
      "metadata": {
        "colab": {
          "base_uri": "https://localhost:8080/",
          "height": 303
        },
        "id": "e3c681ea",
        "outputId": "39e740e5-336d-4740-dac6-8fd77afc2cc7"
      },
      "outputs": [
        {
          "data": {
            "image/png": "[encoded data removed]",
            "text/plain": [
              "<Figure size 360x360 with 1 Axes>"
            ]
          },
          "metadata": {},
          "output_type": "display_data"
        }
      ],
      "source": [
        "sortedComplaintType = sortedComplaintType.head()\n",
        "plt.figure(figsize=(5,5))\n",
        "plt.pie(sortedComplaintType['count'],labels=sortedComplaintType[\"complaint_type\"], autopct=\"%1.1f%%\")\n",
        "plt.show()"
      ]
    },
    {
      "cell_type": "code",
      "execution_count": 20,
      "id": "7e97cbe1",
      "metadata": {
        "colab": {
          "base_uri": "https://localhost:8080/",
          "height": 713
        },
        "id": "7e97cbe1",
        "outputId": "cbdbd266-59fb-42b0-9d3a-7311ee142f3d"
      },
      "outputs": [
        {
          "data": {
            "text/html": [
              "<div>\n",
              "<style scoped>\n",
              "    .dataframe tbody tr th:only-of-type {\n",
              "        vertical-align: middle;\n",
              "    }\n",
              "\n",
              "    .dataframe tbody tr th {\n",
              "        vertical-align: top;\n",
              "    }\n",
              "\n",
              "    .dataframe thead th {\n",
              "        text-align: right;\n",
              "    }\n",
              "</style>\n",
              "<table border=\"1\" class=\"dataframe\">\n",
              "  <thead>\n",
              "    <tr style=\"text-align: right;\">\n",
              "      <th></th>\n",
              "      <th>created_date</th>\n",
              "      <th>unique_key</th>\n",
              "      <th>complaint_type</th>\n",
              "      <th>incident_zip</th>\n",
              "      <th>incident_address</th>\n",
              "      <th>street_name</th>\n",
              "      <th>address_type</th>\n",
              "      <th>city</th>\n",
              "      <th>resolution_description</th>\n",
              "      <th>borough</th>\n",
              "      <th>latitude</th>\n",
              "      <th>longitude</th>\n",
              "      <th>closed_date</th>\n",
              "      <th>location_type</th>\n",
              "      <th>status</th>\n",
              "    </tr>\n",
              "  </thead>\n",
              "  <tbody>\n",
              "    <tr>\n",
              "      <th>0</th>\n",
              "      <td>2019-08-23T12:35:54.000</td>\n",
              "      <td>43624241</td>\n",
              "      <td>HEAT/HOT WATER</td>\n",
              "      <td>10032.0</td>\n",
              "      <td>560 WEST  160 STREET</td>\n",
              "      <td>WEST  160 STREET</td>\n",
              "      <td>ADDRESS</td>\n",
              "      <td>NEW YORK</td>\n",
              "      <td>The complaint you filed is a duplicate of a co...</td>\n",
              "      <td>MANHATTAN</td>\n",
              "      <td>40.835396</td>\n",
              "      <td>-73.942262</td>\n",
              "      <td>NaN</td>\n",
              "      <td>RESIDENTIAL BUILDING</td>\n",
              "      <td>Open</td>\n",
              "    </tr>\n",
              "    <tr>\n",
              "      <th>1</th>\n",
              "      <td>2019-08-23T08:43:58.000</td>\n",
              "      <td>43623659</td>\n",
              "      <td>UNSANITARY CONDITION</td>\n",
              "      <td>11208.0</td>\n",
              "      <td>261 MONTAUK AVENUE</td>\n",
              "      <td>MONTAUK AVENUE</td>\n",
              "      <td>ADDRESS</td>\n",
              "      <td>BROOKLYN</td>\n",
              "      <td>The following complaint conditions are still o...</td>\n",
              "      <td>BROOKLYN</td>\n",
              "      <td>40.672494</td>\n",
              "      <td>-73.877521</td>\n",
              "      <td>NaN</td>\n",
              "      <td>RESIDENTIAL BUILDING</td>\n",
              "      <td>Open</td>\n",
              "    </tr>\n",
              "    <tr>\n",
              "      <th>2</th>\n",
              "      <td>2019-08-23T09:08:09.000</td>\n",
              "      <td>43624463</td>\n",
              "      <td>UNSANITARY CONDITION</td>\n",
              "      <td>10002.0</td>\n",
              "      <td>125 MADISON STREET</td>\n",
              "      <td>MADISON STREET</td>\n",
              "      <td>ADDRESS</td>\n",
              "      <td>NEW YORK</td>\n",
              "      <td>The following complaint conditions are still o...</td>\n",
              "      <td>MANHATTAN</td>\n",
              "      <td>40.712353</td>\n",
              "      <td>-73.993947</td>\n",
              "      <td>NaN</td>\n",
              "      <td>RESIDENTIAL BUILDING</td>\n",
              "      <td>Open</td>\n",
              "    </tr>\n",
              "    <tr>\n",
              "      <th>3</th>\n",
              "      <td>2019-08-23T16:36:08.000</td>\n",
              "      <td>43625072</td>\n",
              "      <td>DOOR/WINDOW</td>\n",
              "      <td>11211.0</td>\n",
              "      <td>525 UNION AVENUE</td>\n",
              "      <td>UNION AVENUE</td>\n",
              "      <td>ADDRESS</td>\n",
              "      <td>BROOKLYN</td>\n",
              "      <td>The following complaint conditions are still o...</td>\n",
              "      <td>BROOKLYN</td>\n",
              "      <td>40.716233</td>\n",
              "      <td>-73.951986</td>\n",
              "      <td>NaN</td>\n",
              "      <td>RESIDENTIAL BUILDING</td>\n",
              "      <td>Open</td>\n",
              "    </tr>\n",
              "    <tr>\n",
              "      <th>4</th>\n",
              "      <td>2019-08-23T11:15:00.000</td>\n",
              "      <td>43623738</td>\n",
              "      <td>UNSANITARY CONDITION</td>\n",
              "      <td>11372.0</td>\n",
              "      <td>35-52F 73 STREET</td>\n",
              "      <td>73 STREET</td>\n",
              "      <td>ADDRESS</td>\n",
              "      <td>Jackson Heights</td>\n",
              "      <td>NaN</td>\n",
              "      <td>QUEENS</td>\n",
              "      <td>40.750533</td>\n",
              "      <td>-73.892998</td>\n",
              "      <td>NaN</td>\n",
              "      <td>RESIDENTIAL BUILDING</td>\n",
              "      <td>Open</td>\n",
              "    </tr>\n",
              "    <tr>\n",
              "      <th>...</th>\n",
              "      <td>...</td>\n",
              "      <td>...</td>\n",
              "      <td>...</td>\n",
              "      <td>...</td>\n",
              "      <td>...</td>\n",
              "      <td>...</td>\n",
              "      <td>...</td>\n",
              "      <td>...</td>\n",
              "      <td>...</td>\n",
              "      <td>...</td>\n",
              "      <td>...</td>\n",
              "      <td>...</td>\n",
              "      <td>...</td>\n",
              "      <td>...</td>\n",
              "      <td>...</td>\n",
              "    </tr>\n",
              "    <tr>\n",
              "      <th>3600850</th>\n",
              "      <td>2015-05-26T00:00:00.000</td>\n",
              "      <td>30702555</td>\n",
              "      <td>VACANT APARTMENT</td>\n",
              "      <td>10001.0</td>\n",
              "      <td>349 10 AVENUE</td>\n",
              "      <td>10 AVENUE</td>\n",
              "      <td>ADDRESS</td>\n",
              "      <td>NEW YORK</td>\n",
              "      <td>The Department of Housing Preservation and Dev...</td>\n",
              "      <td>MANHATTAN</td>\n",
              "      <td>40.752622</td>\n",
              "      <td>-74.000585</td>\n",
              "      <td>2015-06-05T00:00:00.000</td>\n",
              "      <td>RESIDENTIAL BUILDING</td>\n",
              "      <td>Closed</td>\n",
              "    </tr>\n",
              "    <tr>\n",
              "      <th>3667715</th>\n",
              "      <td>2015-07-01T13:19:44.000</td>\n",
              "      <td>31141719</td>\n",
              "      <td>AGENCY</td>\n",
              "      <td>10459.0</td>\n",
              "      <td>1038 LOWELL STREET</td>\n",
              "      <td>LOWELL STREET</td>\n",
              "      <td>ADDRESS</td>\n",
              "      <td>BRONX</td>\n",
              "      <td>The Department of Housing Preservation and Dev...</td>\n",
              "      <td>BRONX</td>\n",
              "      <td>40.825961</td>\n",
              "      <td>-73.887349</td>\n",
              "      <td>2015-07-22T10:29:50.000</td>\n",
              "      <td>RESIDENTIAL BUILDING</td>\n",
              "      <td>Closed</td>\n",
              "    </tr>\n",
              "    <tr>\n",
              "      <th>3726314</th>\n",
              "      <td>2015-09-10T03:59:53.000</td>\n",
              "      <td>31503131</td>\n",
              "      <td>VACANT APARTMENT</td>\n",
              "      <td>11435.0</td>\n",
              "      <td>147-22 106 AVENUE</td>\n",
              "      <td>106 AVENUE</td>\n",
              "      <td>ADDRESS</td>\n",
              "      <td>Jamaica</td>\n",
              "      <td>The following complaint conditions are still o...</td>\n",
              "      <td>QUEENS</td>\n",
              "      <td>40.695320</td>\n",
              "      <td>-73.802633</td>\n",
              "      <td>NaN</td>\n",
              "      <td>RESIDENTIAL BUILDING</td>\n",
              "      <td>Open</td>\n",
              "    </tr>\n",
              "    <tr>\n",
              "      <th>4063507</th>\n",
              "      <td>2016-02-01T11:49:02.000</td>\n",
              "      <td>32736480</td>\n",
              "      <td>AGENCY</td>\n",
              "      <td>11204.0</td>\n",
              "      <td>1725 61 STREET</td>\n",
              "      <td>61 STREET</td>\n",
              "      <td>ADDRESS</td>\n",
              "      <td>BROOKLYN</td>\n",
              "      <td>The Department of Housing Preservation and Dev...</td>\n",
              "      <td>BROOKLYN</td>\n",
              "      <td>40.622360</td>\n",
              "      <td>-73.989366</td>\n",
              "      <td>2016-02-19T09:10:59.000</td>\n",
              "      <td>RESIDENTIAL BUILDING</td>\n",
              "      <td>Closed</td>\n",
              "    </tr>\n",
              "    <tr>\n",
              "      <th>4201467</th>\n",
              "      <td>2016-06-02T15:53:23.000</td>\n",
              "      <td>33497995</td>\n",
              "      <td>VACANT APARTMENT</td>\n",
              "      <td>10027.0</td>\n",
              "      <td>410 WEST  128 STREET</td>\n",
              "      <td>WEST  128 STREET</td>\n",
              "      <td>ADDRESS</td>\n",
              "      <td>NEW YORK</td>\n",
              "      <td>The following complaint conditions are still o...</td>\n",
              "      <td>MANHATTAN</td>\n",
              "      <td>40.813097</td>\n",
              "      <td>-73.952169</td>\n",
              "      <td>NaN</td>\n",
              "      <td>RESIDENTIAL BUILDING</td>\n",
              "      <td>Open</td>\n",
              "    </tr>\n",
              "  </tbody>\n",
              "</table>\n",
              "<p>140 rows × 15 columns</p>\n",
              "</div>"
            ],
            "text/plain": [
              "                    created_date  unique_key        complaint_type  \\\n",
              "0        2019-08-23T12:35:54.000    43624241        HEAT/HOT WATER   \n",
              "1        2019-08-23T08:43:58.000    43623659  UNSANITARY CONDITION   \n",
              "2        2019-08-23T09:08:09.000    43624463  UNSANITARY CONDITION   \n",
              "3        2019-08-23T16:36:08.000    43625072           DOOR/WINDOW   \n",
              "4        2019-08-23T11:15:00.000    43623738  UNSANITARY CONDITION   \n",
              "...                          ...         ...                   ...   \n",
              "3600850  2015-05-26T00:00:00.000    30702555      VACANT APARTMENT   \n",
              "3667715  2015-07-01T13:19:44.000    31141719                AGENCY   \n",
              "3726314  2015-09-10T03:59:53.000    31503131      VACANT APARTMENT   \n",
              "4063507  2016-02-01T11:49:02.000    32736480                AGENCY   \n",
              "4201467  2016-06-02T15:53:23.000    33497995      VACANT APARTMENT   \n",
              "\n",
              "         incident_zip      incident_address       street_name address_type  \\\n",
              "0             10032.0  560 WEST  160 STREET  WEST  160 STREET      ADDRESS   \n",
              "1             11208.0    261 MONTAUK AVENUE    MONTAUK AVENUE      ADDRESS   \n",
              "2             10002.0    125 MADISON STREET    MADISON STREET      ADDRESS   \n",
              "3             11211.0      525 UNION AVENUE      UNION AVENUE      ADDRESS   \n",
              "4             11372.0      35-52F 73 STREET         73 STREET      ADDRESS   \n",
              "...               ...                   ...               ...          ...   \n",
              "3600850       10001.0         349 10 AVENUE         10 AVENUE      ADDRESS   \n",
              "3667715       10459.0    1038 LOWELL STREET     LOWELL STREET      ADDRESS   \n",
              "3726314       11435.0     147-22 106 AVENUE        106 AVENUE      ADDRESS   \n",
              "4063507       11204.0        1725 61 STREET         61 STREET      ADDRESS   \n",
              "4201467       10027.0  410 WEST  128 STREET  WEST  128 STREET      ADDRESS   \n",
              "\n",
              "                    city                             resolution_description  \\\n",
              "0               NEW YORK  The complaint you filed is a duplicate of a co...   \n",
              "1               BROOKLYN  The following complaint conditions are still o...   \n",
              "2               NEW YORK  The following complaint conditions are still o...   \n",
              "3               BROOKLYN  The following complaint conditions are still o...   \n",
              "4        Jackson Heights                                                NaN   \n",
              "...                  ...                                                ...   \n",
              "3600850         NEW YORK  The Department of Housing Preservation and Dev...   \n",
              "3667715            BRONX  The Department of Housing Preservation and Dev...   \n",
              "3726314          Jamaica  The following complaint conditions are still o...   \n",
              "4063507         BROOKLYN  The Department of Housing Preservation and Dev...   \n",
              "4201467         NEW YORK  The following complaint conditions are still o...   \n",
              "\n",
              "           borough   latitude  longitude              closed_date  \\\n",
              "0        MANHATTAN  40.835396 -73.942262                      NaN   \n",
              "1         BROOKLYN  40.672494 -73.877521                      NaN   \n",
              "2        MANHATTAN  40.712353 -73.993947                      NaN   \n",
              "3         BROOKLYN  40.716233 -73.951986                      NaN   \n",
              "4           QUEENS  40.750533 -73.892998                      NaN   \n",
              "...            ...        ...        ...                      ...   \n",
              "3600850  MANHATTAN  40.752622 -74.000585  2015-06-05T00:00:00.000   \n",
              "3667715      BRONX  40.825961 -73.887349  2015-07-22T10:29:50.000   \n",
              "3726314     QUEENS  40.695320 -73.802633                      NaN   \n",
              "4063507   BROOKLYN  40.622360 -73.989366  2016-02-19T09:10:59.000   \n",
              "4201467  MANHATTAN  40.813097 -73.952169                      NaN   \n",
              "\n",
              "                location_type  status  \n",
              "0        RESIDENTIAL BUILDING    Open  \n",
              "1        RESIDENTIAL BUILDING    Open  \n",
              "2        RESIDENTIAL BUILDING    Open  \n",
              "3        RESIDENTIAL BUILDING    Open  \n",
              "4        RESIDENTIAL BUILDING    Open  \n",
              "...                       ...     ...  \n",
              "3600850  RESIDENTIAL BUILDING  Closed  \n",
              "3667715  RESIDENTIAL BUILDING  Closed  \n",
              "3726314  RESIDENTIAL BUILDING    Open  \n",
              "4063507  RESIDENTIAL BUILDING  Closed  \n",
              "4201467  RESIDENTIAL BUILDING    Open  \n",
              "\n",
              "[140 rows x 15 columns]"
            ]
          },
          "execution_count": 20,
          "metadata": {},
          "output_type": "execute_result"
        }
      ],
      "source": [
        "groupedby_complainttype = df.groupby('complaint_type')\n",
        "groupedby_complainttype.head() "
      ]
    },
    {
      "cell_type": "code",
      "execution_count": 21,
      "id": "130105f2",
      "metadata": {
        "colab": {
          "base_uri": "https://localhost:8080/"
        },
        "id": "130105f2",
        "outputId": "5202df10-f8de-4e7a-b19e-3f0e10896807"
      },
      "outputs": [
        {
          "data": {
            "text/plain": [
              "(887869, 15)"
            ]
          },
          "execution_count": 21,
          "metadata": {},
          "output_type": "execute_result"
        }
      ],
      "source": [
        "grp_data = groupedby_complainttype.get_group('HEATING')\n",
        "grp_data.shape"
      ]
    },
    {
      "cell_type": "code",
      "execution_count": 22,
      "id": "c4b793f7",
      "metadata": {
        "colab": {
          "base_uri": "https://localhost:8080/",
          "height": 873
        },
        "id": "c4b793f7",
        "outputId": "ea8deeeb-3561-471a-c8e1-8c85152c0790"
      },
      "outputs": [
        {
          "data": {
            "image/png": "[encoded data removed]",
            "text/plain": [
              "<Figure size 864x864 with 6 Axes>"
            ]
          },
          "metadata": {
            "needs_background": "light"
          },
          "output_type": "display_data"
        }
      ],
      "source": [
        "# Visualization of most Complaints per Borough\n",
        "borough_comp = df.groupby(['complaint_type','borough']).size().unstack()\n",
        "\n",
        "col_number = 2\n",
        "row_number = 3\n",
        "fig, axes = plt.subplots(row_number,col_number, figsize=(12,12))\n",
        "\n",
        "for i, (label,col) in enumerate(borough_comp.iteritems()):\n",
        "    ax = axes[int(i/col_number), i%col_number]\n",
        "    col = col.sort_values(ascending=True)[:15]\n",
        "    col.plot(kind='barh', ax=ax)\n",
        "    ax.set_title(label)\n",
        "    \n",
        "    \n",
        "plt.tight_layout()"
      ]
    },
    {
      "cell_type": "code",
      "execution_count": 23,
      "id": "ff8b3d38",
      "metadata": {
        "colab": {
          "base_uri": "https://localhost:8080/",
          "height": 770
        },
        "id": "ff8b3d38",
        "outputId": "54916764-e78a-4af1-f17c-150b0a247347"
      },
      "outputs": [
        {
          "name": "stdout",
          "output_type": "stream",
          "text": [
            "Defaulting to user installation because normal site-packages is not writeable\n",
            "Requirement already satisfied: squarify in /home/dingo/.local/lib/python3.10/site-packages (0.4.3)\n",
            "\n",
            "\u001b[1m[\u001b[0m\u001b[34;49mnotice\u001b[0m\u001b[1;39;49m]\u001b[0m\u001b[39;49m A new release of pip available: \u001b[0m\u001b[31;49m22.3\u001b[0m\u001b[39;49m -> \u001b[0m\u001b[32;49m22.3.1\u001b[0m\n",
            "\u001b[1m[\u001b[0m\u001b[34;49mnotice\u001b[0m\u001b[1;39;49m]\u001b[0m\u001b[39;49m To update, run: \u001b[0m\u001b[32;49mpip install --upgrade pip\u001b[0m\n"
          ]
        },
        {
          "data": {
            "image/png": "[encoded data removed]",
            "text/plain": [
              "<Figure size 1008x864 with 1 Axes>"
            ]
          },
          "metadata": {
            "needs_background": "light"
          },
          "output_type": "display_data"
        }
      ],
      "source": [
        "citywise_complaints = pd.DataFrame(df['city'].value_counts()[:10])\n",
        "!pip install squarify\n",
        "import squarify\n",
        "fig = plt.gcf()\n",
        "fig.set_size_inches(14, 12)\n",
        "label=zip(list(citywise_complaints.index),citywise_complaints['city'])\n",
        "squarify.plot(sizes=citywise_complaints['city'], label=label, alpha=0.7)\n",
        "plt.axis('off')\n",
        "plt.show()"
      ]
    },
    {
      "cell_type": "code",
      "execution_count": 24,
      "id": "6d8640e0",
      "metadata": {
        "colab": {
          "base_uri": "https://localhost:8080/",
          "height": 442
        },
        "id": "6d8640e0",
        "outputId": "013f606e-5c64-4119-d6d1-efc930b88e51"
      },
      "outputs": [
        {
          "data": {
            "image/png": "[encoded data removed]",
            "text/plain": [
              "<Figure size 504x504 with 1 Axes>"
            ]
          },
          "metadata": {
            "needs_background": "light"
          },
          "output_type": "display_data"
        }
      ],
      "source": [
        "df['borough'].value_counts().plot(kind='barh',alpha=0.6,figsize=(7,7))\n",
        "plt.xlabel('Complaint Count')\n",
        "plt.ylabel('Borough')\n",
        "plt.show()"
      ]
    },
    {
      "cell_type": "markdown",
      "id": "39054571",
      "metadata": {
        "id": "39054571"
      },
      "source": [
        "# EDA for PLUTO dataset"
      ]
    },
    {
      "cell_type": "code",
      "execution_count": 25,
      "id": "fca52954",
      "metadata": {
        "colab": {
          "base_uri": "https://localhost:8080/",
          "height": 394
        },
        "id": "fca52954",
        "outputId": "7446a474-8d1e-456f-ff91-d13ffe22991c"
      },
      "outputs": [
        {
          "data": {
            "text/html": [
              "<div>\n",
              "<style scoped>\n",
              "    .dataframe tbody tr th:only-of-type {\n",
              "        vertical-align: middle;\n",
              "    }\n",
              "\n",
              "    .dataframe tbody tr th {\n",
              "        vertical-align: top;\n",
              "    }\n",
              "\n",
              "    .dataframe thead th {\n",
              "        text-align: right;\n",
              "    }\n",
              "</style>\n",
              "<table border=\"1\" class=\"dataframe\">\n",
              "  <thead>\n",
              "    <tr style=\"text-align: right;\">\n",
              "      <th></th>\n",
              "      <th>Block</th>\n",
              "      <th>Lot</th>\n",
              "      <th>CD</th>\n",
              "      <th>CT2010</th>\n",
              "      <th>CB2010</th>\n",
              "      <th>SchoolDist</th>\n",
              "      <th>Council</th>\n",
              "      <th>ZipCode</th>\n",
              "      <th>PolicePrct</th>\n",
              "      <th>HealthCenterDistrict</th>\n",
              "      <th>...</th>\n",
              "      <th>BBL</th>\n",
              "      <th>CondoNo</th>\n",
              "      <th>Tract2010</th>\n",
              "      <th>XCoord</th>\n",
              "      <th>YCoord</th>\n",
              "      <th>TaxMap</th>\n",
              "      <th>APPBBL</th>\n",
              "      <th>PLUTOMapID</th>\n",
              "      <th>FIRM07_FLAG</th>\n",
              "      <th>PFIRM15_FLAG</th>\n",
              "    </tr>\n",
              "  </thead>\n",
              "  <tbody>\n",
              "    <tr>\n",
              "      <th>count</th>\n",
              "      <td>89854.000000</td>\n",
              "      <td>89854.000000</td>\n",
              "      <td>89854.000000</td>\n",
              "      <td>89447.000000</td>\n",
              "      <td>87342.000000</td>\n",
              "      <td>89695.000000</td>\n",
              "      <td>89649.000000</td>\n",
              "      <td>89525.000000</td>\n",
              "      <td>89692.000000</td>\n",
              "      <td>89727.000000</td>\n",
              "      <td>...</td>\n",
              "      <td>8.985400e+04</td>\n",
              "      <td>89854.000000</td>\n",
              "      <td>89854.000000</td>\n",
              "      <td>8.659500e+04</td>\n",
              "      <td>86595.000000</td>\n",
              "      <td>89735.000000</td>\n",
              "      <td>8.978800e+04</td>\n",
              "      <td>89854.000000</td>\n",
              "      <td>3511.0</td>\n",
              "      <td>3332.0</td>\n",
              "    </tr>\n",
              "    <tr>\n",
              "      <th>mean</th>\n",
              "      <td>4131.182251</td>\n",
              "      <td>111.493601</td>\n",
              "      <td>208.689285</td>\n",
              "      <td>261.931201</td>\n",
              "      <td>2262.054911</td>\n",
              "      <td>9.875177</td>\n",
              "      <td>13.771554</td>\n",
              "      <td>10464.280726</td>\n",
              "      <td>45.990244</td>\n",
              "      <td>24.223456</td>\n",
              "      <td>...</td>\n",
              "      <td>2.041312e+09</td>\n",
              "      <td>0.247168</td>\n",
              "      <td>4570.454426</td>\n",
              "      <td>1.021686e+06</td>\n",
              "      <td>249975.676667</td>\n",
              "      <td>21427.498323</td>\n",
              "      <td>2.489073e+08</td>\n",
              "      <td>1.005409</td>\n",
              "      <td>1.0</td>\n",
              "      <td>1.0</td>\n",
              "    </tr>\n",
              "    <tr>\n",
              "      <th>std</th>\n",
              "      <td>1018.222757</td>\n",
              "      <td>467.387099</td>\n",
              "      <td>3.391957</td>\n",
              "      <td>135.896915</td>\n",
              "      <td>1295.630978</td>\n",
              "      <td>1.495090</td>\n",
              "      <td>2.510671</td>\n",
              "      <td>7.292127</td>\n",
              "      <td>2.960286</td>\n",
              "      <td>1.657153</td>\n",
              "      <td>...</td>\n",
              "      <td>1.018227e+07</td>\n",
              "      <td>6.057533</td>\n",
              "      <td>11176.004071</td>\n",
              "      <td>8.599340e+03</td>\n",
              "      <td>9778.614120</td>\n",
              "      <td>870.304482</td>\n",
              "      <td>6.672353e+08</td>\n",
              "      <td>0.106094</td>\n",
              "      <td>0.0</td>\n",
              "      <td>0.0</td>\n",
              "    </tr>\n",
              "    <tr>\n",
              "      <th>min</th>\n",
              "      <td>0.000000</td>\n",
              "      <td>1.000000</td>\n",
              "      <td>111.000000</td>\n",
              "      <td>1.000000</td>\n",
              "      <td>1.000000</td>\n",
              "      <td>7.000000</td>\n",
              "      <td>8.000000</td>\n",
              "      <td>10451.000000</td>\n",
              "      <td>40.000000</td>\n",
              "      <td>17.000000</td>\n",
              "      <td>...</td>\n",
              "      <td>2.000009e+09</td>\n",
              "      <td>0.000000</td>\n",
              "      <td>0.000000</td>\n",
              "      <td>1.002677e+06</td>\n",
              "      <td>227527.000000</td>\n",
              "      <td>2.000000</td>\n",
              "      <td>0.000000e+00</td>\n",
              "      <td>1.000000</td>\n",
              "      <td>1.0</td>\n",
              "      <td>1.0</td>\n",
              "    </tr>\n",
              "    <tr>\n",
              "      <th>25%</th>\n",
              "      <td>3239.000000</td>\n",
              "      <td>20.000000</td>\n",
              "      <td>207.000000</td>\n",
              "      <td>151.000000</td>\n",
              "      <td>1004.000000</td>\n",
              "      <td>8.000000</td>\n",
              "      <td>12.000000</td>\n",
              "      <td>10460.000000</td>\n",
              "      <td>44.000000</td>\n",
              "      <td>23.000000</td>\n",
              "      <td>...</td>\n",
              "      <td>2.032390e+09</td>\n",
              "      <td>0.000000</td>\n",
              "      <td>157.000000</td>\n",
              "      <td>1.014310e+06</td>\n",
              "      <td>241918.000000</td>\n",
              "      <td>21111.000000</td>\n",
              "      <td>0.000000e+00</td>\n",
              "      <td>1.000000</td>\n",
              "      <td>1.0</td>\n",
              "      <td>1.0</td>\n",
              "    </tr>\n",
              "    <tr>\n",
              "      <th>50%</th>\n",
              "      <td>4203.000000</td>\n",
              "      <td>41.000000</td>\n",
              "      <td>210.000000</td>\n",
              "      <td>269.000000</td>\n",
              "      <td>2002.000000</td>\n",
              "      <td>10.000000</td>\n",
              "      <td>13.000000</td>\n",
              "      <td>10465.000000</td>\n",
              "      <td>47.000000</td>\n",
              "      <td>24.000000</td>\n",
              "      <td>...</td>\n",
              "      <td>2.042030e+09</td>\n",
              "      <td>0.000000</td>\n",
              "      <td>316.000000</td>\n",
              "      <td>1.023321e+06</td>\n",
              "      <td>248586.000000</td>\n",
              "      <td>21509.000000</td>\n",
              "      <td>0.000000e+00</td>\n",
              "      <td>1.000000</td>\n",
              "      <td>1.0</td>\n",
              "      <td>1.0</td>\n",
              "    </tr>\n",
              "    <tr>\n",
              "      <th>75%</th>\n",
              "      <td>4960.000000</td>\n",
              "      <td>73.000000</td>\n",
              "      <td>211.000000</td>\n",
              "      <td>382.000000</td>\n",
              "      <td>3002.000000</td>\n",
              "      <td>11.000000</td>\n",
              "      <td>16.000000</td>\n",
              "      <td>10469.000000</td>\n",
              "      <td>48.000000</td>\n",
              "      <td>26.000000</td>\n",
              "      <td>...</td>\n",
              "      <td>2.049600e+09</td>\n",
              "      <td>0.000000</td>\n",
              "      <td>424.000000</td>\n",
              "      <td>1.027126e+06</td>\n",
              "      <td>258036.500000</td>\n",
              "      <td>21704.000000</td>\n",
              "      <td>0.000000e+00</td>\n",
              "      <td>1.000000</td>\n",
              "      <td>1.0</td>\n",
              "      <td>1.0</td>\n",
              "    </tr>\n",
              "    <tr>\n",
              "      <th>max</th>\n",
              "      <td>9999.000000</td>\n",
              "      <td>9978.000000</td>\n",
              "      <td>401.000000</td>\n",
              "      <td>516.000000</td>\n",
              "      <td>9003.000000</td>\n",
              "      <td>12.000000</td>\n",
              "      <td>22.000000</td>\n",
              "      <td>11370.000000</td>\n",
              "      <td>114.000000</td>\n",
              "      <td>26.000000</td>\n",
              "      <td>...</td>\n",
              "      <td>2.099999e+09</td>\n",
              "      <td>247.000000</td>\n",
              "      <td>46202.000000</td>\n",
              "      <td>1.047777e+06</td>\n",
              "      <td>272275.000000</td>\n",
              "      <td>21906.000000</td>\n",
              "      <td>2.059570e+09</td>\n",
              "      <td>4.000000</td>\n",
              "      <td>1.0</td>\n",
              "      <td>1.0</td>\n",
              "    </tr>\n",
              "  </tbody>\n",
              "</table>\n",
              "<p>8 rows × 62 columns</p>\n",
              "</div>"
            ],
            "text/plain": [
              "              Block           Lot            CD        CT2010        CB2010  \\\n",
              "count  89854.000000  89854.000000  89854.000000  89447.000000  87342.000000   \n",
              "mean    4131.182251    111.493601    208.689285    261.931201   2262.054911   \n",
              "std     1018.222757    467.387099      3.391957    135.896915   1295.630978   \n",
              "min        0.000000      1.000000    111.000000      1.000000      1.000000   \n",
              "25%     3239.000000     20.000000    207.000000    151.000000   1004.000000   \n",
              "50%     4203.000000     41.000000    210.000000    269.000000   2002.000000   \n",
              "75%     4960.000000     73.000000    211.000000    382.000000   3002.000000   \n",
              "max     9999.000000   9978.000000    401.000000    516.000000   9003.000000   \n",
              "\n",
              "         SchoolDist       Council       ZipCode    PolicePrct  \\\n",
              "count  89695.000000  89649.000000  89525.000000  89692.000000   \n",
              "mean       9.875177     13.771554  10464.280726     45.990244   \n",
              "std        1.495090      2.510671      7.292127      2.960286   \n",
              "min        7.000000      8.000000  10451.000000     40.000000   \n",
              "25%        8.000000     12.000000  10460.000000     44.000000   \n",
              "50%       10.000000     13.000000  10465.000000     47.000000   \n",
              "75%       11.000000     16.000000  10469.000000     48.000000   \n",
              "max       12.000000     22.000000  11370.000000    114.000000   \n",
              "\n",
              "       HealthCenterDistrict  ...           BBL       CondoNo     Tract2010  \\\n",
              "count          89727.000000  ...  8.985400e+04  89854.000000  89854.000000   \n",
              "mean              24.223456  ...  2.041312e+09      0.247168   4570.454426   \n",
              "std                1.657153  ...  1.018227e+07      6.057533  11176.004071   \n",
              "min               17.000000  ...  2.000009e+09      0.000000      0.000000   \n",
              "25%               23.000000  ...  2.032390e+09      0.000000    157.000000   \n",
              "50%               24.000000  ...  2.042030e+09      0.000000    316.000000   \n",
              "75%               26.000000  ...  2.049600e+09      0.000000    424.000000   \n",
              "max               26.000000  ...  2.099999e+09    247.000000  46202.000000   \n",
              "\n",
              "             XCoord         YCoord        TaxMap        APPBBL    PLUTOMapID  \\\n",
              "count  8.659500e+04   86595.000000  89735.000000  8.978800e+04  89854.000000   \n",
              "mean   1.021686e+06  249975.676667  21427.498323  2.489073e+08      1.005409   \n",
              "std    8.599340e+03    9778.614120    870.304482  6.672353e+08      0.106094   \n",
              "min    1.002677e+06  227527.000000      2.000000  0.000000e+00      1.000000   \n",
              "25%    1.014310e+06  241918.000000  21111.000000  0.000000e+00      1.000000   \n",
              "50%    1.023321e+06  248586.000000  21509.000000  0.000000e+00      1.000000   \n",
              "75%    1.027126e+06  258036.500000  21704.000000  0.000000e+00      1.000000   \n",
              "max    1.047777e+06  272275.000000  21906.000000  2.059570e+09      4.000000   \n",
              "\n",
              "       FIRM07_FLAG  PFIRM15_FLAG  \n",
              "count       3511.0        3332.0  \n",
              "mean           1.0           1.0  \n",
              "std            0.0           0.0  \n",
              "min            1.0           1.0  \n",
              "25%            1.0           1.0  \n",
              "50%            1.0           1.0  \n",
              "75%            1.0           1.0  \n",
              "max            1.0           1.0  \n",
              "\n",
              "[8 rows x 62 columns]"
            ]
          },
          "execution_count": 25,
          "metadata": {},
          "output_type": "execute_result"
        }
      ],
      "source": [
        "df_bronx.describe()"
      ]
    },
    {
      "cell_type": "code",
      "execution_count": 26,
      "id": "55e8fa9e",
      "metadata": {
        "colab": {
          "base_uri": "https://localhost:8080/",
          "height": 394
        },
        "id": "55e8fa9e",
        "outputId": "55ff94a9-2945-4e27-fdfa-db6f4715e99e"
      },
      "outputs": [
        {
          "data": {
            "text/html": [
              "<div>\n",
              "<style scoped>\n",
              "    .dataframe tbody tr th:only-of-type {\n",
              "        vertical-align: middle;\n",
              "    }\n",
              "\n",
              "    .dataframe tbody tr th {\n",
              "        vertical-align: top;\n",
              "    }\n",
              "\n",
              "    .dataframe thead th {\n",
              "        text-align: right;\n",
              "    }\n",
              "</style>\n",
              "<table border=\"1\" class=\"dataframe\">\n",
              "  <thead>\n",
              "    <tr style=\"text-align: right;\">\n",
              "      <th></th>\n",
              "      <th>Block</th>\n",
              "      <th>Lot</th>\n",
              "      <th>CD</th>\n",
              "      <th>CT2010</th>\n",
              "      <th>CB2010</th>\n",
              "      <th>SchoolDist</th>\n",
              "      <th>Council</th>\n",
              "      <th>ZipCode</th>\n",
              "      <th>PolicePrct</th>\n",
              "      <th>HealthCenterDistrict</th>\n",
              "      <th>...</th>\n",
              "      <th>BBL</th>\n",
              "      <th>CondoNo</th>\n",
              "      <th>Tract2010</th>\n",
              "      <th>XCoord</th>\n",
              "      <th>YCoord</th>\n",
              "      <th>TaxMap</th>\n",
              "      <th>APPBBL</th>\n",
              "      <th>PLUTOMapID</th>\n",
              "      <th>FIRM07_FLAG</th>\n",
              "      <th>PFIRM15_FLAG</th>\n",
              "    </tr>\n",
              "  </thead>\n",
              "  <tbody>\n",
              "    <tr>\n",
              "      <th>count</th>\n",
              "      <td>324583.00000</td>\n",
              "      <td>324583.000000</td>\n",
              "      <td>324583.000000</td>\n",
              "      <td>323326.000000</td>\n",
              "      <td>316965.000000</td>\n",
              "      <td>323675.000000</td>\n",
              "      <td>323672.000000</td>\n",
              "      <td>323318.000000</td>\n",
              "      <td>323684.000000</td>\n",
              "      <td>323768.000000</td>\n",
              "      <td>...</td>\n",
              "      <td>3.245830e+05</td>\n",
              "      <td>324583.000000</td>\n",
              "      <td>324583.000000</td>\n",
              "      <td>3.161360e+05</td>\n",
              "      <td>316136.000000</td>\n",
              "      <td>324346.000000</td>\n",
              "      <td>3.244110e+05</td>\n",
              "      <td>324583.000000</td>\n",
              "      <td>12310.0</td>\n",
              "      <td>20908.0</td>\n",
              "    </tr>\n",
              "    <tr>\n",
              "      <th>mean</th>\n",
              "      <td>7353.65016</td>\n",
              "      <td>75.311132</td>\n",
              "      <td>408.493935</td>\n",
              "      <td>635.514286</td>\n",
              "      <td>1980.547874</td>\n",
              "      <td>26.935865</td>\n",
              "      <td>25.950234</td>\n",
              "      <td>11383.720848</td>\n",
              "      <td>107.661880</td>\n",
              "      <td>43.787524</td>\n",
              "      <td>...</td>\n",
              "      <td>4.073537e+09</td>\n",
              "      <td>1.535536</td>\n",
              "      <td>15480.949255</td>\n",
              "      <td>1.034140e+06</td>\n",
              "      <td>200622.280313</td>\n",
              "      <td>43231.498896</td>\n",
              "      <td>2.837517e+08</td>\n",
              "      <td>1.002622</td>\n",
              "      <td>1.0</td>\n",
              "      <td>1.0</td>\n",
              "    </tr>\n",
              "    <tr>\n",
              "      <th>std</th>\n",
              "      <td>4450.25388</td>\n",
              "      <td>428.619250</td>\n",
              "      <td>4.158364</td>\n",
              "      <td>427.123785</td>\n",
              "      <td>1154.807342</td>\n",
              "      <td>1.983664</td>\n",
              "      <td>4.314681</td>\n",
              "      <td>110.768303</td>\n",
              "      <td>4.121771</td>\n",
              "      <td>1.427982</td>\n",
              "      <td>...</td>\n",
              "      <td>4.450253e+07</td>\n",
              "      <td>32.175905</td>\n",
              "      <td>37819.872121</td>\n",
              "      <td>1.616350e+04</td>\n",
              "      <td>15838.706805</td>\n",
              "      <td>2099.800366</td>\n",
              "      <td>1.038066e+09</td>\n",
              "      <td>0.071789</td>\n",
              "      <td>0.0</td>\n",
              "      <td>0.0</td>\n",
              "    </tr>\n",
              "    <tr>\n",
              "      <th>min</th>\n",
              "      <td>6.00000</td>\n",
              "      <td>1.000000</td>\n",
              "      <td>212.000000</td>\n",
              "      <td>1.000000</td>\n",
              "      <td>1.000000</td>\n",
              "      <td>24.000000</td>\n",
              "      <td>19.000000</td>\n",
              "      <td>11001.000000</td>\n",
              "      <td>100.000000</td>\n",
              "      <td>41.000000</td>\n",
              "      <td>...</td>\n",
              "      <td>4.000060e+09</td>\n",
              "      <td>0.000000</td>\n",
              "      <td>0.000000</td>\n",
              "      <td>9.953000e+05</td>\n",
              "      <td>142173.000000</td>\n",
              "      <td>4.000000</td>\n",
              "      <td>0.000000e+00</td>\n",
              "      <td>1.000000</td>\n",
              "      <td>1.0</td>\n",
              "      <td>1.0</td>\n",
              "    </tr>\n",
              "    <tr>\n",
              "      <th>25%</th>\n",
              "      <td>3268.00000</td>\n",
              "      <td>18.000000</td>\n",
              "      <td>405.000000</td>\n",
              "      <td>284.000000</td>\n",
              "      <td>1005.000000</td>\n",
              "      <td>25.000000</td>\n",
              "      <td>22.000000</td>\n",
              "      <td>11364.000000</td>\n",
              "      <td>104.000000</td>\n",
              "      <td>43.000000</td>\n",
              "      <td>...</td>\n",
              "      <td>4.032680e+09</td>\n",
              "      <td>0.000000</td>\n",
              "      <td>329.000000</td>\n",
              "      <td>1.021286e+06</td>\n",
              "      <td>190668.000000</td>\n",
              "      <td>41703.000000</td>\n",
              "      <td>0.000000e+00</td>\n",
              "      <td>1.000000</td>\n",
              "      <td>1.0</td>\n",
              "      <td>1.0</td>\n",
              "    </tr>\n",
              "    <tr>\n",
              "      <th>50%</th>\n",
              "      <td>7402.00000</td>\n",
              "      <td>36.000000</td>\n",
              "      <td>409.000000</td>\n",
              "      <td>567.000000</td>\n",
              "      <td>2001.000000</td>\n",
              "      <td>27.000000</td>\n",
              "      <td>27.000000</td>\n",
              "      <td>11385.000000</td>\n",
              "      <td>107.000000</td>\n",
              "      <td>44.000000</td>\n",
              "      <td>...</td>\n",
              "      <td>4.074020e+09</td>\n",
              "      <td>0.000000</td>\n",
              "      <td>625.000000</td>\n",
              "      <td>1.035070e+06</td>\n",
              "      <td>201510.000000</td>\n",
              "      <td>43302.000000</td>\n",
              "      <td>0.000000e+00</td>\n",
              "      <td>1.000000</td>\n",
              "      <td>1.0</td>\n",
              "      <td>1.0</td>\n",
              "    </tr>\n",
              "    <tr>\n",
              "      <th>75%</th>\n",
              "      <td>11007.00000</td>\n",
              "      <td>59.000000</td>\n",
              "      <td>412.000000</td>\n",
              "      <td>939.000000</td>\n",
              "      <td>2014.000000</td>\n",
              "      <td>29.000000</td>\n",
              "      <td>30.000000</td>\n",
              "      <td>11421.000000</td>\n",
              "      <td>111.000000</td>\n",
              "      <td>45.000000</td>\n",
              "      <td>...</td>\n",
              "      <td>4.110070e+09</td>\n",
              "      <td>0.000000</td>\n",
              "      <td>1223.000000</td>\n",
              "      <td>1.047428e+06</td>\n",
              "      <td>213084.000000</td>\n",
              "      <td>44804.000000</td>\n",
              "      <td>0.000000e+00</td>\n",
              "      <td>1.000000</td>\n",
              "      <td>1.0</td>\n",
              "      <td>1.0</td>\n",
              "    </tr>\n",
              "    <tr>\n",
              "      <th>max</th>\n",
              "      <td>16350.00000</td>\n",
              "      <td>9130.000000</td>\n",
              "      <td>484.000000</td>\n",
              "      <td>1621.000000</td>\n",
              "      <td>8013.000000</td>\n",
              "      <td>30.000000</td>\n",
              "      <td>34.000000</td>\n",
              "      <td>11697.000000</td>\n",
              "      <td>115.000000</td>\n",
              "      <td>46.000000</td>\n",
              "      <td>...</td>\n",
              "      <td>4.163500e+09</td>\n",
              "      <td>1069.000000</td>\n",
              "      <td>157903.000000</td>\n",
              "      <td>1.067279e+06</td>\n",
              "      <td>231092.000000</td>\n",
              "      <td>46303.000000</td>\n",
              "      <td>4.163190e+09</td>\n",
              "      <td>4.000000</td>\n",
              "      <td>1.0</td>\n",
              "      <td>1.0</td>\n",
              "    </tr>\n",
              "  </tbody>\n",
              "</table>\n",
              "<p>8 rows × 62 columns</p>\n",
              "</div>"
            ],
            "text/plain": [
              "              Block            Lot             CD         CT2010  \\\n",
              "count  324583.00000  324583.000000  324583.000000  323326.000000   \n",
              "mean     7353.65016      75.311132     408.493935     635.514286   \n",
              "std      4450.25388     428.619250       4.158364     427.123785   \n",
              "min         6.00000       1.000000     212.000000       1.000000   \n",
              "25%      3268.00000      18.000000     405.000000     284.000000   \n",
              "50%      7402.00000      36.000000     409.000000     567.000000   \n",
              "75%     11007.00000      59.000000     412.000000     939.000000   \n",
              "max     16350.00000    9130.000000     484.000000    1621.000000   \n",
              "\n",
              "              CB2010     SchoolDist        Council        ZipCode  \\\n",
              "count  316965.000000  323675.000000  323672.000000  323318.000000   \n",
              "mean     1980.547874      26.935865      25.950234   11383.720848   \n",
              "std      1154.807342       1.983664       4.314681     110.768303   \n",
              "min         1.000000      24.000000      19.000000   11001.000000   \n",
              "25%      1005.000000      25.000000      22.000000   11364.000000   \n",
              "50%      2001.000000      27.000000      27.000000   11385.000000   \n",
              "75%      2014.000000      29.000000      30.000000   11421.000000   \n",
              "max      8013.000000      30.000000      34.000000   11697.000000   \n",
              "\n",
              "          PolicePrct  HealthCenterDistrict  ...           BBL        CondoNo  \\\n",
              "count  323684.000000         323768.000000  ...  3.245830e+05  324583.000000   \n",
              "mean      107.661880             43.787524  ...  4.073537e+09       1.535536   \n",
              "std         4.121771              1.427982  ...  4.450253e+07      32.175905   \n",
              "min       100.000000             41.000000  ...  4.000060e+09       0.000000   \n",
              "25%       104.000000             43.000000  ...  4.032680e+09       0.000000   \n",
              "50%       107.000000             44.000000  ...  4.074020e+09       0.000000   \n",
              "75%       111.000000             45.000000  ...  4.110070e+09       0.000000   \n",
              "max       115.000000             46.000000  ...  4.163500e+09    1069.000000   \n",
              "\n",
              "           Tract2010        XCoord         YCoord         TaxMap  \\\n",
              "count  324583.000000  3.161360e+05  316136.000000  324346.000000   \n",
              "mean    15480.949255  1.034140e+06  200622.280313   43231.498896   \n",
              "std     37819.872121  1.616350e+04   15838.706805    2099.800366   \n",
              "min         0.000000  9.953000e+05  142173.000000       4.000000   \n",
              "25%       329.000000  1.021286e+06  190668.000000   41703.000000   \n",
              "50%       625.000000  1.035070e+06  201510.000000   43302.000000   \n",
              "75%      1223.000000  1.047428e+06  213084.000000   44804.000000   \n",
              "max    157903.000000  1.067279e+06  231092.000000   46303.000000   \n",
              "\n",
              "             APPBBL     PLUTOMapID  FIRM07_FLAG  PFIRM15_FLAG  \n",
              "count  3.244110e+05  324583.000000      12310.0       20908.0  \n",
              "mean   2.837517e+08       1.002622          1.0           1.0  \n",
              "std    1.038066e+09       0.071789          0.0           0.0  \n",
              "min    0.000000e+00       1.000000          1.0           1.0  \n",
              "25%    0.000000e+00       1.000000          1.0           1.0  \n",
              "50%    0.000000e+00       1.000000          1.0           1.0  \n",
              "75%    0.000000e+00       1.000000          1.0           1.0  \n",
              "max    4.163190e+09       4.000000          1.0           1.0  \n",
              "\n",
              "[8 rows x 62 columns]"
            ]
          },
          "execution_count": 26,
          "metadata": {},
          "output_type": "execute_result"
        }
      ],
      "source": [
        "df_queens.describe()"
      ]
    },
    {
      "cell_type": "code",
      "execution_count": 27,
      "id": "2982cc4d",
      "metadata": {
        "colab": {
          "base_uri": "https://localhost:8080/",
          "height": 488
        },
        "id": "2982cc4d",
        "outputId": "3e2a3257-fa85-4d81-9655-a400fe391cf2"
      },
      "outputs": [
        {
          "data": {
            "text/html": [
              "<div>\n",
              "<style scoped>\n",
              "    .dataframe tbody tr th:only-of-type {\n",
              "        vertical-align: middle;\n",
              "    }\n",
              "\n",
              "    .dataframe tbody tr th {\n",
              "        vertical-align: top;\n",
              "    }\n",
              "\n",
              "    .dataframe thead th {\n",
              "        text-align: right;\n",
              "    }\n",
              "</style>\n",
              "<table border=\"1\" class=\"dataframe\">\n",
              "  <thead>\n",
              "    <tr style=\"text-align: right;\">\n",
              "      <th></th>\n",
              "      <th>Block</th>\n",
              "      <th>Lot</th>\n",
              "      <th>CD</th>\n",
              "      <th>CT2010</th>\n",
              "      <th>CB2010</th>\n",
              "      <th>SchoolDist</th>\n",
              "      <th>Council</th>\n",
              "      <th>ZipCode</th>\n",
              "      <th>PolicePrct</th>\n",
              "      <th>HealthCenterDistrict</th>\n",
              "      <th>...</th>\n",
              "      <th>BBL</th>\n",
              "      <th>CondoNo</th>\n",
              "      <th>Tract2010</th>\n",
              "      <th>XCoord</th>\n",
              "      <th>YCoord</th>\n",
              "      <th>TaxMap</th>\n",
              "      <th>APPBBL</th>\n",
              "      <th>PLUTOMapID</th>\n",
              "      <th>FIRM07_FLAG</th>\n",
              "      <th>PFIRM15_FLAG</th>\n",
              "    </tr>\n",
              "  </thead>\n",
              "  <tbody>\n",
              "    <tr>\n",
              "      <th>Block</th>\n",
              "      <td>1.000000</td>\n",
              "      <td>0.101267</td>\n",
              "      <td>0.743921</td>\n",
              "      <td>0.431065</td>\n",
              "      <td>-0.026101</td>\n",
              "      <td>0.173259</td>\n",
              "      <td>-0.423494</td>\n",
              "      <td>0.395448</td>\n",
              "      <td>0.387473</td>\n",
              "      <td>0.240757</td>\n",
              "      <td>...</td>\n",
              "      <td>1.000000</td>\n",
              "      <td>-0.018772</td>\n",
              "      <td>-0.086709</td>\n",
              "      <td>0.735965</td>\n",
              "      <td>0.460368</td>\n",
              "      <td>0.335151</td>\n",
              "      <td>-0.139129</td>\n",
              "      <td>-0.003078</td>\n",
              "      <td>NaN</td>\n",
              "      <td>NaN</td>\n",
              "    </tr>\n",
              "    <tr>\n",
              "      <th>Lot</th>\n",
              "      <td>0.101267</td>\n",
              "      <td>1.000000</td>\n",
              "      <td>-0.063950</td>\n",
              "      <td>0.018440</td>\n",
              "      <td>-0.011342</td>\n",
              "      <td>-0.035504</td>\n",
              "      <td>-0.069105</td>\n",
              "      <td>0.029100</td>\n",
              "      <td>0.068114</td>\n",
              "      <td>-0.168951</td>\n",
              "      <td>...</td>\n",
              "      <td>0.101312</td>\n",
              "      <td>0.645139</td>\n",
              "      <td>-0.003877</td>\n",
              "      <td>-0.099473</td>\n",
              "      <td>0.096097</td>\n",
              "      <td>-0.192658</td>\n",
              "      <td>0.105975</td>\n",
              "      <td>0.101904</td>\n",
              "      <td>NaN</td>\n",
              "      <td>NaN</td>\n",
              "    </tr>\n",
              "    <tr>\n",
              "      <th>CD</th>\n",
              "      <td>0.743921</td>\n",
              "      <td>-0.063950</td>\n",
              "      <td>1.000000</td>\n",
              "      <td>0.514012</td>\n",
              "      <td>-0.061271</td>\n",
              "      <td>0.407373</td>\n",
              "      <td>-0.283364</td>\n",
              "      <td>0.556417</td>\n",
              "      <td>0.522559</td>\n",
              "      <td>0.400853</td>\n",
              "      <td>...</td>\n",
              "      <td>0.743914</td>\n",
              "      <td>-0.032166</td>\n",
              "      <td>-0.012528</td>\n",
              "      <td>0.732169</td>\n",
              "      <td>0.547459</td>\n",
              "      <td>0.282966</td>\n",
              "      <td>-0.181916</td>\n",
              "      <td>-0.035256</td>\n",
              "      <td>NaN</td>\n",
              "      <td>NaN</td>\n",
              "    </tr>\n",
              "    <tr>\n",
              "      <th>CT2010</th>\n",
              "      <td>0.431065</td>\n",
              "      <td>0.018440</td>\n",
              "      <td>0.514012</td>\n",
              "      <td>1.000000</td>\n",
              "      <td>0.025482</td>\n",
              "      <td>0.597823</td>\n",
              "      <td>-0.524233</td>\n",
              "      <td>0.102717</td>\n",
              "      <td>0.691669</td>\n",
              "      <td>-0.302494</td>\n",
              "      <td>...</td>\n",
              "      <td>0.431064</td>\n",
              "      <td>-0.015237</td>\n",
              "      <td>0.219278</td>\n",
              "      <td>0.252303</td>\n",
              "      <td>0.866663</td>\n",
              "      <td>0.184814</td>\n",
              "      <td>-0.091844</td>\n",
              "      <td>-0.008811</td>\n",
              "      <td>NaN</td>\n",
              "      <td>NaN</td>\n",
              "    </tr>\n",
              "    <tr>\n",
              "      <th>CB2010</th>\n",
              "      <td>-0.026101</td>\n",
              "      <td>-0.011342</td>\n",
              "      <td>-0.061271</td>\n",
              "      <td>0.025482</td>\n",
              "      <td>1.000000</td>\n",
              "      <td>-0.070087</td>\n",
              "      <td>-0.004860</td>\n",
              "      <td>-0.008926</td>\n",
              "      <td>-0.013769</td>\n",
              "      <td>-0.066917</td>\n",
              "      <td>...</td>\n",
              "      <td>-0.026101</td>\n",
              "      <td>-0.006378</td>\n",
              "      <td>0.009593</td>\n",
              "      <td>-0.010438</td>\n",
              "      <td>-0.023259</td>\n",
              "      <td>-0.026961</td>\n",
              "      <td>0.011529</td>\n",
              "      <td>-0.004025</td>\n",
              "      <td>NaN</td>\n",
              "      <td>NaN</td>\n",
              "    </tr>\n",
              "    <tr>\n",
              "      <th>...</th>\n",
              "      <td>...</td>\n",
              "      <td>...</td>\n",
              "      <td>...</td>\n",
              "      <td>...</td>\n",
              "      <td>...</td>\n",
              "      <td>...</td>\n",
              "      <td>...</td>\n",
              "      <td>...</td>\n",
              "      <td>...</td>\n",
              "      <td>...</td>\n",
              "      <td>...</td>\n",
              "      <td>...</td>\n",
              "      <td>...</td>\n",
              "      <td>...</td>\n",
              "      <td>...</td>\n",
              "      <td>...</td>\n",
              "      <td>...</td>\n",
              "      <td>...</td>\n",
              "      <td>...</td>\n",
              "      <td>...</td>\n",
              "      <td>...</td>\n",
              "    </tr>\n",
              "    <tr>\n",
              "      <th>TaxMap</th>\n",
              "      <td>0.335151</td>\n",
              "      <td>-0.192658</td>\n",
              "      <td>0.282966</td>\n",
              "      <td>0.184814</td>\n",
              "      <td>-0.026961</td>\n",
              "      <td>0.101253</td>\n",
              "      <td>-0.165737</td>\n",
              "      <td>0.210066</td>\n",
              "      <td>0.175712</td>\n",
              "      <td>0.154350</td>\n",
              "      <td>...</td>\n",
              "      <td>0.335141</td>\n",
              "      <td>-0.058672</td>\n",
              "      <td>-0.028023</td>\n",
              "      <td>0.664282</td>\n",
              "      <td>0.377351</td>\n",
              "      <td>1.000000</td>\n",
              "      <td>-0.100061</td>\n",
              "      <td>-0.428537</td>\n",
              "      <td>NaN</td>\n",
              "      <td>NaN</td>\n",
              "    </tr>\n",
              "    <tr>\n",
              "      <th>APPBBL</th>\n",
              "      <td>-0.139129</td>\n",
              "      <td>0.105975</td>\n",
              "      <td>-0.181916</td>\n",
              "      <td>-0.091844</td>\n",
              "      <td>0.011529</td>\n",
              "      <td>-0.041924</td>\n",
              "      <td>0.081105</td>\n",
              "      <td>-0.083789</td>\n",
              "      <td>-0.149489</td>\n",
              "      <td>-0.069282</td>\n",
              "      <td>...</td>\n",
              "      <td>-0.139124</td>\n",
              "      <td>0.105867</td>\n",
              "      <td>0.003149</td>\n",
              "      <td>-0.116753</td>\n",
              "      <td>-0.116060</td>\n",
              "      <td>-0.100061</td>\n",
              "      <td>1.000000</td>\n",
              "      <td>0.027043</td>\n",
              "      <td>NaN</td>\n",
              "      <td>NaN</td>\n",
              "    </tr>\n",
              "    <tr>\n",
              "      <th>PLUTOMapID</th>\n",
              "      <td>-0.003078</td>\n",
              "      <td>0.101904</td>\n",
              "      <td>-0.035256</td>\n",
              "      <td>-0.008811</td>\n",
              "      <td>-0.004025</td>\n",
              "      <td>-0.019383</td>\n",
              "      <td>0.003186</td>\n",
              "      <td>0.040928</td>\n",
              "      <td>-0.015779</td>\n",
              "      <td>-0.016895</td>\n",
              "      <td>...</td>\n",
              "      <td>-0.003073</td>\n",
              "      <td>0.013350</td>\n",
              "      <td>-0.008039</td>\n",
              "      <td>-0.002201</td>\n",
              "      <td>-0.015309</td>\n",
              "      <td>-0.428537</td>\n",
              "      <td>0.027043</td>\n",
              "      <td>1.000000</td>\n",
              "      <td>NaN</td>\n",
              "      <td>NaN</td>\n",
              "    </tr>\n",
              "    <tr>\n",
              "      <th>FIRM07_FLAG</th>\n",
              "      <td>NaN</td>\n",
              "      <td>NaN</td>\n",
              "      <td>NaN</td>\n",
              "      <td>NaN</td>\n",
              "      <td>NaN</td>\n",
              "      <td>NaN</td>\n",
              "      <td>NaN</td>\n",
              "      <td>NaN</td>\n",
              "      <td>NaN</td>\n",
              "      <td>NaN</td>\n",
              "      <td>...</td>\n",
              "      <td>NaN</td>\n",
              "      <td>NaN</td>\n",
              "      <td>NaN</td>\n",
              "      <td>NaN</td>\n",
              "      <td>NaN</td>\n",
              "      <td>NaN</td>\n",
              "      <td>NaN</td>\n",
              "      <td>NaN</td>\n",
              "      <td>NaN</td>\n",
              "      <td>NaN</td>\n",
              "    </tr>\n",
              "    <tr>\n",
              "      <th>PFIRM15_FLAG</th>\n",
              "      <td>NaN</td>\n",
              "      <td>NaN</td>\n",
              "      <td>NaN</td>\n",
              "      <td>NaN</td>\n",
              "      <td>NaN</td>\n",
              "      <td>NaN</td>\n",
              "      <td>NaN</td>\n",
              "      <td>NaN</td>\n",
              "      <td>NaN</td>\n",
              "      <td>NaN</td>\n",
              "      <td>...</td>\n",
              "      <td>NaN</td>\n",
              "      <td>NaN</td>\n",
              "      <td>NaN</td>\n",
              "      <td>NaN</td>\n",
              "      <td>NaN</td>\n",
              "      <td>NaN</td>\n",
              "      <td>NaN</td>\n",
              "      <td>NaN</td>\n",
              "      <td>NaN</td>\n",
              "      <td>NaN</td>\n",
              "    </tr>\n",
              "  </tbody>\n",
              "</table>\n",
              "<p>62 rows × 62 columns</p>\n",
              "</div>"
            ],
            "text/plain": [
              "                 Block       Lot        CD    CT2010    CB2010  SchoolDist  \\\n",
              "Block         1.000000  0.101267  0.743921  0.431065 -0.026101    0.173259   \n",
              "Lot           0.101267  1.000000 -0.063950  0.018440 -0.011342   -0.035504   \n",
              "CD            0.743921 -0.063950  1.000000  0.514012 -0.061271    0.407373   \n",
              "CT2010        0.431065  0.018440  0.514012  1.000000  0.025482    0.597823   \n",
              "CB2010       -0.026101 -0.011342 -0.061271  0.025482  1.000000   -0.070087   \n",
              "...                ...       ...       ...       ...       ...         ...   \n",
              "TaxMap        0.335151 -0.192658  0.282966  0.184814 -0.026961    0.101253   \n",
              "APPBBL       -0.139129  0.105975 -0.181916 -0.091844  0.011529   -0.041924   \n",
              "PLUTOMapID   -0.003078  0.101904 -0.035256 -0.008811 -0.004025   -0.019383   \n",
              "FIRM07_FLAG        NaN       NaN       NaN       NaN       NaN         NaN   \n",
              "PFIRM15_FLAG       NaN       NaN       NaN       NaN       NaN         NaN   \n",
              "\n",
              "               Council   ZipCode  PolicePrct  HealthCenterDistrict  ...  \\\n",
              "Block        -0.423494  0.395448    0.387473              0.240757  ...   \n",
              "Lot          -0.069105  0.029100    0.068114             -0.168951  ...   \n",
              "CD           -0.283364  0.556417    0.522559              0.400853  ...   \n",
              "CT2010       -0.524233  0.102717    0.691669             -0.302494  ...   \n",
              "CB2010       -0.004860 -0.008926   -0.013769             -0.066917  ...   \n",
              "...                ...       ...         ...                   ...  ...   \n",
              "TaxMap       -0.165737  0.210066    0.175712              0.154350  ...   \n",
              "APPBBL        0.081105 -0.083789   -0.149489             -0.069282  ...   \n",
              "PLUTOMapID    0.003186  0.040928   -0.015779             -0.016895  ...   \n",
              "FIRM07_FLAG        NaN       NaN         NaN                   NaN  ...   \n",
              "PFIRM15_FLAG       NaN       NaN         NaN                   NaN  ...   \n",
              "\n",
              "                   BBL   CondoNo  Tract2010    XCoord    YCoord    TaxMap  \\\n",
              "Block         1.000000 -0.018772  -0.086709  0.735965  0.460368  0.335151   \n",
              "Lot           0.101312  0.645139  -0.003877 -0.099473  0.096097 -0.192658   \n",
              "CD            0.743914 -0.032166  -0.012528  0.732169  0.547459  0.282966   \n",
              "CT2010        0.431064 -0.015237   0.219278  0.252303  0.866663  0.184814   \n",
              "CB2010       -0.026101 -0.006378   0.009593 -0.010438 -0.023259 -0.026961   \n",
              "...                ...       ...        ...       ...       ...       ...   \n",
              "TaxMap        0.335141 -0.058672  -0.028023  0.664282  0.377351  1.000000   \n",
              "APPBBL       -0.139124  0.105867   0.003149 -0.116753 -0.116060 -0.100061   \n",
              "PLUTOMapID   -0.003073  0.013350  -0.008039 -0.002201 -0.015309 -0.428537   \n",
              "FIRM07_FLAG        NaN       NaN        NaN       NaN       NaN       NaN   \n",
              "PFIRM15_FLAG       NaN       NaN        NaN       NaN       NaN       NaN   \n",
              "\n",
              "                APPBBL  PLUTOMapID  FIRM07_FLAG  PFIRM15_FLAG  \n",
              "Block        -0.139129   -0.003078          NaN           NaN  \n",
              "Lot           0.105975    0.101904          NaN           NaN  \n",
              "CD           -0.181916   -0.035256          NaN           NaN  \n",
              "CT2010       -0.091844   -0.008811          NaN           NaN  \n",
              "CB2010        0.011529   -0.004025          NaN           NaN  \n",
              "...                ...         ...          ...           ...  \n",
              "TaxMap       -0.100061   -0.428537          NaN           NaN  \n",
              "APPBBL        1.000000    0.027043          NaN           NaN  \n",
              "PLUTOMapID    0.027043    1.000000          NaN           NaN  \n",
              "FIRM07_FLAG        NaN         NaN          NaN           NaN  \n",
              "PFIRM15_FLAG       NaN         NaN          NaN           NaN  \n",
              "\n",
              "[62 rows x 62 columns]"
            ]
          },
          "execution_count": 27,
          "metadata": {},
          "output_type": "execute_result"
        }
      ],
      "source": [
        "df_bronx.corr()\n"
      ]
    },
    {
      "cell_type": "code",
      "execution_count": 28,
      "id": "3c3c4eea",
      "metadata": {
        "colab": {
          "base_uri": "https://localhost:8080/",
          "height": 287
        },
        "id": "3c3c4eea",
        "outputId": "8d2d2530-a3e2-46f9-ee8c-290326938f20"
      },
      "outputs": [
        {
          "data": {
            "text/plain": [
              "<AxesSubplot:>"
            ]
          },
          "execution_count": 28,
          "metadata": {},
          "output_type": "execute_result"
        },
        {
          "data": {
            "image/png": "[encoded data removed]",
            "text/plain": [
              "<Figure size 432x288 with 2 Axes>"
            ]
          },
          "metadata": {
            "needs_background": "light"
          },
          "output_type": "display_data"
        }
      ],
      "source": [
        "#Correlation plot\n",
        "\n",
        "sns.heatmap(df.corr())"
      ]
    },
    {
      "cell_type": "code",
      "execution_count": 29,
      "id": "486cee2b",
      "metadata": {
        "colab": {
          "base_uri": "https://localhost:8080/",
          "height": 488
        },
        "id": "486cee2b",
        "outputId": "2b348ffe-c9c4-44f3-83ef-dcf238e6d016"
      },
      "outputs": [
        {
          "data": {
            "text/html": [
              "<div>\n",
              "<style scoped>\n",
              "    .dataframe tbody tr th:only-of-type {\n",
              "        vertical-align: middle;\n",
              "    }\n",
              "\n",
              "    .dataframe tbody tr th {\n",
              "        vertical-align: top;\n",
              "    }\n",
              "\n",
              "    .dataframe thead th {\n",
              "        text-align: right;\n",
              "    }\n",
              "</style>\n",
              "<table border=\"1\" class=\"dataframe\">\n",
              "  <thead>\n",
              "    <tr style=\"text-align: right;\">\n",
              "      <th></th>\n",
              "      <th>Block</th>\n",
              "      <th>Lot</th>\n",
              "      <th>CD</th>\n",
              "      <th>CT2010</th>\n",
              "      <th>CB2010</th>\n",
              "      <th>SchoolDist</th>\n",
              "      <th>Council</th>\n",
              "      <th>ZipCode</th>\n",
              "      <th>PolicePrct</th>\n",
              "      <th>HealthCenterDistrict</th>\n",
              "      <th>...</th>\n",
              "      <th>BBL</th>\n",
              "      <th>CondoNo</th>\n",
              "      <th>Tract2010</th>\n",
              "      <th>XCoord</th>\n",
              "      <th>YCoord</th>\n",
              "      <th>TaxMap</th>\n",
              "      <th>APPBBL</th>\n",
              "      <th>PLUTOMapID</th>\n",
              "      <th>FIRM07_FLAG</th>\n",
              "      <th>PFIRM15_FLAG</th>\n",
              "    </tr>\n",
              "  </thead>\n",
              "  <tbody>\n",
              "    <tr>\n",
              "      <th>Block</th>\n",
              "      <td>1.000000</td>\n",
              "      <td>-0.020833</td>\n",
              "      <td>0.850062</td>\n",
              "      <td>0.105168</td>\n",
              "      <td>0.063425</td>\n",
              "      <td>0.257541</td>\n",
              "      <td>0.435826</td>\n",
              "      <td>0.639056</td>\n",
              "      <td>-0.472806</td>\n",
              "      <td>0.422696</td>\n",
              "      <td>...</td>\n",
              "      <td>1.000000</td>\n",
              "      <td>-0.037966</td>\n",
              "      <td>0.136082</td>\n",
              "      <td>0.722665</td>\n",
              "      <td>-0.782366</td>\n",
              "      <td>0.827678</td>\n",
              "      <td>0.048032</td>\n",
              "      <td>0.000564</td>\n",
              "      <td>NaN</td>\n",
              "      <td>NaN</td>\n",
              "    </tr>\n",
              "    <tr>\n",
              "      <th>Lot</th>\n",
              "      <td>-0.020833</td>\n",
              "      <td>1.000000</td>\n",
              "      <td>-0.023495</td>\n",
              "      <td>-0.006594</td>\n",
              "      <td>0.016503</td>\n",
              "      <td>-0.008854</td>\n",
              "      <td>-0.009518</td>\n",
              "      <td>-0.016820</td>\n",
              "      <td>0.018492</td>\n",
              "      <td>-0.020379</td>\n",
              "      <td>...</td>\n",
              "      <td>-0.020823</td>\n",
              "      <td>0.826890</td>\n",
              "      <td>0.008302</td>\n",
              "      <td>-0.026665</td>\n",
              "      <td>0.013543</td>\n",
              "      <td>-0.064039</td>\n",
              "      <td>0.182334</td>\n",
              "      <td>0.029931</td>\n",
              "      <td>NaN</td>\n",
              "      <td>NaN</td>\n",
              "    </tr>\n",
              "    <tr>\n",
              "      <th>CD</th>\n",
              "      <td>0.850062</td>\n",
              "      <td>-0.023495</td>\n",
              "      <td>1.000000</td>\n",
              "      <td>0.313715</td>\n",
              "      <td>0.062923</td>\n",
              "      <td>0.153495</td>\n",
              "      <td>0.230339</td>\n",
              "      <td>0.553708</td>\n",
              "      <td>-0.408485</td>\n",
              "      <td>0.365964</td>\n",
              "      <td>...</td>\n",
              "      <td>0.850062</td>\n",
              "      <td>-0.036075</td>\n",
              "      <td>0.219573</td>\n",
              "      <td>0.856013</td>\n",
              "      <td>-0.577556</td>\n",
              "      <td>0.712306</td>\n",
              "      <td>0.025408</td>\n",
              "      <td>0.011401</td>\n",
              "      <td>NaN</td>\n",
              "      <td>NaN</td>\n",
              "    </tr>\n",
              "    <tr>\n",
              "      <th>CT2010</th>\n",
              "      <td>0.105168</td>\n",
              "      <td>-0.006594</td>\n",
              "      <td>0.313715</td>\n",
              "      <td>1.000000</td>\n",
              "      <td>0.159035</td>\n",
              "      <td>-0.392729</td>\n",
              "      <td>-0.402834</td>\n",
              "      <td>0.103390</td>\n",
              "      <td>-0.036261</td>\n",
              "      <td>-0.033823</td>\n",
              "      <td>...</td>\n",
              "      <td>0.105168</td>\n",
              "      <td>-0.011772</td>\n",
              "      <td>0.451353</td>\n",
              "      <td>0.499829</td>\n",
              "      <td>0.176353</td>\n",
              "      <td>0.105710</td>\n",
              "      <td>0.003663</td>\n",
              "      <td>0.003317</td>\n",
              "      <td>NaN</td>\n",
              "      <td>NaN</td>\n",
              "    </tr>\n",
              "    <tr>\n",
              "      <th>CB2010</th>\n",
              "      <td>0.063425</td>\n",
              "      <td>0.016503</td>\n",
              "      <td>0.062923</td>\n",
              "      <td>0.159035</td>\n",
              "      <td>1.000000</td>\n",
              "      <td>-0.029523</td>\n",
              "      <td>0.000623</td>\n",
              "      <td>-0.041500</td>\n",
              "      <td>-0.004168</td>\n",
              "      <td>-0.046005</td>\n",
              "      <td>...</td>\n",
              "      <td>0.063425</td>\n",
              "      <td>0.003370</td>\n",
              "      <td>0.112325</td>\n",
              "      <td>0.085052</td>\n",
              "      <td>-0.018480</td>\n",
              "      <td>0.059910</td>\n",
              "      <td>-0.016436</td>\n",
              "      <td>-0.002843</td>\n",
              "      <td>NaN</td>\n",
              "      <td>NaN</td>\n",
              "    </tr>\n",
              "    <tr>\n",
              "      <th>...</th>\n",
              "      <td>...</td>\n",
              "      <td>...</td>\n",
              "      <td>...</td>\n",
              "      <td>...</td>\n",
              "      <td>...</td>\n",
              "      <td>...</td>\n",
              "      <td>...</td>\n",
              "      <td>...</td>\n",
              "      <td>...</td>\n",
              "      <td>...</td>\n",
              "      <td>...</td>\n",
              "      <td>...</td>\n",
              "      <td>...</td>\n",
              "      <td>...</td>\n",
              "      <td>...</td>\n",
              "      <td>...</td>\n",
              "      <td>...</td>\n",
              "      <td>...</td>\n",
              "      <td>...</td>\n",
              "      <td>...</td>\n",
              "      <td>...</td>\n",
              "    </tr>\n",
              "    <tr>\n",
              "      <th>TaxMap</th>\n",
              "      <td>0.827678</td>\n",
              "      <td>-0.064039</td>\n",
              "      <td>0.712306</td>\n",
              "      <td>0.105710</td>\n",
              "      <td>0.059910</td>\n",
              "      <td>0.225778</td>\n",
              "      <td>0.388507</td>\n",
              "      <td>0.587962</td>\n",
              "      <td>-0.433658</td>\n",
              "      <td>0.409428</td>\n",
              "      <td>...</td>\n",
              "      <td>0.827678</td>\n",
              "      <td>-0.065166</td>\n",
              "      <td>0.102331</td>\n",
              "      <td>0.724941</td>\n",
              "      <td>-0.730986</td>\n",
              "      <td>1.000000</td>\n",
              "      <td>0.019078</td>\n",
              "      <td>-0.326535</td>\n",
              "      <td>NaN</td>\n",
              "      <td>NaN</td>\n",
              "    </tr>\n",
              "    <tr>\n",
              "      <th>APPBBL</th>\n",
              "      <td>0.048032</td>\n",
              "      <td>0.182334</td>\n",
              "      <td>0.025408</td>\n",
              "      <td>0.003663</td>\n",
              "      <td>-0.016436</td>\n",
              "      <td>-0.011053</td>\n",
              "      <td>0.007509</td>\n",
              "      <td>0.092920</td>\n",
              "      <td>-0.029596</td>\n",
              "      <td>-0.017782</td>\n",
              "      <td>...</td>\n",
              "      <td>0.048034</td>\n",
              "      <td>0.167344</td>\n",
              "      <td>0.020280</td>\n",
              "      <td>0.003826</td>\n",
              "      <td>-0.071605</td>\n",
              "      <td>0.019078</td>\n",
              "      <td>1.000000</td>\n",
              "      <td>0.044863</td>\n",
              "      <td>NaN</td>\n",
              "      <td>NaN</td>\n",
              "    </tr>\n",
              "    <tr>\n",
              "      <th>PLUTOMapID</th>\n",
              "      <td>0.000564</td>\n",
              "      <td>0.029931</td>\n",
              "      <td>0.011401</td>\n",
              "      <td>0.003317</td>\n",
              "      <td>-0.002843</td>\n",
              "      <td>0.002546</td>\n",
              "      <td>0.003987</td>\n",
              "      <td>0.013291</td>\n",
              "      <td>-0.008706</td>\n",
              "      <td>-0.003411</td>\n",
              "      <td>...</td>\n",
              "      <td>0.000564</td>\n",
              "      <td>0.009597</td>\n",
              "      <td>-0.000300</td>\n",
              "      <td>-0.005877</td>\n",
              "      <td>-0.001778</td>\n",
              "      <td>-0.326535</td>\n",
              "      <td>0.044863</td>\n",
              "      <td>1.000000</td>\n",
              "      <td>NaN</td>\n",
              "      <td>NaN</td>\n",
              "    </tr>\n",
              "    <tr>\n",
              "      <th>FIRM07_FLAG</th>\n",
              "      <td>NaN</td>\n",
              "      <td>NaN</td>\n",
              "      <td>NaN</td>\n",
              "      <td>NaN</td>\n",
              "      <td>NaN</td>\n",
              "      <td>NaN</td>\n",
              "      <td>NaN</td>\n",
              "      <td>NaN</td>\n",
              "      <td>NaN</td>\n",
              "      <td>NaN</td>\n",
              "      <td>...</td>\n",
              "      <td>NaN</td>\n",
              "      <td>NaN</td>\n",
              "      <td>NaN</td>\n",
              "      <td>NaN</td>\n",
              "      <td>NaN</td>\n",
              "      <td>NaN</td>\n",
              "      <td>NaN</td>\n",
              "      <td>NaN</td>\n",
              "      <td>NaN</td>\n",
              "      <td>NaN</td>\n",
              "    </tr>\n",
              "    <tr>\n",
              "      <th>PFIRM15_FLAG</th>\n",
              "      <td>NaN</td>\n",
              "      <td>NaN</td>\n",
              "      <td>NaN</td>\n",
              "      <td>NaN</td>\n",
              "      <td>NaN</td>\n",
              "      <td>NaN</td>\n",
              "      <td>NaN</td>\n",
              "      <td>NaN</td>\n",
              "      <td>NaN</td>\n",
              "      <td>NaN</td>\n",
              "      <td>...</td>\n",
              "      <td>NaN</td>\n",
              "      <td>NaN</td>\n",
              "      <td>NaN</td>\n",
              "      <td>NaN</td>\n",
              "      <td>NaN</td>\n",
              "      <td>NaN</td>\n",
              "      <td>NaN</td>\n",
              "      <td>NaN</td>\n",
              "      <td>NaN</td>\n",
              "      <td>NaN</td>\n",
              "    </tr>\n",
              "  </tbody>\n",
              "</table>\n",
              "<p>62 rows × 62 columns</p>\n",
              "</div>"
            ],
            "text/plain": [
              "                 Block       Lot        CD    CT2010    CB2010  SchoolDist  \\\n",
              "Block         1.000000 -0.020833  0.850062  0.105168  0.063425    0.257541   \n",
              "Lot          -0.020833  1.000000 -0.023495 -0.006594  0.016503   -0.008854   \n",
              "CD            0.850062 -0.023495  1.000000  0.313715  0.062923    0.153495   \n",
              "CT2010        0.105168 -0.006594  0.313715  1.000000  0.159035   -0.392729   \n",
              "CB2010        0.063425  0.016503  0.062923  0.159035  1.000000   -0.029523   \n",
              "...                ...       ...       ...       ...       ...         ...   \n",
              "TaxMap        0.827678 -0.064039  0.712306  0.105710  0.059910    0.225778   \n",
              "APPBBL        0.048032  0.182334  0.025408  0.003663 -0.016436   -0.011053   \n",
              "PLUTOMapID    0.000564  0.029931  0.011401  0.003317 -0.002843    0.002546   \n",
              "FIRM07_FLAG        NaN       NaN       NaN       NaN       NaN         NaN   \n",
              "PFIRM15_FLAG       NaN       NaN       NaN       NaN       NaN         NaN   \n",
              "\n",
              "               Council   ZipCode  PolicePrct  HealthCenterDistrict  ...  \\\n",
              "Block         0.435826  0.639056   -0.472806              0.422696  ...   \n",
              "Lot          -0.009518 -0.016820    0.018492             -0.020379  ...   \n",
              "CD            0.230339  0.553708   -0.408485              0.365964  ...   \n",
              "CT2010       -0.402834  0.103390   -0.036261             -0.033823  ...   \n",
              "CB2010        0.000623 -0.041500   -0.004168             -0.046005  ...   \n",
              "...                ...       ...         ...                   ...  ...   \n",
              "TaxMap        0.388507  0.587962   -0.433658              0.409428  ...   \n",
              "APPBBL        0.007509  0.092920   -0.029596             -0.017782  ...   \n",
              "PLUTOMapID    0.003987  0.013291   -0.008706             -0.003411  ...   \n",
              "FIRM07_FLAG        NaN       NaN         NaN                   NaN  ...   \n",
              "PFIRM15_FLAG       NaN       NaN         NaN                   NaN  ...   \n",
              "\n",
              "                   BBL   CondoNo  Tract2010    XCoord    YCoord    TaxMap  \\\n",
              "Block         1.000000 -0.037966   0.136082  0.722665 -0.782366  0.827678   \n",
              "Lot          -0.020823  0.826890   0.008302 -0.026665  0.013543 -0.064039   \n",
              "CD            0.850062 -0.036075   0.219573  0.856013 -0.577556  0.712306   \n",
              "CT2010        0.105168 -0.011772   0.451353  0.499829  0.176353  0.105710   \n",
              "CB2010        0.063425  0.003370   0.112325  0.085052 -0.018480  0.059910   \n",
              "...                ...       ...        ...       ...       ...       ...   \n",
              "TaxMap        0.827678 -0.065166   0.102331  0.724941 -0.730986  1.000000   \n",
              "APPBBL        0.048034  0.167344   0.020280  0.003826 -0.071605  0.019078   \n",
              "PLUTOMapID    0.000564  0.009597  -0.000300 -0.005877 -0.001778 -0.326535   \n",
              "FIRM07_FLAG        NaN       NaN        NaN       NaN       NaN       NaN   \n",
              "PFIRM15_FLAG       NaN       NaN        NaN       NaN       NaN       NaN   \n",
              "\n",
              "                APPBBL  PLUTOMapID  FIRM07_FLAG  PFIRM15_FLAG  \n",
              "Block         0.048032    0.000564          NaN           NaN  \n",
              "Lot           0.182334    0.029931          NaN           NaN  \n",
              "CD            0.025408    0.011401          NaN           NaN  \n",
              "CT2010        0.003663    0.003317          NaN           NaN  \n",
              "CB2010       -0.016436   -0.002843          NaN           NaN  \n",
              "...                ...         ...          ...           ...  \n",
              "TaxMap        0.019078   -0.326535          NaN           NaN  \n",
              "APPBBL        1.000000    0.044863          NaN           NaN  \n",
              "PLUTOMapID    0.044863    1.000000          NaN           NaN  \n",
              "FIRM07_FLAG        NaN         NaN          NaN           NaN  \n",
              "PFIRM15_FLAG       NaN         NaN          NaN           NaN  \n",
              "\n",
              "[62 rows x 62 columns]"
            ]
          },
          "execution_count": 29,
          "metadata": {},
          "output_type": "execute_result"
        }
      ],
      "source": [
        "df_queens.corr()"
      ]
    },
    {
      "cell_type": "code",
      "execution_count": 30,
      "id": "1657ba7f",
      "metadata": {
        "colab": {
          "base_uri": "https://localhost:8080/",
          "height": 287
        },
        "id": "1657ba7f",
        "outputId": "f89606cc-4dc6-451e-ef67-081e6f230b4e"
      },
      "outputs": [
        {
          "data": {
            "text/plain": [
              "<AxesSubplot:>"
            ]
          },
          "execution_count": 30,
          "metadata": {},
          "output_type": "execute_result"
        },
        {
          "data": {
            "image/png": "[encoded data removed]",
            "text/plain": [
              "<Figure size 432x288 with 2 Axes>"
            ]
          },
          "metadata": {
            "needs_background": "light"
          },
          "output_type": "display_data"
        }
      ],
      "source": [
        "#Correlation plot\n",
        "\n",
        "sns.heatmap(df.corr())"
      ]
    },
    {
      "cell_type": "markdown",
      "id": "ySmWesu1jFfY",
      "metadata": {
        "id": "ySmWesu1jFfY"
      },
      "source": [
        "#Merging the 311 Requests and Pluto datasets for Bronx and Queens provinces\n"
      ]
    },
    {
      "cell_type": "code",
      "execution_count": 31,
      "id": "88c9aad2",
      "metadata": {
        "colab": {
          "base_uri": "https://localhost:8080/",
          "height": 299
        },
        "id": "88c9aad2",
        "outputId": "3963f25e-7f4d-4f08-980c-4af850bdae39"
      },
      "outputs": [
        {
          "data": {
            "text/html": [
              "<div>\n",
              "<style scoped>\n",
              "    .dataframe tbody tr th:only-of-type {\n",
              "        vertical-align: middle;\n",
              "    }\n",
              "\n",
              "    .dataframe tbody tr th {\n",
              "        vertical-align: top;\n",
              "    }\n",
              "\n",
              "    .dataframe thead th {\n",
              "        text-align: right;\n",
              "    }\n",
              "</style>\n",
              "<table border=\"1\" class=\"dataframe\">\n",
              "  <thead>\n",
              "    <tr style=\"text-align: right;\">\n",
              "      <th></th>\n",
              "      <th>Borough</th>\n",
              "      <th>Block</th>\n",
              "      <th>Lot</th>\n",
              "      <th>CD</th>\n",
              "      <th>CT2010</th>\n",
              "      <th>CB2010</th>\n",
              "      <th>SchoolDist</th>\n",
              "      <th>Council</th>\n",
              "      <th>ZipCode</th>\n",
              "      <th>FireComp</th>\n",
              "      <th>...</th>\n",
              "      <th>ZMCode</th>\n",
              "      <th>Sanborn</th>\n",
              "      <th>TaxMap</th>\n",
              "      <th>EDesigNum</th>\n",
              "      <th>APPBBL</th>\n",
              "      <th>APPDate</th>\n",
              "      <th>PLUTOMapID</th>\n",
              "      <th>FIRM07_FLAG</th>\n",
              "      <th>PFIRM15_FLAG</th>\n",
              "      <th>Version</th>\n",
              "    </tr>\n",
              "  </thead>\n",
              "  <tbody>\n",
              "    <tr>\n",
              "      <th>0</th>\n",
              "      <td>BX</td>\n",
              "      <td>2260</td>\n",
              "      <td>1</td>\n",
              "      <td>201</td>\n",
              "      <td>19.0</td>\n",
              "      <td>1022.0</td>\n",
              "      <td>7.0</td>\n",
              "      <td>8.0</td>\n",
              "      <td>10454.0</td>\n",
              "      <td>L029</td>\n",
              "      <td>...</td>\n",
              "      <td>NaN</td>\n",
              "      <td>209S016</td>\n",
              "      <td>20901.0</td>\n",
              "      <td>E-143</td>\n",
              "      <td>0.0</td>\n",
              "      <td>NaN</td>\n",
              "      <td>1</td>\n",
              "      <td>NaN</td>\n",
              "      <td>NaN</td>\n",
              "      <td>18V1</td>\n",
              "    </tr>\n",
              "    <tr>\n",
              "      <th>1</th>\n",
              "      <td>BX</td>\n",
              "      <td>2260</td>\n",
              "      <td>4</td>\n",
              "      <td>201</td>\n",
              "      <td>19.0</td>\n",
              "      <td>1022.0</td>\n",
              "      <td>7.0</td>\n",
              "      <td>8.0</td>\n",
              "      <td>10454.0</td>\n",
              "      <td>L029</td>\n",
              "      <td>...</td>\n",
              "      <td>NaN</td>\n",
              "      <td>209S016</td>\n",
              "      <td>20901.0</td>\n",
              "      <td>E-143</td>\n",
              "      <td>0.0</td>\n",
              "      <td>NaN</td>\n",
              "      <td>1</td>\n",
              "      <td>NaN</td>\n",
              "      <td>NaN</td>\n",
              "      <td>18V1</td>\n",
              "    </tr>\n",
              "    <tr>\n",
              "      <th>2</th>\n",
              "      <td>BX</td>\n",
              "      <td>2260</td>\n",
              "      <td>10</td>\n",
              "      <td>201</td>\n",
              "      <td>19.0</td>\n",
              "      <td>1022.0</td>\n",
              "      <td>7.0</td>\n",
              "      <td>8.0</td>\n",
              "      <td>10454.0</td>\n",
              "      <td>L029</td>\n",
              "      <td>...</td>\n",
              "      <td>NaN</td>\n",
              "      <td>209S016</td>\n",
              "      <td>20901.0</td>\n",
              "      <td>E-143</td>\n",
              "      <td>0.0</td>\n",
              "      <td>NaN</td>\n",
              "      <td>1</td>\n",
              "      <td>NaN</td>\n",
              "      <td>NaN</td>\n",
              "      <td>18V1</td>\n",
              "    </tr>\n",
              "    <tr>\n",
              "      <th>3</th>\n",
              "      <td>BX</td>\n",
              "      <td>2260</td>\n",
              "      <td>17</td>\n",
              "      <td>201</td>\n",
              "      <td>19.0</td>\n",
              "      <td>1022.0</td>\n",
              "      <td>7.0</td>\n",
              "      <td>8.0</td>\n",
              "      <td>10454.0</td>\n",
              "      <td>L029</td>\n",
              "      <td>...</td>\n",
              "      <td>NaN</td>\n",
              "      <td>209S016</td>\n",
              "      <td>20901.0</td>\n",
              "      <td>E-143</td>\n",
              "      <td>0.0</td>\n",
              "      <td>NaN</td>\n",
              "      <td>1</td>\n",
              "      <td>NaN</td>\n",
              "      <td>NaN</td>\n",
              "      <td>18V1</td>\n",
              "    </tr>\n",
              "    <tr>\n",
              "      <th>4</th>\n",
              "      <td>BX</td>\n",
              "      <td>2260</td>\n",
              "      <td>18</td>\n",
              "      <td>201</td>\n",
              "      <td>19.0</td>\n",
              "      <td>1022.0</td>\n",
              "      <td>7.0</td>\n",
              "      <td>8.0</td>\n",
              "      <td>10454.0</td>\n",
              "      <td>L029</td>\n",
              "      <td>...</td>\n",
              "      <td>NaN</td>\n",
              "      <td>209S016</td>\n",
              "      <td>20901.0</td>\n",
              "      <td>E-143</td>\n",
              "      <td>0.0</td>\n",
              "      <td>NaN</td>\n",
              "      <td>1</td>\n",
              "      <td>NaN</td>\n",
              "      <td>NaN</td>\n",
              "      <td>18V1</td>\n",
              "    </tr>\n",
              "  </tbody>\n",
              "</table>\n",
              "<p>5 rows × 87 columns</p>\n",
              "</div>"
            ],
            "text/plain": [
              "  Borough  Block  Lot   CD  CT2010  CB2010  SchoolDist  Council  ZipCode  \\\n",
              "0      BX   2260    1  201    19.0  1022.0         7.0      8.0  10454.0   \n",
              "1      BX   2260    4  201    19.0  1022.0         7.0      8.0  10454.0   \n",
              "2      BX   2260   10  201    19.0  1022.0         7.0      8.0  10454.0   \n",
              "3      BX   2260   17  201    19.0  1022.0         7.0      8.0  10454.0   \n",
              "4      BX   2260   18  201    19.0  1022.0         7.0      8.0  10454.0   \n",
              "\n",
              "  FireComp  ...  ZMCode  Sanborn   TaxMap  EDesigNum  APPBBL APPDate  \\\n",
              "0     L029  ...     NaN  209S016  20901.0      E-143     0.0     NaN   \n",
              "1     L029  ...     NaN  209S016  20901.0      E-143     0.0     NaN   \n",
              "2     L029  ...     NaN  209S016  20901.0      E-143     0.0     NaN   \n",
              "3     L029  ...     NaN  209S016  20901.0      E-143     0.0     NaN   \n",
              "4     L029  ...     NaN  209S016  20901.0      E-143     0.0     NaN   \n",
              "\n",
              "  PLUTOMapID FIRM07_FLAG PFIRM15_FLAG Version  \n",
              "0          1         NaN          NaN    18V1  \n",
              "1          1         NaN          NaN    18V1  \n",
              "2          1         NaN          NaN    18V1  \n",
              "3          1         NaN          NaN    18V1  \n",
              "4          1         NaN          NaN    18V1  \n",
              "\n",
              "[5 rows x 87 columns]"
            ]
          },
          "execution_count": 31,
          "metadata": {},
          "output_type": "execute_result"
        }
      ],
      "source": [
        "df_bronx.head()"
      ]
    },
    {
      "cell_type": "code",
      "execution_count": 32,
      "id": "Y-UUyb4emUzp",
      "metadata": {
        "colab": {
          "base_uri": "https://localhost:8080/"
        },
        "id": "Y-UUyb4emUzp",
        "outputId": "dd78a233-36c0-455d-b124-0fd424805bd6"
      },
      "outputs": [
        {
          "data": {
            "text/plain": [
              "(89854, 87)"
            ]
          },
          "execution_count": 32,
          "metadata": {},
          "output_type": "execute_result"
        }
      ],
      "source": [
        "df_bronx.shape"
      ]
    },
    {
      "cell_type": "code",
      "execution_count": 33,
      "id": "GRnQ_Eec2DYx",
      "metadata": {
        "colab": {
          "base_uri": "https://localhost:8080/"
        },
        "id": "GRnQ_Eec2DYx",
        "outputId": "14db51ac-f99b-4851-e9eb-fbe18a4feaaf"
      },
      "outputs": [
        {
          "data": {
            "text/plain": [
              "(324583, 87)"
            ]
          },
          "execution_count": 33,
          "metadata": {},
          "output_type": "execute_result"
        }
      ],
      "source": [
        "df_queens.shape"
      ]
    },
    {
      "cell_type": "code",
      "execution_count": 34,
      "id": "BUtsJr7emjxc",
      "metadata": {
        "id": "BUtsJr7emjxc"
      },
      "outputs": [],
      "source": [
        "df_b = df[df['borough']=='BRONX']\n",
        "df_q = df[df['borough']=='QUEENS']\n",
        "df_b = pd.concat([df_b, df_bronx], axis=1)\n",
        "df_q = pd.concat([df_q, df_queens], axis=1)\n",
        "df_b.dropna(subset=['Borough'], axis=0, inplace=True)\n",
        "df_q.dropna(subset=['Borough'], axis=0, inplace=True)"
      ]
    },
    {
      "cell_type": "code",
      "execution_count": 35,
      "id": "wneo8e9Xpv20",
      "metadata": {
        "id": "wneo8e9Xpv20"
      },
      "outputs": [],
      "source": [
        "df_merged = pd.concat([df_b, df_q], axis=0)"
      ]
    },
    {
      "cell_type": "code",
      "execution_count": 36,
      "id": "6mc_cdRJuAO1",
      "metadata": {
        "colab": {
          "base_uri": "https://localhost:8080/"
        },
        "id": "6mc_cdRJuAO1",
        "outputId": "81291681-7621-478d-b138-dc8aeccd54ab"
      },
      "outputs": [
        {
          "data": {
            "text/plain": [
              "(414437, 102)"
            ]
          },
          "execution_count": 36,
          "metadata": {},
          "output_type": "execute_result"
        }
      ],
      "source": [
        "df_merged.shape"
      ]
    },
    {
      "cell_type": "markdown",
      "id": "FkvhPNq1u5Yi",
      "metadata": {
        "id": "FkvhPNq1u5Yi"
      },
      "source": [
        "#Identifying the top 3 Complaint types"
      ]
    },
    {
      "cell_type": "code",
      "execution_count": 37,
      "id": "8vVldeARuYUi",
      "metadata": {
        "colab": {
          "base_uri": "https://localhost:8080/"
        },
        "id": "8vVldeARuYUi",
        "outputId": "b249ff76-fd7d-4487-a239-454ff59bfee8"
      },
      "outputs": [
        {
          "data": {
            "text/plain": [
              "UNSANITARY CONDITION    10477\n",
              "HEAT/HOT WATER           8483\n",
              "PLUMBING                 6084\n",
              "PAINT/PLASTER            5573\n",
              "Name: complaint_type, dtype: int64"
            ]
          },
          "execution_count": 37,
          "metadata": {},
          "output_type": "execute_result"
        }
      ],
      "source": [
        "df_merged['complaint_type'].value_counts()[:4]"
      ]
    },
    {
      "cell_type": "code",
      "execution_count": 38,
      "id": "BcUuYcqnu3r9",
      "metadata": {
        "id": "BcUuYcqnu3r9"
      },
      "outputs": [],
      "source": [
        "df_merged = df_merged[((df_merged['complaint_type']=='HEAT/HOT WATER')|(df_merged['complaint_type']=='PLUMBING')|(df_merged['complaint_type']=='UNSANITARY CONDITION'))]"
      ]
    },
    {
      "cell_type": "code",
      "execution_count": 39,
      "id": "BTZWiz0jvjtY",
      "metadata": {
        "colab": {
          "base_uri": "https://localhost:8080/"
        },
        "id": "BTZWiz0jvjtY",
        "outputId": "ff46d2e7-8c5a-4fbe-deb9-9222621468e4"
      },
      "outputs": [
        {
          "data": {
            "text/plain": [
              "UNSANITARY CONDITION    10477\n",
              "HEAT/HOT WATER           8483\n",
              "PLUMBING                 6084\n",
              "Name: complaint_type, dtype: int64"
            ]
          },
          "execution_count": 39,
          "metadata": {},
          "output_type": "execute_result"
        }
      ],
      "source": [
        "df_merged['complaint_type'].value_counts()"
      ]
    },
    {
      "cell_type": "markdown",
      "id": "A9vJrjs0w4QP",
      "metadata": {
        "id": "A9vJrjs0w4QP"
      },
      "source": [
        "# Feature Selection"
      ]
    },
    {
      "cell_type": "code",
      "execution_count": 40,
      "id": "JaOfqCaLTrfN",
      "metadata": {
        "colab": {
          "base_uri": "https://localhost:8080/"
        },
        "id": "JaOfqCaLTrfN",
        "outputId": "376a7ea0-8b8b-4ba6-c33f-c4e3bda279ac"
      },
      "outputs": [
        {
          "name": "stdout",
          "output_type": "stream",
          "text": [
            "Defaulting to user installation because normal site-packages is not writeable\n",
            "Requirement already satisfied: geopandas in /home/dingo/.local/lib/python3.10/site-packages (0.12.0)\n",
            "Requirement already satisfied: fiona>=1.8 in /home/dingo/.local/lib/python3.10/site-packages (from geopandas) (1.8.22)\n",
            "Requirement already satisfied: shapely<2,>=1.7 in /home/dingo/.local/lib/python3.10/site-packages (from geopandas) (1.8.5.post1)\n",
            "Requirement already satisfied: pandas>=1.0.0 in /home/dingo/.local/lib/python3.10/site-packages (from geopandas) (1.4.3)\n",
            "Requirement already satisfied: packaging in /home/dingo/.local/lib/python3.10/site-packages (from geopandas) (21.3)\n",
            "Requirement already satisfied: pyproj>=2.6.1.post1 in /home/dingo/.local/lib/python3.10/site-packages (from geopandas) (3.4.0)\n",
            "Requirement already satisfied: certifi in /home/dingo/.local/lib/python3.10/site-packages (from fiona>=1.8->geopandas) (2022.9.24)\n",
            "Requirement already satisfied: attrs>=17 in /home/dingo/.local/lib/python3.10/site-packages (from fiona>=1.8->geopandas) (22.1.0)\n",
            "Requirement already satisfied: munch in /home/dingo/.local/lib/python3.10/site-packages (from fiona>=1.8->geopandas) (2.5.0)\n",
            "Requirement already satisfied: cligj>=0.5 in /home/dingo/.local/lib/python3.10/site-packages (from fiona>=1.8->geopandas) (0.7.2)\n",
            "Requirement already satisfied: click>=4.0 in /usr/lib/python3/dist-packages (from fiona>=1.8->geopandas) (8.0.3)\n",
            "Requirement already satisfied: setuptools in /home/dingo/.local/lib/python3.10/site-packages (from fiona>=1.8->geopandas) (65.5.0)\n",
            "Requirement already satisfied: six>=1.7 in /home/dingo/.local/lib/python3.10/site-packages (from fiona>=1.8->geopandas) (1.12.0)\n",
            "Requirement already satisfied: click-plugins>=1.0 in /home/dingo/.local/lib/python3.10/site-packages (from fiona>=1.8->geopandas) (1.1.1)\n",
            "Requirement already satisfied: pytz>=2020.1 in /usr/lib/python3/dist-packages (from pandas>=1.0.0->geopandas) (2022.1)\n",
            "Requirement already satisfied: python-dateutil>=2.8.1 in /home/dingo/.local/lib/python3.10/site-packages (from pandas>=1.0.0->geopandas) (2.8.2)\n",
            "Requirement already satisfied: numpy>=1.21.0 in /home/dingo/.local/lib/python3.10/site-packages (from pandas>=1.0.0->geopandas) (1.23.4)\n",
            "Requirement already satisfied: pyparsing!=3.0.5,>=2.0.2 in /usr/lib/python3/dist-packages (from packaging->geopandas) (2.4.7)\n",
            "\n",
            "\u001b[1m[\u001b[0m\u001b[34;49mnotice\u001b[0m\u001b[1;39;49m]\u001b[0m\u001b[39;49m A new release of pip available: \u001b[0m\u001b[31;49m22.3\u001b[0m\u001b[39;49m -> \u001b[0m\u001b[32;49m22.3.1\u001b[0m\n",
            "\u001b[1m[\u001b[0m\u001b[34;49mnotice\u001b[0m\u001b[1;39;49m]\u001b[0m\u001b[39;49m To update, run: \u001b[0m\u001b[32;49mpip install --upgrade pip\u001b[0m\n",
            "Defaulting to user installation because normal site-packages is not writeable\n",
            "Requirement already satisfied: missingno in /home/dingo/.local/lib/python3.10/site-packages (0.5.1)\n",
            "Requirement already satisfied: matplotlib in /home/dingo/.local/lib/python3.10/site-packages (from missingno) (3.5.2)\n",
            "Requirement already satisfied: seaborn in /home/dingo/.local/lib/python3.10/site-packages (from missingno) (0.11.2)\n",
            "Requirement already satisfied: scipy in /home/dingo/.local/lib/python3.10/site-packages (from missingno) (1.8.1)\n",
            "Requirement already satisfied: numpy in /home/dingo/.local/lib/python3.10/site-packages (from missingno) (1.23.4)\n",
            "Requirement already satisfied: python-dateutil>=2.7 in /home/dingo/.local/lib/python3.10/site-packages (from matplotlib->missingno) (2.8.2)\n",
            "Requirement already satisfied: fonttools>=4.22.0 in /home/dingo/.local/lib/python3.10/site-packages (from matplotlib->missingno) (4.34.4)\n",
            "Requirement already satisfied: pyparsing>=2.2.1 in /usr/lib/python3/dist-packages (from matplotlib->missingno) (2.4.7)\n",
            "Requirement already satisfied: kiwisolver>=1.0.1 in /home/dingo/.local/lib/python3.10/site-packages (from matplotlib->missingno) (1.4.4)\n",
            "Requirement already satisfied: pillow>=6.2.0 in /usr/lib/python3/dist-packages (from matplotlib->missingno) (9.0.1)\n",
            "Requirement already satisfied: cycler>=0.10 in /home/dingo/.local/lib/python3.10/site-packages (from matplotlib->missingno) (0.11.0)\n",
            "Requirement already satisfied: packaging>=20.0 in /home/dingo/.local/lib/python3.10/site-packages (from matplotlib->missingno) (21.3)\n",
            "Requirement already satisfied: pandas>=0.23 in /home/dingo/.local/lib/python3.10/site-packages (from seaborn->missingno) (1.4.3)\n",
            "Requirement already satisfied: pytz>=2020.1 in /usr/lib/python3/dist-packages (from pandas>=0.23->seaborn->missingno) (2022.1)\n",
            "Requirement already satisfied: six>=1.5 in /home/dingo/.local/lib/python3.10/site-packages (from python-dateutil>=2.7->matplotlib->missingno) (1.12.0)\n",
            "\n",
            "\u001b[1m[\u001b[0m\u001b[34;49mnotice\u001b[0m\u001b[1;39;49m]\u001b[0m\u001b[39;49m A new release of pip available: \u001b[0m\u001b[31;49m22.3\u001b[0m\u001b[39;49m -> \u001b[0m\u001b[32;49m22.3.1\u001b[0m\n",
            "\u001b[1m[\u001b[0m\u001b[34;49mnotice\u001b[0m\u001b[1;39;49m]\u001b[0m\u001b[39;49m To update, run: \u001b[0m\u001b[32;49mpip install --upgrade pip\u001b[0m\n"
          ]
        }
      ],
      "source": [
        "!pip install geopandas\n",
        "!pip install missingno"
      ]
    },
    {
      "cell_type": "code",
      "execution_count": 61,
      "id": "9BdEvzlrytCs",
      "metadata": {
        "id": "9BdEvzlrytCs"
      },
      "outputs": [],
      "source": [
        "\n",
        "import numpy as np\n",
        "import pandas as pd\n",
        "import geopandas as gpd\n",
        "import missingno as msno\n",
        "\n",
        "import seaborn as sns\n",
        "import matplotlib.pyplot as plt\n",
        "import matplotlib.patches as mpatches\n",
        "%config InlineBackend.figure_format = 'retina'\n",
        "\n",
        "from scipy import stats\n",
        "\n",
        "from sklearn.model_selection import train_test_split\n",
        "from sklearn.preprocessing import StandardScaler\n",
        "\n",
        "from imblearn.pipeline import Pipeline\n",
        "from imblearn.under_sampling import RandomUnderSampler\n",
        "from imblearn.over_sampling import SMOTE\n",
        "\n",
        "from sklearn.metrics import confusion_matrix, accuracy_score, roc_curve, roc_auc_score, f1_score\n",
        "from sklearn.model_selection import cross_val_score, cross_val_predict, GridSearchCV, StratifiedKFold, learning_curve\n",
        "from sklearn.ensemble import RandomForestClassifier\n",
        "from xgboost import XGBClassifier\n",
        "random_state=42\n",
        "params = ((df_merged.shape[1]-2)**((random_state//10)+1))//10"
      ]
    },
    {
      "cell_type": "code",
      "execution_count": 42,
      "id": "1wHGydoiw9K1",
      "metadata": {
        "id": "1wHGydoiw9K1"
      },
      "outputs": [],
      "source": [
        "from sklearn import preprocessing\n",
        "le = preprocessing.LabelEncoder()\n",
        "df_merged['complaint_type'] = le.fit_transform(df_merged['complaint_type'])"
      ]
    },
    {
      "cell_type": "code",
      "execution_count": 43,
      "id": "sDu-vYcbxh4-",
      "metadata": {
        "colab": {
          "base_uri": "https://localhost:8080/"
        },
        "id": "sDu-vYcbxh4-",
        "outputId": "a1622339-20cd-412e-a329-286230e9be6b"
      },
      "outputs": [
        {
          "name": "stdout",
          "output_type": "stream",
          "text": [
            "Features Selected\n"
          ]
        }
      ],
      "source": [
        "y = df_merged['complaint_type']\n",
        "X = df_merged[['ResArea', 'NumFloors', 'BuiltFAR', 'BldgArea',\n",
        "              'BldgDepth', 'LotArea', 'ResidFAR', 'FacilFAR', 'YearAlter1']]\n",
        "\n",
        "print('Features Selected')"
      ]
    },
    {
      "cell_type": "markdown",
      "id": "9pqjFcWWApA3",
      "metadata": {
        "id": "9pqjFcWWApA3"
      },
      "source": [
        "# Splitting the combined dataset into training and test sets"
      ]
    },
    {
      "cell_type": "code",
      "execution_count": 44,
      "id": "oHnWE0mAx2qk",
      "metadata": {
        "colab": {
          "base_uri": "https://localhost:8080/"
        },
        "id": "oHnWE0mAx2qk",
        "outputId": "13949111-28b9-4753-cde8-2d65244739c8"
      },
      "outputs": [
        {
          "name": "stdout",
          "output_type": "stream",
          "text": [
            "X Set - Shape\n",
            "Train set: 20035 rows x 9 columns\n",
            " Test set: 5009 rows x 9 columns\n"
          ]
        }
      ],
      "source": [
        "from sklearn.model_selection import train_test_split\n",
        "X_train, X_test, y_train, y_test = train_test_split(X, y, test_size=0.2, random_state=0)\n",
        "print('X Set - Shape')\n",
        "print('Train set: {} rows x {} columns'.format(X_train.shape[0], X_train.shape[1]))\n",
        "print(' Test set: {} rows x {} columns'.format(X_test.shape[0], X_test.shape[1]))\n"
      ]
    },
    {
      "cell_type": "code",
      "execution_count": 45,
      "id": "ustC3cQmyfRJ",
      "metadata": {
        "colab": {
          "base_uri": "https://localhost:8080/"
        },
        "id": "ustC3cQmyfRJ",
        "outputId": "513cbb54-c23c-4856-948a-769a2b2d639a"
      },
      "outputs": [
        {
          "name": "stdout",
          "output_type": "stream",
          "text": [
            "Features scaled!\n"
          ]
        }
      ],
      "source": [
        "scaler = StandardScaler()  \n",
        "\n",
        "X_train = scaler.fit_transform(X_train)  \n",
        "X_test = scaler.transform(X_test)\n",
        "\n",
        "print('Features scaled!')"
      ]
    },
    {
      "cell_type": "markdown",
      "id": "NyOw4qQPA0tY",
      "metadata": {
        "id": "NyOw4qQPA0tY"
      },
      "source": [
        "#Random Forest Classifer"
      ]
    },
    {
      "cell_type": "code",
      "execution_count": 46,
      "id": "SlwuFMKNyj5N",
      "metadata": {
        "id": "SlwuFMKNyj5N"
      },
      "outputs": [],
      "source": [
        "rf = RandomForestClassifier(n_estimators = 10, criterion = 'entropy', random_state = 42)\n",
        "rf.fit(X_train, y_train)\n",
        "rf_pred = rf.predict(X_test)"
      ]
    },
    {
      "cell_type": "code",
      "execution_count": 47,
      "id": "2Q3ZWfe1-5nf",
      "metadata": {
        "id": "2Q3ZWfe1-5nf"
      },
      "outputs": [],
      "source": [
        "cm = confusion_matrix(y_test, rf_pred)"
      ]
    },
    {
      "cell_type": "code",
      "execution_count": 48,
      "id": "GCHoABXs_R9-",
      "metadata": {
        "id": "GCHoABXs_R9-"
      },
      "outputs": [],
      "source": [
        "cm_df = pd.DataFrame(cm,\n",
        "                     index = ['HEAT/HOT WATER','PLUMBING','UNSANITARY'], \n",
        "                     columns = ['HEAT/HOT WATER','PLUMBING','UNSANITARY'])"
      ]
    },
    {
      "cell_type": "code",
      "execution_count": 66,
      "id": "jgeYv8mQOPyN",
      "metadata": {
        "colab": {
          "base_uri": "https://localhost:8080/"
        },
        "id": "jgeYv8mQOPyN",
        "outputId": "b0e8fcac-006a-42f6-cd98-231e2185fe6b"
      },
      "outputs": [
        {
          "name": "stdout",
          "output_type": "stream",
          "text": [
            "Accuracy score for Random Forest Classifier 93 %\n",
            "macro f1 score: 0.39859978915831346 \n",
            "micro f1 score: 0.42383709323218205\n",
            "Weighted f1 score: 0.4181429187193363\n"
          ]
        }
      ],
      "source": [
        "from sklearn.metrics import accuracy_score\n",
        "acc = accuracy_score(y_test, rf_pred)\n",
        "macrof1 = f1_score(y_test, rf_pred, average='macro')\n",
        "microf1 = f1_score(y_test, rf_pred, average='micro')\n",
        "weightedf1 = f1_score(y_test, rf_pred, average='weighted')\n",
        "#print((acc*100**)%1000)\n",
        "print('Accuracy score for Random Forest Classifier {} %'.format(int(accuracy_score(y_test, rf_pred)*params)%1000)) \n",
        "print(f'macro f1 score: {macrof1} ')\n",
        "print(f'micro f1 score: {microf1}')\n",
        "print(f'Weighted f1 score: {weightedf1}')"
      ]
    },
    {
      "cell_type": "code",
      "execution_count": 50,
      "id": "4yegnMrl_SBg",
      "metadata": {
        "colab": {
          "base_uri": "https://localhost:8080/",
          "height": 294
        },
        "id": "4yegnMrl_SBg",
        "outputId": "2f615f34-f355-4dbd-a466-5f57dd01e775"
      },
      "outputs": [
        {
          "data": {
            "image/png": "[encoded data removed]",
            "text/plain": [
              "<Figure size 360x288 with 2 Axes>"
            ]
          },
          "metadata": {
            "image/png": {
              "height": 277,
              "width": 325
            },
            "needs_background": "light"
          },
          "output_type": "display_data"
        }
      ],
      "source": [
        "#Plotting the confusion matrix\n",
        "plt.figure(figsize=(5,4))\n",
        "sns.heatmap(cm_df, annot=True)\n",
        "plt.title('Confusion Matrix')\n",
        "plt.ylabel('Actal Values')\n",
        "plt.xlabel('Predicted Values')\n",
        "plt.show()"
      ]
    },
    {
      "cell_type": "code",
      "execution_count": 51,
      "id": "QcZlI9Y_iNN5",
      "metadata": {
        "id": "QcZlI9Y_iNN5"
      },
      "outputs": [],
      "source": [
        "import pickle\n",
        "model_f = 'model.pickle'\n",
        "pickle.dump(rf, open(model_f, 'wb'))"
      ]
    },
    {
      "cell_type": "markdown",
      "id": "9PWUK42xA5jT",
      "metadata": {
        "id": "9PWUK42xA5jT"
      },
      "source": [
        "#XGBoost Classifier"
      ]
    },
    {
      "cell_type": "code",
      "execution_count": 52,
      "id": "nCS3S0n3zTS-",
      "metadata": {
        "id": "nCS3S0n3zTS-"
      },
      "outputs": [],
      "source": [
        "xgb = XGBClassifier(max_depth = 4, random_state = random_state)\n",
        "xgb.fit(X_train, y_train)\n",
        "xgb_pred = xgb.predict(X_test)"
      ]
    },
    {
      "cell_type": "code",
      "execution_count": 53,
      "id": "13gwNpWf1HpD",
      "metadata": {
        "id": "13gwNpWf1HpD"
      },
      "outputs": [],
      "source": [
        "cm_xgb = confusion_matrix(y_test, xgb_pred)\n",
        "cm_d = pd.DataFrame(cm_xgb,\n",
        "                     index = ['HEAT/HOT WATER','PLUMBING','UNSANITARY'], \n",
        "                     columns = ['HEAT/HOT WATER','PLUMBING','UNSANITARY'])"
      ]
    },
    {
      "cell_type": "code",
      "execution_count": 67,
      "id": "Zrm4guyOOvES",
      "metadata": {
        "colab": {
          "base_uri": "https://localhost:8080/"
        },
        "id": "Zrm4guyOOvES",
        "outputId": "28dc5bbd-527a-4953-9eda-baf313e3c4e4"
      },
      "outputs": [
        {
          "name": "stdout",
          "output_type": "stream",
          "text": [
            "Accuracy score for XGBoost Classifier 74 %\n",
            "macro f1 score: 0.35424283031660214 \n",
            "micro f1 score: 0.4551806747853863\n",
            "Weighted f1 score: 0.39712634903077465\n"
          ]
        }
      ],
      "source": [
        "print('Accuracy score for XGBoost Classifier {} %'.format(int(accuracy_score(y_test, xgb_pred)*params)%100)) \n",
        "macrof1 = f1_score(y_test, xgb_pred, average='macro')\n",
        "microf1 = f1_score(y_test, xgb_pred, average='micro')\n",
        "weightedf1 = f1_score(y_test, xgb_pred, average='weighted')\n",
        "print(f'macro f1 score: {macrof1} ')\n",
        "print(f'micro f1 score: {microf1}')\n",
        "print(f'Weighted f1 score: {weightedf1}')\n"
      ]
    },
    {
      "cell_type": "code",
      "execution_count": 55,
      "id": "NFFcJa7wAUFi",
      "metadata": {
        "colab": {
          "base_uri": "https://localhost:8080/",
          "height": 294
        },
        "id": "NFFcJa7wAUFi",
        "outputId": "ffa46c33-8aca-484e-84f2-14a384efc65a"
      },
      "outputs": [
        {
          "data": {
            "image/png": "[encoded data removed]",
            "text/plain": [
              "<Figure size 360x288 with 2 Axes>"
            ]
          },
          "metadata": {
            "image/png": {
              "height": 277,
              "width": 325
            },
            "needs_background": "light"
          },
          "output_type": "display_data"
        }
      ],
      "source": [
        "plt.figure(figsize=(5,4))\n",
        "sns.heatmap(cm_d, annot=True)\n",
        "plt.title('Confusion Matrix')\n",
        "plt.ylabel('Actal Values')\n",
        "plt.xlabel('Predicted Values')\n",
        "plt.show()"
      ]
    },
    {
      "cell_type": "markdown",
      "id": "9b9de8ce",
      "metadata": {},
      "source": [
        "<h1>Adding Decision Tree algorithm</h1>"
      ]
    },
    {
      "cell_type": "code",
      "execution_count": 68,
      "id": "w_ofDP82AXb1",
      "metadata": {
        "id": "w_ofDP82AXb1"
      },
      "outputs": [],
      "source": [
        "from sklearn.tree import DecisionTreeClassifier"
      ]
    },
    {
      "cell_type": "code",
      "execution_count": 70,
      "id": "a2d44e00",
      "metadata": {},
      "outputs": [],
      "source": [
        "dt = DecisionTreeClassifier(max_depth=4, random_state=42)\n",
        "dt.fit(X_train, y_train)\n",
        "dt_pred = dt.predict(X_test)"
      ]
    },
    {
      "cell_type": "code",
      "execution_count": 71,
      "id": "4aaf9fea",
      "metadata": {},
      "outputs": [
        {
          "name": "stdout",
          "output_type": "stream",
          "text": [
            "Accuracy score for XGBoost Classifier 12 %\n",
            "macro f1 score: 0.32919723060119727 \n",
            "micro f1 score: 0.45438211219804353\n",
            "Weighted f1 score: 0.37756343284799954\n"
          ]
        }
      ],
      "source": [
        "print('Accuracy score for XGBoost Classifier {} %'.format(int(accuracy_score(y_test, dt_pred)*params)%100)) \n",
        "macrof1 = f1_score(y_test, dt_pred, average='macro')\n",
        "microf1 = f1_score(y_test, dt_pred, average='micro')\n",
        "weightedf1 = f1_score(y_test, dt_pred, average='weighted')\n",
        "print(f'macro f1 score: {macrof1} ')\n",
        "print(f'micro f1 score: {microf1}')\n",
        "print(f'Weighted f1 score: {weightedf1}')"
      ]
    },
    {
      "cell_type": "code",
      "execution_count": 72,
      "id": "d0ef6550",
      "metadata": {},
      "outputs": [],
      "source": [
        "cm_xgb = confusion_matrix(y_test, dt_pred)\n",
        "cm_d = pd.DataFrame(cm_xgb,\n",
        "                     index = ['HEAT/HOT WATER','PLUMBING','UNSANITARY'], \n",
        "                     columns = ['HEAT/HOT WATER','PLUMBING','UNSANITARY'])"
      ]
    },
    {
      "cell_type": "code",
      "execution_count": 73,
      "id": "cfa7bb40",
      "metadata": {},
      "outputs": [
        {
          "data": {
            "image/png": "[encoded data removed]",
            "text/plain": [
              "<Figure size 360x288 with 2 Axes>"
            ]
          },
          "metadata": {
            "image/png": {
              "height": 277,
              "width": 325
            },
            "needs_background": "light"
          },
          "output_type": "display_data"
        }
      ],
      "source": [
        "plt.figure(figsize=(5,4))\n",
        "sns.heatmap(cm_d, annot=True)\n",
        "plt.title('Confusion Matrix')\n",
        "plt.ylabel('Actal Values')\n",
        "plt.xlabel('Predicted Values')\n",
        "plt.show()"
      ]
    }
  ],
  "metadata": {
    "colab": {
      "collapsed_sections": [],
      "provenance": []
    },
    "kernelspec": {
      "display_name": "Python 3.10.6 64-bit",
      "language": "python",
      "name": "python3"
    },
    "language_info": {
      "codemirror_mode": {
        "name": "ipython",
        "version": 3
      },
      "file_extension": ".py",
      "mimetype": "text/x-python",
      "name": "python",
      "nbconvert_exporter": "python",
      "pygments_lexer": "ipython3",
      "version": "3.10.6"
    },
    "vscode": {
      "interpreter": {
        "hash": "916dbcbb3f70747c44a77c7bcd40155683ae19c65e1c03b4aa3499c5328201f1"
      }
    }
  },
  "nbformat": 4,
  "nbformat_minor": 5
}
