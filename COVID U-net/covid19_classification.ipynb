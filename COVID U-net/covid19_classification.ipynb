{
  "cells": [
    {
      "cell_type": "code",
      "source": [
        "from google.colab import drive\n",
        "drive.mount('/content/gdrive')"
      ],
      "metadata": {
        "id": "AuRqO8y-uoFX"
      },
      "execution_count": null,
      "outputs": []
    },
    {
      "cell_type": "code",
      "source": [
        "from zipfile import ZipFile"
      ],
      "metadata": {
        "id": "3jezqGT-xRbE"
      },
      "execution_count": null,
      "outputs": []
    },
    {
      "cell_type": "code",
      "source": [
        "file_name = r'/content/gdrive/MyDrive/archive.zip'"
      ],
      "metadata": {
        "id": "ca88_JSbxi3X"
      },
      "execution_count": null,
      "outputs": []
    },
    {
      "cell_type": "code",
      "source": [
        "# with ZipFile(file_name, 'r') as zip:\n",
        "#     zip.extractall()"
      ],
      "metadata": {
        "id": "__Fz1Zr3xrv4"
      },
      "execution_count": null,
      "outputs": []
    },
    {
      "cell_type": "code",
      "source": [
        "dir = r'/content/COVID-19_Radiography_Dataset'"
      ],
      "metadata": {
        "id": "7WiMjrphwC4-"
      },
      "execution_count": null,
      "outputs": []
    },
    {
      "cell_type": "code",
      "execution_count": null,
      "metadata": {
        "id": "s5jDdQe1unBt"
      },
      "outputs": [],
      "source": [
        "import os\n",
        "import requests"
      ]
    },
    {
      "cell_type": "code",
      "execution_count": null,
      "metadata": {
        "id": "qM4qU3GMunBw"
      },
      "outputs": [],
      "source": [
        "for folder in os.listdir(dir):\n",
        "    if os.path.isdir(os.path.join(dir, folder)):\n",
        "        for subfolder in os.listdir(os.path.join(dir, folder)):\n",
        "            print(folder, subfolder, len(os.listdir(os.path.join(dir, folder, subfolder))))"
      ]
    },
    {
      "cell_type": "code",
      "execution_count": null,
      "metadata": {
        "id": "8L-usrpYunBx"
      },
      "outputs": [],
      "source": [
        "import cv2\n",
        "import numpy as np\n",
        "import matplotlib.pyplot as plt\n",
        "%matplotlib inline\n",
        "import seaborn as sns\n",
        "import pandas as pd\n",
        "import tensorflow as tf"
      ]
    },
    {
      "cell_type": "code",
      "execution_count": null,
      "metadata": {
        "id": "kNJohGCBunBx"
      },
      "outputs": [],
      "source": [
        "for folder in os.listdir(dir):\n",
        "    if os.path.isdir(os.path.join(dir, folder)):\n",
        "        for subfolder in os.listdir(os.path.join(dir, folder)):\n",
        "          if subfolder == 'images':\n",
        "            print(folder, subfolder)\n",
        "            img = cv2.imread(os.path.join(dir, folder, subfolder, os.listdir(os.path.join(dir, folder, subfolder))[0]))\n",
        "            print('image shape {}'.format(img.shape))\n",
        "            plt.imshow(img)\n",
        "            plt.show()"
      ]
    },
    {
      "cell_type": "code",
      "execution_count": null,
      "metadata": {
        "id": "7wePriqyunBx"
      },
      "outputs": [],
      "source": [
        "def load_images(path, urls, target):\n",
        "    images = []\n",
        "    labels = []\n",
        "    for i in range(len(urls)) :\n",
        "        img_path = path + '/' + urls[i]\n",
        "        img = cv2.imread(img_path)\n",
        "        img = img / 255.0\n",
        "        img = cv2.resize(img, (50, 50))\n",
        "        images.append(img)\n",
        "        labels.append(target)\n",
        "    images = np.array(images)\n",
        "    print(images.shape)\n",
        "    return images, labels"
      ]
    },
    {
      "cell_type": "code",
      "execution_count": null,
      "metadata": {
        "id": "UJsnB1yrunBy"
      },
      "outputs": [],
      "source": [
        "for folder in os.listdir(dir):\n",
        "    if os.path.isdir(os.path.join(dir, folder)):\n",
        "        if folder == 'COVID':\n",
        "            for subfolder in os.listdir(os.path.join(dir, folder)):\n",
        "                if subfolder == 'images':\n",
        "                  covid_path = os.path.join(dir, folder, subfolder)\n",
        "                  covid_urls = os.listdir(covid_path)\n",
        "                  covid_images, covid_target = load_images(covid_path , covid_urls, 1)"
      ]
    },
    {
      "cell_type": "code",
      "execution_count": null,
      "metadata": {
        "id": "FYbJU0-qunBy"
      },
      "outputs": [],
      "source": [
        "for folder in os.listdir(dir):\n",
        "    if os.path.isdir(os.path.join(dir, folder)):\n",
        "        if folder == 'Lung_Opacity':\n",
        "            for subfolder in os.listdir(os.path.join(dir, folder)):\n",
        "                if subfolder == 'images':\n",
        "                  covid_path = os.path.join(dir, folder, subfolder)\n",
        "                  covid_urls = os.listdir(covid_path)\n",
        "                  mid_covid_images, mid_covid_target = load_images(covid_path , covid_urls, 2)"
      ]
    },
    {
      "cell_type": "code",
      "execution_count": null,
      "metadata": {
        "id": "EvW1jdJNunBz"
      },
      "outputs": [],
      "source": [
        "for folder in os.listdir(dir):\n",
        "    if os.path.isdir(os.path.join(dir, folder)):\n",
        "        if folder == 'Normal':\n",
        "            for subfolder in os.listdir(os.path.join(dir, folder)):\n",
        "                if subfolder == 'images':\n",
        "                  covid_path = os.path.join(dir, folder, subfolder)\n",
        "                  covid_urls = os.listdir(covid_path)\n",
        "                  no_covid_images, no_covid_target = load_images(covid_path , covid_urls, 0)"
      ]
    },
    {
      "cell_type": "code",
      "execution_count": null,
      "metadata": {
        "id": "q689thDVunBz"
      },
      "outputs": [],
      "source": [
        "for folder in os.listdir(dir):\n",
        "    if os.path.isdir(os.path.join(dir, folder)):\n",
        "        if folder == 'Viral Pneumonia':\n",
        "            for subfolder in os.listdir(os.path.join(dir, folder)):\n",
        "                if subfolder == 'images':\n",
        "                  covid_path = os.path.join(dir, folder, subfolder)\n",
        "                  covid_urls = os.listdir(covid_path)\n",
        "                  low_covid_images, low_covid_target = load_images(covid_path , covid_urls, 3)"
      ]
    },
    {
      "cell_type": "code",
      "execution_count": null,
      "metadata": {
        "id": "DLdniWx8unB0"
      },
      "outputs": [],
      "source": [
        "low_covid_images.shape"
      ]
    },
    {
      "cell_type": "code",
      "execution_count": null,
      "metadata": {
        "id": "oEAJA3eBunB0"
      },
      "outputs": [],
      "source": [
        "all_data = np.r_[covid_images, no_covid_images, mid_covid_images, low_covid_images]"
      ]
    },
    {
      "cell_type": "code",
      "execution_count": null,
      "metadata": {
        "id": "AnSU3yuxunB0"
      },
      "outputs": [],
      "source": [
        "all_data.shape"
      ]
    },
    {
      "cell_type": "code",
      "execution_count": null,
      "metadata": {
        "id": "afQXa3DtunB0"
      },
      "outputs": [],
      "source": [
        "targets = np.r_[covid_target, no_covid_target, mid_covid_target, low_covid_target]\n",
        "targets.shape"
      ]
    },
    {
      "cell_type": "code",
      "execution_count": null,
      "metadata": {
        "id": "vROH28tbunB1"
      },
      "outputs": [],
      "source": [
        "from sklearn.model_selection import train_test_split\n",
        "\n",
        "X_train, X_test, y_train, y_test = train_test_split(all_data, targets, test_size=0.2)"
      ]
    },
    {
      "cell_type": "code",
      "execution_count": null,
      "metadata": {
        "id": "v15cPf9sunB1"
      },
      "outputs": [],
      "source": [
        "from tensorflow.keras.models import Sequential\n",
        "from tensorflow.keras.layers import Conv2D, MaxPooling2D, Flatten, Dense"
      ]
    },
    {
      "cell_type": "code",
      "execution_count": null,
      "metadata": {
        "id": "1XPMj_-nunB1"
      },
      "outputs": [],
      "source": [
        "model = Sequential()\n",
        "model.add(Conv2D(32, 3, input_shape=(50,50,3), activation='relu'))\n",
        "model.add(MaxPooling2D())\n",
        "model.add(Conv2D(16, 3, activation='relu'))\n",
        "model.add(MaxPooling2D())\n",
        "model.add(Conv2D(16, 3, activation='relu'))\n",
        "model.add(MaxPooling2D())\n",
        "model.add(Conv2D(16, 3, activation='relu'))\n",
        "model.add(MaxPooling2D())\n",
        "model.add(Flatten())\n",
        "model.add(Dense(512, activation='relu'))\n",
        "model.add(Dense(512, activation='relu'))\n",
        "model.add(Dense(256, activation='relu'))\n",
        "model.add(Dense(4, activation='softmax'))"
      ]
    },
    {
      "cell_type": "code",
      "execution_count": null,
      "metadata": {
        "id": "UZvrLlp1unB1"
      },
      "outputs": [],
      "source": [
        "model.summary()"
      ]
    },
    {
      "cell_type": "code",
      "execution_count": null,
      "metadata": {
        "id": "vQ5fyEJ5unB2"
      },
      "outputs": [],
      "source": [
        "model.compile(optimizer='adam',loss = tf.keras.losses.SparseCategoricalCrossentropy(from_logits=True),\n",
        "              metrics=['accuracy'])"
      ]
    },
    {
      "cell_type": "code",
      "execution_count": null,
      "metadata": {
        "id": "npfPJ7kBunB2"
      },
      "outputs": [],
      "source": [
        "model.fit(X_train, y_train, batch_size=32, epochs=30, validation_data=(X_test, y_test))"
      ]
    },
    {
      "cell_type": "code",
      "execution_count": null,
      "metadata": {
        "id": "wreBYXRyunB2"
      },
      "outputs": [],
      "source": [
        "def get_metrics(history):\n",
        "    fig = plt.figure(figsize = (10,10))\n",
        "    plt.subplot(2,2,1)\n",
        "    plt.plot(history.history[\"accuracy\"], label = \"training accuracy\")\n",
        "    plt.plot(history.history[\"val_accuracy\"], label = \"test accuracy\")\n",
        "    plt.legend()\n",
        "    plt.xlabel(\"Epoch\")\n",
        "    plt.ylabel(\"Accuracy\")\n",
        "\n",
        "    plt.subplot(2,2,2)\n",
        "    plt.plot(history.history[\"loss\"], label = \"train loss\")\n",
        "    plt.plot(history.history[\"val_loss\"], label = \"test loss\")\n",
        "    plt.legend()\n",
        "    plt.xlabel(\"Epoch\")\n",
        "    plt.ylabel(\"Loss\")"
      ]
    },
    {
      "cell_type": "code",
      "source": [
        "history = model.history\n",
        "get_metrics(history)"
      ],
      "metadata": {
        "id": "CmiDxowJ6XJE"
      },
      "execution_count": null,
      "outputs": []
    },
    {
      "cell_type": "code",
      "source": [
        "model.save('covid_classification.h5')"
      ],
      "metadata": {
        "id": "OOTG2CeF6Y_M"
      },
      "execution_count": null,
      "outputs": []
    },
    {
      "cell_type": "code",
      "source": [
        "model_to_predict = tf.keras.models.load_model('covid_classification.h5')\n",
        "def predict_covid(test_image):\n",
        "  img = cv2.imread(test_image)\n",
        "  img = img / 255.0\n",
        "  img = cv2.resize(img, (50, 50))\n",
        "  img = img.reshape(1,50,50,3)\n",
        "  prediction = model_to_predict.predict(img)\n",
        "  pred_class = np.argmax(prediction, axis = -1)\n",
        "  return pred_class"
      ],
      "metadata": {
        "id": "g7naf0SZ6kcB"
      },
      "execution_count": null,
      "outputs": []
    },
    {
      "cell_type": "code",
      "source": [
        "print(predict_covid(r'/content/COVID-19_Radiography_Dataset/COVID/images/COVID-1.png'))"
      ],
      "metadata": {
        "id": "mZjXVImM75hH"
      },
      "execution_count": null,
      "outputs": []
    },
    {
      "cell_type": "code",
      "source": [],
      "metadata": {
        "id": "v4CZGn8Y8RXa"
      },
      "execution_count": null,
      "outputs": []
    }
  ],
  "metadata": {
    "kernelspec": {
      "display_name": "Python 3.10.6 64-bit",
      "language": "python",
      "name": "python3"
    },
    "language_info": {
      "codemirror_mode": {
        "name": "ipython",
        "version": 3
      },
      "file_extension": ".py",
      "mimetype": "text/x-python",
      "name": "python",
      "nbconvert_exporter": "python",
      "pygments_lexer": "ipython3",
      "version": "3.10.6"
    },
    "orig_nbformat": 4,
    "vscode": {
      "interpreter": {
        "hash": "916dbcbb3f70747c44a77c7bcd40155683ae19c65e1c03b4aa3499c5328201f1"
      }
    },
    "colab": {
      "private_outputs": true,
      "provenance": []
    },
    "accelerator": "GPU",
    "gpuClass": "standard"
  },
  "nbformat": 4,
  "nbformat_minor": 0
}