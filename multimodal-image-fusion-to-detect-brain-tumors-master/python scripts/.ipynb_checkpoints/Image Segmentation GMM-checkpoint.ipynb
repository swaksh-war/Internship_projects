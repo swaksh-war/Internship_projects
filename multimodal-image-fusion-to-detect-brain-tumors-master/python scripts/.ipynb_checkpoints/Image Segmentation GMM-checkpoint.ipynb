{
 "cells": [
  {
   "cell_type": "code",
   "execution_count": 4,
   "metadata": {},
   "outputs": [],
   "source": [
    "import numpy as np\n",
    "import cv2\n",
    "from sklearn.mixture import GaussianMixture as GMM"
   ]
  },
  {
   "cell_type": "code",
   "execution_count": null,
   "metadata": {},
   "outputs": [],
   "source": [
    "for i in range(1,39):\n",
    "    path=\"../dataset/Fused images to be used for segmentation/\"+str(i)+\".jpg\"\n",
    "    img = cv2.imread(path)\n",
    "    img2 = img.reshape((-1,3))\n",
    "\n",
    "    gmm_model = GMM(n_components=4, covariance_type='tied').fit(img2)  \n",
    "    gmm_labels = gmm_model.predict(img2)\n",
    "\n",
    "    original_shape = img.shape\n",
    "    segmented = gmm_labels.reshape(original_shape[0], original_shape[1])\n",
    "    save_to_path=\"../dataset/Image Segmentation GMM/\"+str(i)+\".jpg\"\n",
    "    cv2.imwrite(save_to_path, segmented)"
   ]
  }
 ],
 "metadata": {
  "kernelspec": {
   "display_name": "Python 3",
   "language": "python",
   "name": "python3"
  },
  "language_info": {
   "codemirror_mode": {
    "name": "ipython",
    "version": 3
   },
   "file_extension": ".py",
   "mimetype": "text/x-python",
   "name": "python",
   "nbconvert_exporter": "python",
   "pygments_lexer": "ipython3",
   "version": "3.7.1"
  }
 },
 "nbformat": 4,
 "nbformat_minor": 4
}
